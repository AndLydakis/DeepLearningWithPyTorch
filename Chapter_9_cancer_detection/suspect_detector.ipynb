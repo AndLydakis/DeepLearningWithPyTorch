{
 "cells": [
  {
   "cell_type": "markdown",
   "metadata": {
    "collapsed": true,
    "pycharm": {
     "name": "#%% md\n"
    }
   },
   "source": [
    "#### Detecting Suspect Tumors\n",
    "\n",
    "* Load Model\n",
    "* For a random number of epochs\n",
    "    * Loop over each training batch\n",
    "    * Process batch with DataLoader\n",
    "    * Classify\n",
    "    * Calculate Loss\n",
    "    * Record metrics\n",
    "    * Update Weights\n",
    "    * Loop over validation batch\n",
    "    * Classify and calculate loss\n",
    "    * Record Info\n",
    "    * Printout progress"
   ]
  },
  {
   "cell_type": "code",
   "execution_count": 1,
   "outputs": [],
   "source": [
    "%matplotlib inline\n",
    "import numpy as np\n",
    "import datetime\n",
    "from luna_util.util import importstr\n",
    "from luna_util.logconf import logging\n",
    "log = logging.getLogger('nb')\n",
    "\n",
    "from  cancer_detector.dsets import getCandidateInfoList, getCt, LunaDataset"
   ],
   "metadata": {
    "collapsed": false,
    "pycharm": {
     "name": "#%%\n"
    }
   }
  },
  {
   "cell_type": "code",
   "execution_count": 6,
   "outputs": [
    {
     "name": "stdout",
     "output_type": "stream",
     "text": [
      "Running: cancer_detector.training.LunaTrainingApp(['--num-workers=4', '--epochs=1']).main()\n"
     ]
    },
    {
     "name": "stderr",
     "output_type": "stream",
     "text": [
      "usage: ipykernel_launcher.py [-h] [--num-workers NUM_WORKERS]\n",
      "ipykernel_launcher.py: error: unrecognized arguments: --epochs=1\n",
      "/home/dyson.global.corp/alydakis/PycharmProjects/DLPythorch/venv/lib/python3.6/site-packages/IPython/core/interactiveshell.py:3334: UserWarning: To exit: use 'exit', 'quit', or Ctrl-D.\n",
      "  warn(\"To exit: use 'exit', 'quit', or Ctrl-D.\", stacklevel=1)\n"
     ]
    },
    {
     "ename": "SystemExit",
     "evalue": "2",
     "output_type": "error",
     "traceback": [
      "An exception has occurred, use %tb to see the full traceback.\n",
      "\u001B[0;31mSystemExit\u001B[0m\u001B[0;31m:\u001B[0m 2\n"
     ]
    }
   ],
   "source": [
    "def run(app, *argv):\n",
    "    argv = list(argv)\n",
    "    argv.insert(0, '--num-workers=4')\n",
    "    log('Running: {}({!r}).main()'.format(app, argv))\n",
    "    app_cls = importstr(*app.rsplit('.', 1))\n",
    "    app_cls(argv).main()\n",
    "    log('Finished: {}({!r})main()'.format(app, argv))\n",
    "\n",
    "run('cancer_detector.training.LunaTrainingApp', '--epochs=1')"
   ],
   "metadata": {
    "collapsed": false,
    "pycharm": {
     "name": "#%%\n"
    }
   }
  }
 ],
 "metadata": {
  "kernelspec": {
   "display_name": "Python 3",
   "language": "python",
   "name": "python3"
  },
  "language_info": {
   "codemirror_mode": {
    "name": "ipython",
    "version": 2
   },
   "file_extension": ".py",
   "mimetype": "text/x-python",
   "name": "python",
   "nbconvert_exporter": "python",
   "pygments_lexer": "ipython2",
   "version": "2.7.6"
  }
 },
 "nbformat": 4,
 "nbformat_minor": 0
}