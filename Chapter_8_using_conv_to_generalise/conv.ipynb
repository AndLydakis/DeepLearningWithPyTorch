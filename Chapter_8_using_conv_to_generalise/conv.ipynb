{
 "cells": [
  {
   "cell_type": "markdown",
   "source": [
    "### Convolution in Action\n"
   ],
   "metadata": {
    "collapsed": false,
    "pycharm": {
     "name": "#%% md\n"
    }
   }
  },
  {
   "cell_type": "code",
   "execution_count": 2,
   "outputs": [
    {
     "data": {
      "text/plain": "<torch._C.Generator at 0x7f35d1549a20>"
     },
     "execution_count": 2,
     "metadata": {},
     "output_type": "execute_result"
    }
   ],
   "source": [
    "%matplotlib inline\n",
    "from matplotlib import pyplot as plt\n",
    "import numpy as np\n",
    "import collections\n",
    "\n",
    "import torch\n",
    "import torch.nn as nn\n",
    "import torch.nn.functional as F\n",
    "import datetime\n",
    "import torch.optim as optim\n",
    "from torchvision import datasets, transforms\n",
    "\n",
    "\n",
    "torch.set_printoptions(edgeitems=2)\n",
    "torch.manual_seed(123)"
   ],
   "metadata": {
    "collapsed": false,
    "pycharm": {
     "name": "#%%\n"
    }
   }
  },
  {
   "cell_type": "code",
   "execution_count": 3,
   "outputs": [
    {
     "name": "stdout",
     "output_type": "stream",
     "text": [
      "Files already downloaded and verified\n"
     ]
    }
   ],
   "source": [
    "class_names = ['airplane','automobile','bird','cat','deer',\n",
    "               'dog','frog','horse','ship','truck']\n",
    "data_path = '../orig_data/p1ch6/'\n",
    "cifar10 = datasets.CIFAR10(\n",
    "    data_path, train=True, download=True,\n",
    "    transform=transforms.Compose([\n",
    "        transforms.ToTensor(),\n",
    "        transforms.Normalize((0.4915, 0.4823, 0.4468),\n",
    "                             (0.2470, 0.2435, 0.2616))\n",
    "    ]))"
   ],
   "metadata": {
    "collapsed": false,
    "pycharm": {
     "name": "#%%\n"
    }
   }
  },
  {
   "cell_type": "code",
   "execution_count": 4,
   "outputs": [
    {
     "name": "stdout",
     "output_type": "stream",
     "text": [
      "Files already downloaded and verified\n"
     ]
    }
   ],
   "source": [
    "cifar10_val = datasets.CIFAR10(\n",
    "    data_path, train=False, download=True,\n",
    "    transform=transforms.Compose([\n",
    "        transforms.ToTensor(),\n",
    "        transforms.Normalize((0.4915, 0.4823, 0.4468),\n",
    "                             (0.2470, 0.2435, 0.2616))\n",
    "    ]))"
   ],
   "metadata": {
    "collapsed": false,
    "pycharm": {
     "name": "#%%\n"
    }
   }
  },
  {
   "cell_type": "code",
   "execution_count": 5,
   "outputs": [],
   "source": [
    "label_map = {0: 0, 2: 1}\n",
    "class_names = ['airplane', 'bird']\n",
    "cifar2 = [(img, label_map[label])\n",
    "          for img, label in cifar10\n",
    "          if label in [0, 2]]\n",
    "cifar2_val = [(img, label_map[label])\n",
    "              for img, label in cifar10_val\n",
    "              if label in [0, 2]]"
   ],
   "metadata": {
    "collapsed": false,
    "pycharm": {
     "name": "#%%\n"
    }
   }
  },
  {
   "cell_type": "code",
   "execution_count": 5,
   "outputs": [],
   "source": [
    "connected_model = nn.Sequential(\n",
    "            nn.Linear(3072, 1024),\n",
    "            nn.Tanh(),\n",
    "            nn.Linear(1024, 512),\n",
    "            nn.Tanh(),\n",
    "            nn.Linear(512, 128),\n",
    "            nn.Tanh(),\n",
    "            nn.Linear(128, 2))"
   ],
   "metadata": {
    "collapsed": false,
    "pycharm": {
     "name": "#%%\n"
    }
   }
  },
  {
   "cell_type": "code",
   "execution_count": 6,
   "outputs": [
    {
     "data": {
      "text/plain": "(3737474, [3145728, 1024, 524288, 512, 65536, 128, 256, 2])"
     },
     "execution_count": 6,
     "metadata": {},
     "output_type": "execute_result"
    }
   ],
   "source": [
    "numel_list = [p.numel()\n",
    "              for p in connected_model.parameters()\n",
    "              if p.requires_grad == True]\n",
    "sum(numel_list), numel_list"
   ],
   "metadata": {
    "collapsed": false,
    "pycharm": {
     "name": "#%%\n"
    }
   }
  },
  {
   "cell_type": "code",
   "execution_count": 7,
   "outputs": [
    {
     "data": {
      "text/plain": "Conv2d(3, 16, kernel_size=(3, 3), stride=(1, 1))"
     },
     "execution_count": 7,
     "metadata": {},
     "output_type": "execute_result"
    }
   ],
   "source": [
    "conv = nn.Conv2d(3, 16, kernel_size=3) #3 input channels, arbitrary output channels = 16\n",
    "# weight tensor = 16 output channels x 3 input channs x (3x3) kernel\n",
    "conv"
   ],
   "metadata": {
    "collapsed": false,
    "pycharm": {
     "name": "#%%\n"
    }
   }
  },
  {
   "cell_type": "code",
   "execution_count": 8,
   "outputs": [
    {
     "data": {
      "text/plain": "(torch.Size([16, 3, 3, 3]), torch.Size([16]))"
     },
     "execution_count": 8,
     "metadata": {},
     "output_type": "execute_result"
    }
   ],
   "source": [
    "conv.weight.shape, conv.bias.shape"
   ],
   "metadata": {
    "collapsed": false,
    "pycharm": {
     "name": "#%%\n"
    }
   }
  },
  {
   "cell_type": "code",
   "execution_count": 8,
   "outputs": [
    {
     "ename": "NameError",
     "evalue": "name 'conv' is not defined",
     "output_type": "error",
     "traceback": [
      "\u001B[0;31m---------------------------------------------------------------------------\u001B[0m",
      "\u001B[0;31mNameError\u001B[0m                                 Traceback (most recent call last)",
      "\u001B[0;32m<ipython-input-8-3c5bb8500af4>\u001B[0m in \u001B[0;36m<module>\u001B[0;34m\u001B[0m\n\u001B[1;32m      1\u001B[0m \u001B[0mimg\u001B[0m\u001B[0;34m,\u001B[0m \u001B[0m_\u001B[0m \u001B[0;34m=\u001B[0m \u001B[0mcifar2\u001B[0m\u001B[0;34m[\u001B[0m\u001B[0;36m0\u001B[0m\u001B[0;34m]\u001B[0m\u001B[0;34m\u001B[0m\u001B[0;34m\u001B[0m\u001B[0m\n\u001B[0;32m----> 2\u001B[0;31m \u001B[0moutput\u001B[0m \u001B[0;34m=\u001B[0m \u001B[0mconv\u001B[0m\u001B[0;34m(\u001B[0m\u001B[0mimg\u001B[0m\u001B[0;34m.\u001B[0m\u001B[0munsqueeze\u001B[0m\u001B[0;34m(\u001B[0m\u001B[0;36m0\u001B[0m\u001B[0;34m)\u001B[0m\u001B[0;34m)\u001B[0m\u001B[0;34m\u001B[0m\u001B[0;34m\u001B[0m\u001B[0m\n\u001B[0m\u001B[1;32m      3\u001B[0m \u001B[0mimg\u001B[0m\u001B[0;34m.\u001B[0m\u001B[0munsqueeze\u001B[0m\u001B[0;34m(\u001B[0m\u001B[0;36m0\u001B[0m\u001B[0;34m)\u001B[0m\u001B[0;34m.\u001B[0m\u001B[0mshape\u001B[0m\u001B[0;34m,\u001B[0m \u001B[0moutput\u001B[0m\u001B[0;34m.\u001B[0m\u001B[0mshape\u001B[0m\u001B[0;34m\u001B[0m\u001B[0;34m\u001B[0m\u001B[0m\n\u001B[1;32m      4\u001B[0m \u001B[0;34m\u001B[0m\u001B[0m\n",
      "\u001B[0;31mNameError\u001B[0m: name 'conv' is not defined"
     ]
    }
   ],
   "source": [
    "img, _ = cifar2[0]\n",
    "output = conv(img.unsqueeze(0))\n",
    "img.unsqueeze(0).shape, output.shape\n"
   ],
   "metadata": {
    "collapsed": false,
    "pycharm": {
     "name": "#%%\n"
    }
   }
  },
  {
   "cell_type": "code",
   "execution_count": 10,
   "outputs": [
    {
     "data": {
      "text/plain": "<Figure size 432x288 with 1 Axes>",
      "image/png": "[encoded data removed]"
     },
     "metadata": {
      "needs_background": "light"
     },
     "output_type": "display_data"
    }
   ],
   "source": [
    "plt.imshow(img.mean(0), cmap='gray')\n",
    "plt.show()"
   ],
   "metadata": {
    "collapsed": false,
    "pycharm": {
     "name": "#%%\n"
    }
   }
  },
  {
   "cell_type": "code",
   "execution_count": 11,
   "outputs": [
    {
     "data": {
      "text/plain": "<Figure size 432x288 with 1 Axes>",
      "image/png": "[encoded data removed]"
     },
     "metadata": {
      "needs_background": "light"
     },
     "output_type": "display_data"
    }
   ],
   "source": [
    "plt.imshow(output[0, 0].detach(), cmap='gray')\n",
    "plt.show()"
   ],
   "metadata": {
    "collapsed": false,
    "pycharm": {
     "name": "#%%\n"
    }
   }
  },
  {
   "cell_type": "markdown",
   "source": [
    "Pad the input to maintain size"
   ],
   "metadata": {
    "collapsed": false,
    "pycharm": {
     "name": "#%% md\n"
    }
   }
  },
  {
   "cell_type": "code",
   "execution_count": 12,
   "outputs": [
    {
     "data": {
      "text/plain": "(torch.Size([1, 3, 32, 32]), torch.Size([1, 1, 32, 32]))"
     },
     "execution_count": 12,
     "metadata": {},
     "output_type": "execute_result"
    }
   ],
   "source": [
    "conv = nn.Conv2d(3, 1, kernel_size=3, padding=1)\n",
    "output = conv(img.unsqueeze(0))\n",
    "img.unsqueeze(0).shape, output.shape\n"
   ],
   "metadata": {
    "collapsed": false,
    "pycharm": {
     "name": "#%%\n"
    }
   }
  },
  {
   "cell_type": "code",
   "execution_count": 13,
   "outputs": [
    {
     "data": {
      "text/plain": "<Figure size 432x288 with 1 Axes>",
      "image/png": "[encoded data removed]"
     },
     "metadata": {
      "needs_background": "light"
     },
     "output_type": "display_data"
    }
   ],
   "source": [
    "plt.imshow(output[0, 0].detach(), cmap='gray')\n",
    "plt.show()"
   ],
   "metadata": {
    "collapsed": false,
    "pycharm": {
     "name": "#%%\n"
    }
   }
  },
  {
   "cell_type": "markdown",
   "source": [
    "Downsampling:\n",
    "* Average neighbors\n",
    "* Maximum of neighbors\n",
    "* Strided convolution where only every Nth pixel is calculated\n",
    "\n",
    "<img src=\"../resources/max_pooling.jpg\" alt=\"max_pooling\" height=\"200\">"
   ],
   "metadata": {
    "collapsed": false,
    "pycharm": {
     "name": "#%% md\n"
    }
   }
  },
  {
   "cell_type": "code",
   "execution_count": 15,
   "outputs": [
    {
     "data": {
      "text/plain": "(torch.Size([1, 3, 32, 32]), torch.Size([1, 3, 16, 16]))"
     },
     "execution_count": 15,
     "metadata": {},
     "output_type": "execute_result"
    }
   ],
   "source": [
    "pool = nn.MaxPool2d(2)\n",
    "output = pool(img.unsqueeze(0))\n",
    "img.unsqueeze(0).shape, output.shape\n"
   ],
   "metadata": {
    "collapsed": false,
    "pycharm": {
     "name": "#%%\n"
    }
   }
  },
  {
   "cell_type": "markdown",
   "source": [
    "Conv -> MaxPool\n",
    "<img src=\"../resources/conv_max.jpg\" alt=\"conv_max\" height=\"200\">"
   ],
   "metadata": {
    "collapsed": false,
    "pycharm": {
     "name": "#%% md\n"
    }
   }
  },
  {
   "cell_type": "code",
   "execution_count": null,
   "outputs": [],
   "source": [
    "model = nn.Sequential(\n",
    "    nn.Conv2d(3, 16, kernel_size=3, padding=1),# 16 channel 32x32 image\n",
    "    nn.Tanh(),\n",
    "    nn.MaxPool2d(2), # 16 channel 16x16 image\n",
    "    nn.Conv2d(16, 8, kernel_size=3, padding=1),  # 16 channel 8x8 image\n",
    "    nn.Tanh(),\n",
    "    nn.MaxPool2d(2), # 8 channel 8x8 image\n",
    "    ### <--- we need to convert 8c 8x8 to 512 dimensional 1D vector\n",
    "    nn.Linear(8*8*8, 32). # channel 8x8 image -> 1d vector -> 32 outputs\n",
    "    nn.Tanh(),\n",
    "    nn.Linearn(32, 2)\n",
    ")\n"
   ],
   "metadata": {
    "collapsed": false,
    "pycharm": {
     "name": "#%%\n"
    }
   }
  },
  {
   "cell_type": "markdown",
   "source": [
    "### Subclassing nn.Module"
   ],
   "metadata": {
    "collapsed": false,
    "pycharm": {
     "name": "#%% md\n"
    }
   }
  },
  {
   "cell_type": "code",
   "source": [
    "class Net(nn.Module):\n",
    "    def __init__(self):\n",
    "        super().__init__()\n",
    "        self.conv1 = nn.Conv2d(3, 16, kernel_size=3, padding=1)# 16 channel 32x32 image\n",
    "        self.act1 = nn.Tanh()\n",
    "        self.pool1 = nn.MaxPool2d(2) # 16 channel 16x16 image\n",
    "        self.conv2 = nn.Conv2d(16, 8, kernel_size=3, padding=1)  # 16 channel 8x8 image\n",
    "        self.act2 = nn.Tanh()\n",
    "        self.pool2 = nn.MaxPool2d(2) # 8 channel 8x8 image\n",
    "        ### <--- we need to convert 8c 8x8 to 512 dimensional 1D vector\n",
    "        self.fc1 = nn.Linear(8*8*8, 32) # channel 8x8 image -> 1d vector -> 32 outputs\n",
    "        self.act3 = nn.Tanh()\n",
    "        self.fc2 = nn.Linear(32, 2)\n",
    "\n",
    "def forward(self, x):\n",
    "    out = self.pool1(self.act1(self.conv1(x)))\n",
    "    out = self.pool2(self.act2(self.conv2(out)))\n",
    "    out = out.view(-1, 8*8*8) # reshape for the fully connected\n",
    "    out = self.act3(self.fc1(out))\n",
    "    out = self.fc2(out)\n",
    "    return out"
   ],
   "metadata": {
    "collapsed": false,
    "pycharm": {
     "name": "#%%\n"
    }
   },
   "execution_count": 32,
   "outputs": []
  },
  {
   "cell_type": "code",
   "execution_count": 33,
   "outputs": [
    {
     "data": {
      "text/plain": "(18090, [432, 16, 1152, 8, 16384, 32, 64, 2])"
     },
     "execution_count": 33,
     "metadata": {},
     "output_type": "execute_result"
    }
   ],
   "source": [
    "model = Net()\n",
    "\n",
    "numel_list = [p.numel() for p in model.parameters()]\n",
    "sum(numel_list), numel_list"
   ],
   "metadata": {
    "collapsed": false,
    "pycharm": {
     "name": "#%%\n"
    }
   }
  },
  {
   "cell_type": "markdown",
   "source": [
    "### The functional API"
   ],
   "metadata": {
    "collapsed": false,
    "pycharm": {
     "name": "#%% md\n"
    }
   }
  },
  {
   "cell_type": "code",
   "execution_count": 9,
   "outputs": [],
   "source": [
    "class Net(nn.Module):\n",
    "    def __init__(self):\n",
    "        super().__init__()\n",
    "        self.conv1 = nn.Conv2d(3, 16, kernel_size=3, padding=1)\n",
    "        self.conv2 = nn.Conv2d(16, 8, kernel_size=3, padding=1)\n",
    "        self.fc1 = nn.Linear(8 * 8 * 8, 32)\n",
    "        self.fc2 = nn.Linear(32, 2)\n",
    "\n",
    "    def forward(self, x):\n",
    "        out = F.max_pool2d(torch.tanh(self.conv1(x)), 2)\n",
    "        out = F.max_pool2d(torch.tanh(self.conv2(out)), 2)\n",
    "        out = out.view(-1, 8 * 8 * 8)\n",
    "        out = torch.tanh(self.fc1(out))\n",
    "        out = self.fc2(out)\n",
    "        return out\n"
   ],
   "metadata": {
    "collapsed": false,
    "pycharm": {
     "name": "#%%\n"
    }
   }
  },
  {
   "cell_type": "code",
   "execution_count": 10,
   "outputs": [
    {
     "data": {
      "text/plain": "tensor([[ 0.0746, -0.0411]], grad_fn=<AddmmBackward>)"
     },
     "execution_count": 10,
     "metadata": {},
     "output_type": "execute_result"
    }
   ],
   "source": [
    "model = Net()\n",
    "\n",
    "numel_list = [p.numel() for p in model.parameters()]\n",
    "model(img.unsqueeze(0))"
   ],
   "metadata": {
    "collapsed": false,
    "pycharm": {
     "name": "#%%\n"
    }
   }
  },
  {
   "cell_type": "code",
   "execution_count": 11,
   "outputs": [],
   "source": [
    "def training_loop(n_epochs, optimizer, model, loss_fn, train_loader):\n",
    "    for epoch in range(1, n_epochs + 1):\n",
    "        loss_train = 0.0\n",
    "        for imgs, labels in train_loader:\n",
    "            outputs = model(imgs)\n",
    "            loss = loss_fn(outputs, labels)\n",
    "            optimizer.zero_grad()\n",
    "            loss.backward()\n",
    "            optimizer.step()\n",
    "            # sum the losses over the epoch\n",
    "            # we need to transform them into a number with .item()\n",
    "            # to escape the gradients\n",
    "            loss_train += loss.item()\n",
    "        if epoch == 1 or epoch%10==0:\n",
    "            print('{}, Epoch {}, training loss: {:.4f}'.format(\n",
    "                datetime.datetime.now(),\n",
    "                epoch,\n",
    "                loss_train / len(train_loader)\n",
    "            ))"
   ],
   "metadata": {
    "collapsed": false,
    "pycharm": {
     "name": "#%%\n"
    }
   }
  },
  {
   "cell_type": "code",
   "execution_count": 12,
   "outputs": [
    {
     "name": "stdout",
     "output_type": "stream",
     "text": [
      "2021-03-07 13:39:20.754073, Epoch 1, training loss: 0.5687\n",
      "2021-03-07 13:39:29.432797, Epoch 10, training loss: 0.3355\n",
      "2021-03-07 13:39:39.414890, Epoch 20, training loss: 0.2978\n",
      "2021-03-07 13:39:49.020556, Epoch 30, training loss: 0.2717\n",
      "2021-03-07 13:39:59.049908, Epoch 40, training loss: 0.2506\n",
      "2021-03-07 13:40:08.673591, Epoch 50, training loss: 0.2321\n",
      "2021-03-07 13:40:18.270926, Epoch 60, training loss: 0.2134\n",
      "2021-03-07 13:40:28.089738, Epoch 70, training loss: 0.1958\n",
      "2021-03-07 13:40:37.540389, Epoch 80, training loss: 0.1801\n",
      "2021-03-07 13:40:47.187777, Epoch 90, training loss: 0.1655\n",
      "2021-03-07 13:40:56.882032, Epoch 100, training loss: 0.1532\n"
     ]
    }
   ],
   "source": [
    "train_loader = torch.utils.data.DataLoader(cifar2, batch_size=64, shuffle=True)\n",
    "model = Net()\n",
    "optimizer = optim.SGD(model.parameters(), lr=1e-2)\n",
    "loss_fn = nn.CrossEntropyLoss()\n",
    "\n",
    "training_loop(\n",
    "    n_epochs=100,\n",
    "    optimizer=optimizer,\n",
    "    model=model,\n",
    "    loss_fn=loss_fn,\n",
    "    train_loader=train_loader\n",
    ")"
   ],
   "metadata": {
    "collapsed": false,
    "pycharm": {
     "name": "#%%\n"
    }
   }
  },
  {
   "cell_type": "code",
   "execution_count": 13,
   "outputs": [
    {
     "name": "stdout",
     "output_type": "stream",
     "text": [
      "Batch 1/10000\n",
      "Batch 1/10000\n",
      "Batch 1/10000\n",
      "Batch 1/10000\n",
      "Batch 1/10000\n",
      "Batch 1/10000\n",
      "Batch 1/10000\n",
      "Batch 1/10000\n",
      "Batch 1/10000\n",
      "Batch 1/10000\n",
      "Batch 1/10000\n",
      "Batch 1/10000\n",
      "Batch 1/10000\n",
      "Batch 1/10000\n",
      "Batch 1/10000\n",
      "Batch 1/10000\n",
      "Batch 1/10000\n",
      "Batch 1/10000\n",
      "Batch 1/10000\n",
      "Batch 1/10000\n",
      "Batch 1/10000\n",
      "Batch 1/10000\n",
      "Batch 1/10000\n",
      "Batch 1/10000\n",
      "Batch 1/10000\n",
      "Batch 1/10000\n",
      "Batch 1/10000\n",
      "Batch 1/10000\n",
      "Batch 1/10000\n",
      "Batch 1/10000\n",
      "Batch 1/10000\n",
      "Batch 1/10000\n",
      "Batch 1/10000\n",
      "Batch 1/10000\n",
      "Batch 1/10000\n",
      "Batch 1/10000\n",
      "Batch 1/10000\n",
      "Batch 1/10000\n",
      "Batch 1/10000\n",
      "Batch 1/10000\n",
      "Batch 1/10000\n",
      "Batch 1/10000\n",
      "Batch 1/10000\n",
      "Batch 1/10000\n",
      "Batch 1/10000\n",
      "Batch 1/10000\n",
      "Batch 1/10000\n",
      "Batch 1/10000\n",
      "Batch 1/10000\n",
      "Batch 1/10000\n",
      "Batch 1/10000\n",
      "Batch 1/10000\n",
      "Batch 1/10000\n",
      "Batch 1/10000\n",
      "Batch 1/10000\n",
      "Batch 1/10000\n",
      "Batch 1/10000\n",
      "Batch 1/10000\n",
      "Batch 1/10000\n",
      "Batch 1/10000\n",
      "Batch 1/10000\n",
      "Batch 1/10000\n",
      "Batch 1/10000\n",
      "Batch 1/10000\n",
      "Batch 1/10000\n",
      "Batch 1/10000\n",
      "Batch 1/10000\n",
      "Batch 1/10000\n",
      "Batch 1/10000\n",
      "Batch 1/10000\n",
      "Batch 1/10000\n",
      "Batch 1/10000\n",
      "Batch 1/10000\n",
      "Batch 1/10000\n",
      "Batch 1/10000\n",
      "Batch 1/10000\n",
      "Batch 1/10000\n",
      "Batch 1/10000\n",
      "Batch 1/10000\n",
      "Batch 1/10000\n",
      "Batch 1/10000\n",
      "Batch 1/10000\n",
      "Batch 1/10000\n",
      "Batch 1/10000\n",
      "Batch 1/10000\n",
      "Batch 1/10000\n",
      "Batch 1/10000\n",
      "Batch 1/10000\n",
      "Batch 1/10000\n",
      "Batch 1/10000\n",
      "Batch 1/10000\n",
      "Batch 1/10000\n",
      "Batch 1/10000\n",
      "Batch 1/10000\n",
      "Batch 1/10000\n",
      "Batch 1/10000\n",
      "Batch 1/10000\n",
      "Batch 1/10000\n",
      "Batch 1/10000\n",
      "Batch 1/10000\n",
      "Batch 1/10000\n",
      "Batch 1/10000\n",
      "Batch 1/10000\n",
      "Batch 1/10000\n",
      "Batch 1/10000\n",
      "Batch 1/10000\n",
      "Batch 1/10000\n",
      "Batch 1/10000\n",
      "Batch 1/10000\n",
      "Batch 1/10000\n",
      "Batch 1/10000\n",
      "Batch 1/10000\n",
      "Batch 1/10000\n",
      "Batch 1/10000\n",
      "Batch 1/10000\n",
      "Batch 1/10000\n",
      "Batch 1/10000\n",
      "Batch 1/10000\n",
      "Batch 1/10000\n",
      "Batch 1/10000\n",
      "Batch 1/10000\n",
      "Batch 1/10000\n",
      "Batch 1/10000\n",
      "Batch 1/10000\n",
      "Batch 1/10000\n",
      "Batch 1/10000\n",
      "Batch 1/10000\n",
      "Batch 1/10000\n",
      "Batch 1/10000\n",
      "Batch 1/10000\n",
      "Batch 1/10000\n",
      "Batch 1/10000\n",
      "Batch 1/10000\n",
      "Batch 1/10000\n",
      "Batch 1/10000\n",
      "Batch 1/10000\n",
      "Batch 1/10000\n",
      "Batch 1/10000\n",
      "Batch 1/10000\n",
      "Batch 1/10000\n",
      "Batch 1/10000\n",
      "Batch 1/10000\n",
      "Batch 1/10000\n",
      "Batch 1/10000\n",
      "Batch 1/10000\n",
      "Batch 1/10000\n",
      "Batch 1/10000\n",
      "Batch 1/10000\n",
      "Batch 1/10000\n",
      "Batch 1/10000\n",
      "Batch 1/10000\n",
      "Batch 1/10000\n",
      "Batch 1/10000\n",
      "Batch 1/10000\n",
      "Batch 1/10000\n",
      "Batch 1/10000\n",
      "Batch 1/10000\n",
      "Accuracy train: 0.94\n",
      "Batch 1/2000\n",
      "Batch 1/2000\n",
      "Batch 1/2000\n",
      "Batch 1/2000\n",
      "Batch 1/2000\n",
      "Batch 1/2000\n",
      "Batch 1/2000\n",
      "Batch 1/2000\n",
      "Batch 1/2000\n",
      "Batch 1/2000\n",
      "Batch 1/2000\n",
      "Batch 1/2000\n",
      "Batch 1/2000\n",
      "Batch 1/2000\n",
      "Batch 1/2000\n",
      "Batch 1/2000\n",
      "Batch 1/2000\n",
      "Batch 1/2000\n",
      "Batch 1/2000\n",
      "Batch 1/2000\n",
      "Batch 1/2000\n",
      "Batch 1/2000\n",
      "Batch 1/2000\n",
      "Batch 1/2000\n",
      "Batch 1/2000\n",
      "Batch 1/2000\n",
      "Batch 1/2000\n",
      "Batch 1/2000\n",
      "Batch 1/2000\n",
      "Batch 1/2000\n",
      "Batch 1/2000\n",
      "Batch 1/2000\n",
      "Accuracy val: 0.90\n"
     ]
    }
   ],
   "source": [
    "train_loader = torch.utils.data.DataLoader(cifar2, batch_size=64, shuffle=False)\n",
    "val_loader = torch.utils.data.DataLoader(cifar2_val, batch_size=64, shuffle=False)\n",
    "\n",
    "\n",
    "def validate(model, train_loader, val_loader):\n",
    "    for name, loader in [(\"train\", train_loader), (\"val\", val_loader)]:\n",
    "        correct = 0\n",
    "        total = 0\n",
    "\n",
    "        with torch.no_grad():\n",
    "            batch_idx = 0\n",
    "            for imgs, labels in loader:\n",
    "                print('Batch {}/{}'.format(batch_idx+1, len(loader.dataset)))\n",
    "                outputs = model(imgs)\n",
    "                _, predicted = torch.max(outputs, dim=1) # index of highest output\n",
    "                total += labels.shape[0]\n",
    "                correct += int((predicted == labels).sum())\n",
    "\n",
    "        print(\"Accuracy {}: {:.2f}\".format(name , correct / total))\n",
    "\n",
    "validate(model, train_loader, val_loader)\n"
   ],
   "metadata": {
    "collapsed": false,
    "pycharm": {
     "name": "#%%\n"
    }
   }
  },
  {
   "cell_type": "markdown",
   "source": [
    "### Saving And Loading"
   ],
   "metadata": {
    "collapsed": false,
    "pycharm": {
     "name": "#%% md\n"
    }
   }
  },
  {
   "cell_type": "code",
   "execution_count": 15,
   "outputs": [
    {
     "name": "stdout",
     "output_type": "stream",
     "text": [
      "Training on device cuda.\n"
     ]
    }
   ],
   "source": [
    "device = (torch.device('cuda') if torch.cuda.is_available()else torch.device('cpu'))\n",
    "print(f\"Training on device {device}.\")"
   ],
   "metadata": {
    "collapsed": false,
    "pycharm": {
     "name": "#%%\n"
    }
   }
  },
  {
   "cell_type": "code",
   "execution_count": 20,
   "outputs": [],
   "source": [
    "def training_loop(n_epochs, optimizer, model, loss_fn, train_loader):\n",
    "    for epoch in range(1, n_epochs + 1):\n",
    "        loss_train = 0.0\n",
    "        for imgs, labels in train_loader:\n",
    "            imgs = imgs.to(device=device) # move to training device\n",
    "            labels = labels.to(device=device) # move to training device\n",
    "            outputs = model(imgs)\n",
    "            loss = loss_fn(outputs, labels)\n",
    "            optimizer.zero_grad()\n",
    "            loss.backward()\n",
    "            optimizer.step()\n",
    "            # sum the losses over the epoch\n",
    "            # we need to transform them into a number with .item()\n",
    "            # to escape the gradients\n",
    "            loss_train += loss.item()\n",
    "        if epoch == 1 or epoch%10==0:\n",
    "            print('{}, Epoch {}, training loss: {:.4f}'.format(\n",
    "                datetime.datetime.now(),\n",
    "                epoch,\n",
    "                loss_train / len(train_loader)\n",
    "            ))"
   ],
   "metadata": {
    "collapsed": false,
    "pycharm": {
     "name": "#%%\n"
    }
   }
  },
  {
   "cell_type": "code",
   "execution_count": 21,
   "outputs": [],
   "source": [
    "all_acc_dict = collections.OrderedDict()\n",
    "\n",
    "def validate(model, train_loader, val_loader):\n",
    "    for name, loader in [(\"train\", train_loader), (\"val\", val_loader)]:\n",
    "        correct = 0\n",
    "        total = 0\n",
    "\n",
    "        with torch.no_grad():\n",
    "            batch_idx = 0\n",
    "            for imgs, labels in loader:\n",
    "                imgs = imgs.to(device=device)\n",
    "                labels = labels.to(device=device)\n",
    "                outputs = model(imgs)\n",
    "                _, predicted = torch.max(outputs, dim=1) # index of highest output\n",
    "                total += labels.shape[0]\n",
    "                correct += int((predicted == labels).sum())\n",
    "\n",
    "        print(\"Accuracy {}: {:.2f}\".format(name , correct / total))"
   ],
   "metadata": {
    "collapsed": false,
    "pycharm": {
     "name": "#%%\n"
    }
   }
  },
  {
   "cell_type": "code",
   "execution_count": 22,
   "outputs": [
    {
     "name": "stdout",
     "output_type": "stream",
     "text": [
      "2021-03-07 13:42:35.366603, Epoch 1, training loss: 0.5849\n",
      "2021-03-07 13:42:38.285658, Epoch 10, training loss: 0.3386\n",
      "2021-03-07 13:42:41.477880, Epoch 20, training loss: 0.2959\n",
      "2021-03-07 13:42:44.773300, Epoch 30, training loss: 0.2660\n",
      "2021-03-07 13:42:47.901390, Epoch 40, training loss: 0.2479\n",
      "2021-03-07 13:42:50.998146, Epoch 50, training loss: 0.2321\n",
      "2021-03-07 13:42:54.032933, Epoch 60, training loss: 0.2134\n",
      "2021-03-07 13:42:57.004925, Epoch 70, training loss: 0.1977\n",
      "2021-03-07 13:43:00.048431, Epoch 80, training loss: 0.1818\n",
      "2021-03-07 13:43:03.143679, Epoch 90, training loss: 0.1664\n",
      "2021-03-07 13:43:06.220574, Epoch 100, training loss: 0.1523\n"
     ]
    }
   ],
   "source": [
    "train_loader = torch.utils.data.DataLoader(cifar2, batch_size=64, shuffle=True)\n",
    "model = Net().to(device=device)\n",
    "optimizer = optim.SGD(model.parameters(), lr=1e-2)\n",
    "loss_fn = nn.CrossEntropyLoss()\n",
    "\n",
    "training_loop(\n",
    "    n_epochs=100,\n",
    "    optimizer=optimizer,\n",
    "    model=model,\n",
    "    loss_fn=loss_fn,\n",
    "    train_loader=train_loader\n",
    ")"
   ],
   "metadata": {
    "collapsed": false,
    "pycharm": {
     "name": "#%%\n"
    }
   }
  },
  {
   "cell_type": "markdown",
   "source": [
    "### Loading from device\n",
    "\n",
    "There is a slight complication when loading network weights: PyTorch will attempt\n",
    "to load the weight to the same device it was saved from—that is, weights on the GPU\n",
    "will be restored to the GPU. As we don’t know whether we want the same device, we have two options:\n",
    "we could move the network to the CPU before saving it, or move it back after restoring.\n",
    "It is a bit more concise to instruct PyTorch to override the device information when loading weights.\n",
    "This is done by passing the map_location keyword argument to torch.load"
   ],
   "metadata": {
    "collapsed": false,
    "pycharm": {
     "name": "#%% md\n"
    }
   }
  },
  {
   "cell_type": "code",
   "execution_count": 24,
   "outputs": [
    {
     "data": {
      "text/plain": "<All keys matched successfully>"
     },
     "execution_count": 24,
     "metadata": {},
     "output_type": "execute_result"
    }
   ],
   "source": [
    "loaded_net = Net().to(device=device)\n",
    "loaded_net.load_state_dict(torch.load(data_path+ 'birds_vs_airplanes.pt', map_location=device))"
   ],
   "metadata": {
    "collapsed": false,
    "pycharm": {
     "name": "#%%\n"
    }
   }
  },
  {
   "cell_type": "markdown",
   "source": [
    "#### Adding memory capacity: Width\n",
    "\n",
    "Increase the number of output channels of the first conv layer and increase the subsequent\n",
    "layers accordingly to increase the number of neurons per layer.\n",
    "\n",
    "The input vector to the fully connected layers is now longer"
   ],
   "metadata": {
    "collapsed": false,
    "pycharm": {
     "name": "#%% md\n"
    }
   }
  },
  {
   "cell_type": "code",
   "execution_count": 25,
   "outputs": [],
   "source": [
    "class NetWidth(nn.Module):\n",
    "    def __init__(self):\n",
    "        super().__init__()\n",
    "        self.conv1 = nn.Conv2d(3, 32, kernel_size=3, padding=1)\n",
    "        self.conv2 = nn.Conv2d(32, 16, kernel_size=3, padding=1)\n",
    "        self.fc1 = nn.Linear(16 * 8 * 8, 32)\n",
    "        self.fc2 = nn.Linear(32, 2)\n",
    "\n",
    "    def forward(self, x):\n",
    "        out = F.max_pool2d(torch.tanh(self.conv1(x)), 2)\n",
    "        out = F.max_pool2d(torch.tanh(self.conv2(out)), 2)\n",
    "        out = out.view(-1, 16 * 8 * 8)\n",
    "        out = torch.tanh(self.fc1(out))\n",
    "        out = self.fc2(out)\n",
    "        return out\n"
   ],
   "metadata": {
    "collapsed": false,
    "pycharm": {
     "name": "#%%\n"
    }
   }
  },
  {
   "cell_type": "code",
   "execution_count": 26,
   "outputs": [
    {
     "name": "stdout",
     "output_type": "stream",
     "text": [
      "2021-03-07 13:49:08.198537, Epoch 1, training loss: 0.5813\n",
      "2021-03-07 13:49:11.555307, Epoch 10, training loss: 0.3130\n",
      "2021-03-07 13:49:15.633943, Epoch 20, training loss: 0.2680\n",
      "2021-03-07 13:49:19.245098, Epoch 30, training loss: 0.2341\n",
      "2021-03-07 13:49:22.875753, Epoch 40, training loss: 0.2088\n",
      "2021-03-07 13:49:26.462401, Epoch 50, training loss: 0.1834\n",
      "2021-03-07 13:49:30.445728, Epoch 60, training loss: 0.1611\n",
      "2021-03-07 13:49:34.146667, Epoch 70, training loss: 0.1421\n",
      "2021-03-07 13:49:37.811810, Epoch 80, training loss: 0.1204\n",
      "2021-03-07 13:49:41.672031, Epoch 90, training loss: 0.1028\n",
      "2021-03-07 13:49:45.650649, Epoch 100, training loss: 0.0861\n",
      "Accuracy train: 0.96\n",
      "Accuracy val: 0.88\n"
     ]
    }
   ],
   "source": [
    "model = NetWidth().to(device=device)\n",
    "optimizer = optim.SGD(model.parameters(), lr=1e-2)\n",
    "loss_fn = nn.CrossEntropyLoss()\n",
    "\n",
    "training_loop(\n",
    "    n_epochs = 100,\n",
    "    optimizer = optimizer,\n",
    "    model = model,\n",
    "    loss_fn = loss_fn,\n",
    "    train_loader = train_loader,\n",
    ")\n",
    "\n",
    "validate(model, train_loader, val_loader)"
   ],
   "metadata": {
    "collapsed": false,
    "pycharm": {
     "name": "#%%\n"
    }
   }
  },
  {
   "cell_type": "markdown",
   "source": [
    "Avoid hardcoding"
   ],
   "metadata": {
    "collapsed": false,
    "pycharm": {
     "name": "#%% md\n"
    }
   }
  },
  {
   "cell_type": "code",
   "execution_count": 34,
   "outputs": [],
   "source": [
    "class NetWidth(nn.Module):\n",
    "    def __init__(self, n_chans1=32):\n",
    "        super().__init__()\n",
    "        self.n_chans1=n_chans1\n",
    "        self.conv1 = nn.Conv2d(3, self.n_chans1, kernel_size=3, padding=1)\n",
    "        self.conv2 = nn.Conv2d(self.n_chans1, self.n_chans1 // 2, kernel_size=3, padding=1)\n",
    "        self.fc1 = nn.Linear(self.n_chans1 // 2 * 8 * 8, 32)\n",
    "        self.fc2 = nn.Linear(32, 2)\n",
    "\n",
    "    def forward(self, x):\n",
    "        out = F.max_pool2d(torch.tanh(self.conv1(x)), 2)\n",
    "        out = F.max_pool2d(torch.tanh(self.conv2(out)), 2)\n",
    "        out = out.view(-1, self.n_chans1 // 2 * 8 * 8)\n",
    "        out = torch.tanh(self.fc1(out))\n",
    "        out = self.fc2(out)\n",
    "        return out"
   ],
   "metadata": {
    "collapsed": false,
    "pycharm": {
     "name": "#%%\n"
    }
   }
  },
  {
   "cell_type": "code",
   "execution_count": 35,
   "outputs": [
    {
     "name": "stdout",
     "output_type": "stream",
     "text": [
      "2021-03-07 13:55:29.952036, Epoch 1, training loss: 0.5487\n",
      "2021-03-07 13:55:33.308334, Epoch 10, training loss: 0.3168\n",
      "2021-03-07 13:55:37.196466, Epoch 20, training loss: 0.2704\n",
      "2021-03-07 13:55:41.084795, Epoch 30, training loss: 0.2387\n",
      "2021-03-07 13:55:45.007794, Epoch 40, training loss: 0.2104\n",
      "2021-03-07 13:55:48.908261, Epoch 50, training loss: 0.1874\n",
      "2021-03-07 13:55:52.792369, Epoch 60, training loss: 0.1613\n",
      "2021-03-07 13:55:56.631365, Epoch 70, training loss: 0.1410\n",
      "2021-03-07 13:56:00.340169, Epoch 80, training loss: 0.1204\n",
      "2021-03-07 13:56:04.082919, Epoch 90, training loss: 0.1008\n",
      "2021-03-07 13:56:07.989878, Epoch 100, training loss: 0.0848\n",
      "Accuracy train: 0.97\n",
      "Accuracy val: 0.89\n"
     ]
    },
    {
     "ename": "NameError",
     "evalue": "name 'all_acc_dict' is not defined",
     "output_type": "error",
     "traceback": [
      "\u001B[0;31m---------------------------------------------------------------------------\u001B[0m",
      "\u001B[0;31mNameError\u001B[0m                                 Traceback (most recent call last)",
      "\u001B[0;32m<ipython-input-35-e3dbcecd550a>\u001B[0m in \u001B[0;36m<module>\u001B[0;34m\u001B[0m\n\u001B[1;32m     11\u001B[0m )\n\u001B[1;32m     12\u001B[0m \u001B[0;34m\u001B[0m\u001B[0m\n\u001B[0;32m---> 13\u001B[0;31m \u001B[0mall_acc_dict\u001B[0m\u001B[0;34m[\u001B[0m\u001B[0;34m\"width\"\u001B[0m\u001B[0;34m]\u001B[0m \u001B[0;34m=\u001B[0m \u001B[0mvalidate\u001B[0m\u001B[0;34m(\u001B[0m\u001B[0mmodel\u001B[0m\u001B[0;34m,\u001B[0m \u001B[0mtrain_loader\u001B[0m\u001B[0;34m,\u001B[0m \u001B[0mval_loader\u001B[0m\u001B[0;34m)\u001B[0m\u001B[0;34m\u001B[0m\u001B[0;34m\u001B[0m\u001B[0m\n\u001B[0m",
      "\u001B[0;31mNameError\u001B[0m: name 'all_acc_dict' is not defined"
     ]
    }
   ],
   "source": [
    "model = NetWidth(n_chans1=32).to(device=device)\n",
    "optimizer = optim.SGD(model.parameters(), lr=1e-2)\n",
    "loss_fn = nn.CrossEntropyLoss()\n",
    "\n",
    "training_loop(\n",
    "    n_epochs = 100,\n",
    "    optimizer = optimizer,\n",
    "    model = model,\n",
    "    loss_fn = loss_fn,\n",
    "    train_loader = train_loader,\n",
    ")"
   ],
   "metadata": {
    "collapsed": false,
    "pycharm": {
     "name": "#%%\n"
    }
   }
  },
  {
   "cell_type": "code",
   "execution_count": 36,
   "outputs": [
    {
     "name": "stdout",
     "output_type": "stream",
     "text": [
      "Accuracy train: 0.97\n",
      "Accuracy val: 0.89\n"
     ]
    }
   ],
   "source": [
    "width_acc = validate(model, train_loader, val_loader)\n"
   ],
   "metadata": {
    "collapsed": false,
    "pycharm": {
     "name": "#%%\n"
    }
   }
  },
  {
   "cell_type": "markdown",
   "source": [
    "#### Assisting Convergence and Generalization: Regularization\n",
    "\n",
    "Keep weigts small by regularizing loss"
   ],
   "metadata": {
    "collapsed": false,
    "pycharm": {
     "name": "#%% md\n"
    }
   }
  },
  {
   "cell_type": "code",
   "execution_count": 42,
   "outputs": [],
   "source": [
    "def training_l2_reg(n_epochs, optimizer, model, loss_fn, train_loader):\n",
    "    for epoch in range(1, n_epochs + 1):\n",
    "        loss_train = 0.0\n",
    "        for imgs, labels in train_loader:\n",
    "            imgs = imgs.to(device=device)\n",
    "            labels = labels.to(device=device)\n",
    "            outputs = model(imgs)\n",
    "            loss = loss_fn(outputs, labels)\n",
    "\n",
    "            l2_lambda = 0.001\n",
    "            l2_norm = sum(p.pow(2.0).sum()\n",
    "                          for p in model.parameters())  # <1>\n",
    "            loss = loss + l2_lambda * l2_norm\n",
    "\n",
    "            optimizer.zero_grad()\n",
    "            loss.backward()\n",
    "            optimizer.step()\n",
    "\n",
    "            loss_train += loss.item()\n",
    "        if epoch == 1 or epoch % 10 == 0:\n",
    "            print('{} Epoch {}, Training loss {}'.format(\n",
    "                datetime.datetime.now(), epoch,\n",
    "                loss_train / len(train_loader)))\n"
   ],
   "metadata": {
    "collapsed": false,
    "pycharm": {
     "name": "#%%\n"
    }
   }
  },
  {
   "cell_type": "code",
   "execution_count": 43,
   "outputs": [
    {
     "name": "stdout",
     "output_type": "stream",
     "text": [
      "2021-03-07 14:04:24.024999 Epoch 1, Training loss 0.5967912924517492\n",
      "2021-03-07 14:04:28.280230 Epoch 10, Training loss 0.35454992636753496\n",
      "2021-03-07 14:04:33.070121 Epoch 20, Training loss 0.31809191272896564\n",
      "2021-03-07 14:04:37.894564 Epoch 30, Training loss 0.3005345251150192\n",
      "2021-03-07 14:04:42.764859 Epoch 40, Training loss 0.2836620528606852\n",
      "2021-03-07 14:04:47.456098 Epoch 50, Training loss 0.2679176411241483\n",
      "2021-03-07 14:04:52.143992 Epoch 60, Training loss 0.254248198857353\n",
      "2021-03-07 14:04:56.938559 Epoch 70, Training loss 0.24001503175800773\n",
      "2021-03-07 14:05:01.822721 Epoch 80, Training loss 0.23103937478202163\n",
      "2021-03-07 14:05:06.626075 Epoch 90, Training loss 0.22021847735544678\n",
      "2021-03-07 14:05:11.434333 Epoch 100, Training loss 0.21507341324523754\n",
      "Accuracy train: 0.91\n",
      "Accuracy val: 0.88\n"
     ]
    }
   ],
   "source": [
    "model = Net().to(device=device)\n",
    "optimizer = optim.SGD(model.parameters(), lr=1e-2)\n",
    "loss_fn = nn.CrossEntropyLoss()\n",
    "\n",
    "training_l2_reg(\n",
    "    n_epochs = 100,\n",
    "    optimizer = optimizer,\n",
    "    model = model,\n",
    "    loss_fn = loss_fn,\n",
    "    train_loader = train_loader,\n",
    ")\n",
    "l2_reg_acc = validate(model, train_loader, val_loader)\n"
   ],
   "metadata": {
    "collapsed": false,
    "pycharm": {
     "name": "#%%\n"
    }
   }
  },
  {
   "cell_type": "markdown",
   "source": [
    "#### Avoid relying on specific features: Dropout\n",
    "\n",
    "Randomly drop a percentage of features\n",
    "\n",
    "Dropout is normally active during training, while during the evaluation of a trained model\n",
    "in production, dropout is bypassed or, equivalently, assigned a probability  equal  to  zero.\n",
    "This  is  controlled  through  the  train  property  of  the  Dropoutmodule.\n",
    "Recall that PyTorch lets us switch between the two modalities by calling ```model.train()```"
   ],
   "metadata": {
    "collapsed": false,
    "pycharm": {
     "name": "#%% md\n"
    }
   }
  },
  {
   "cell_type": "code",
   "execution_count": 45,
   "outputs": [],
   "source": [
    "class NetDropout(nn.Module):\n",
    "    def __init__(self, n_chans1=32):\n",
    "        super().__init__()\n",
    "        self.n_chans1 = n_chans1\n",
    "        self.conv1 = nn.Conv2d(3, n_chans1, kernel_size=3, padding=1)\n",
    "        self.conv1_dropout = nn.Dropout2d(p=0.4)\n",
    "        self.conv2 = nn.Conv2d(n_chans1, n_chans1 // 2, kernel_size=3,\n",
    "                               padding=1)\n",
    "        self.conv2_dropout = nn.Dropout2d(p=0.4)\n",
    "        self.fc1 = nn.Linear(8 * 8 * n_chans1 // 2, 32)\n",
    "        self.fc2 = nn.Linear(32, 2)\n",
    "\n",
    "    def forward(self, x):\n",
    "        out = F.max_pool2d(torch.tanh(self.conv1(x)), 2)\n",
    "        out = self.conv1_dropout(out)\n",
    "        out = F.max_pool2d(torch.tanh(self.conv2(out)), 2)\n",
    "        out = self.conv2_dropout(out)\n",
    "        out = out.view(-1, 8 * 8 * self.n_chans1 // 2)\n",
    "        out = torch.tanh(self.fc1(out))\n",
    "        out = self.fc2(out)\n",
    "        return out\n"
   ],
   "metadata": {
    "collapsed": false,
    "pycharm": {
     "name": "#%%\n"
    }
   }
  },
  {
   "cell_type": "code",
   "execution_count": 46,
   "outputs": [
    {
     "name": "stdout",
     "output_type": "stream",
     "text": [
      "2021-03-07 14:06:06.639198 Epoch 1, Training loss 0.6012234627061589\n",
      "2021-03-07 14:06:11.629613 Epoch 10, Training loss 0.4152898824518653\n",
      "2021-03-07 14:06:17.174882 Epoch 20, Training loss 0.37919276297851734\n",
      "2021-03-07 14:06:22.868144 Epoch 30, Training loss 0.3592615479686458\n",
      "2021-03-07 14:06:28.423148 Epoch 40, Training loss 0.345863278409478\n",
      "2021-03-07 14:06:33.676768 Epoch 50, Training loss 0.3318553808957908\n",
      "2021-03-07 14:06:39.278375 Epoch 60, Training loss 0.3172346600301706\n",
      "2021-03-07 14:06:44.656007 Epoch 70, Training loss 0.31052531112151543\n",
      "2021-03-07 14:06:49.996902 Epoch 80, Training loss 0.2987490235620244\n",
      "2021-03-07 14:06:55.442558 Epoch 90, Training loss 0.2857463319020666\n",
      "2021-03-07 14:07:00.871634 Epoch 100, Training loss 0.282200960976303\n",
      "Accuracy train: 0.90\n",
      "Accuracy val: 0.88\n"
     ]
    }
   ],
   "source": [
    "model = NetDropout().to(device=device)\n",
    "optimizer = optim.SGD(model.parameters(), lr=1e-2)\n",
    "loss_fn = nn.CrossEntropyLoss()\n",
    "\n",
    "training_l2_reg(\n",
    "    n_epochs = 100,\n",
    "    optimizer = optimizer,\n",
    "    model = model,\n",
    "    loss_fn = loss_fn,\n",
    "    train_loader = train_loader,\n",
    ")\n",
    "dropout_acc = validate(model, train_loader, val_loader)\n"
   ],
   "metadata": {
    "collapsed": false,
    "pycharm": {
     "name": "#%%\n"
    }
   }
  },
  {
   "cell_type": "markdown",
   "source": [
    "#### Keep Activations in check: Batch Normalization\n",
    "\n",
    "Rescale  the  inputs  to  the  activations of the network so that minibatches have a\n",
    "certain desirable distribution. Recalling  the  mechanics  of  learning  and  the\n",
    "role  of  nonlinear  activation  functions,  this helps avoid the inputs to activation\n",
    "functions being too far into the saturated portion of the function, thereby killing\n",
    "gradients and slowing training.\n",
    "\n",
    "Batch normalization needs to behave differently during training and inference. In fact,\n",
    "at inference time, we want to avoid having the output for a specific input depend on\n",
    "the statistics of the other inputs we’re presenting to the model.As such, we need\n",
    "a way to still normalize, but this time fixing the normalization parameters once and for all."
   ],
   "metadata": {
    "collapsed": false,
    "pycharm": {
     "name": "#%% md\n"
    }
   }
  },
  {
   "cell_type": "code",
   "execution_count": 47,
   "outputs": [],
   "source": [
    "class NetBatchNorm(nn.Module):\n",
    "    def __init__(self, n_chans1=32):\n",
    "        super().__init__()\n",
    "        self.n_chans1 = n_chans1\n",
    "        self.conv1 = nn.Conv2d(3, n_chans1, kernel_size=3, padding=1)\n",
    "        self.conv1_batchnorm = nn.BatchNorm2d(num_features=n_chans1)\n",
    "        self.conv2 = nn.Conv2d(n_chans1, n_chans1 // 2, kernel_size=3,\n",
    "                               padding=1)\n",
    "        self.conv2_batchnorm = nn.BatchNorm2d(num_features=n_chans1 // 2)\n",
    "        self.fc1 = nn.Linear(8 * 8 * n_chans1 // 2, 32)\n",
    "        self.fc2 = nn.Linear(32, 2)\n",
    "\n",
    "    def forward(self, x):\n",
    "        out = self.conv1_batchnorm(self.conv1(x))\n",
    "        out = F.max_pool2d(torch.tanh(out), 2)\n",
    "        out = self.conv2_batchnorm(self.conv2(out))\n",
    "        out = F.max_pool2d(torch.tanh(out), 2)\n",
    "        out = out.view(-1, 8 * 8 * self.n_chans1 // 2)\n",
    "        out = torch.tanh(self.fc1(out))\n",
    "        out = self.fc2(out)\n",
    "        return out"
   ],
   "metadata": {
    "collapsed": false,
    "pycharm": {
     "name": "#%%\n"
    }
   }
  },
  {
   "cell_type": "code",
   "execution_count": 48,
   "outputs": [
    {
     "name": "stdout",
     "output_type": "stream",
     "text": [
      "2021-03-07 14:10:34.541267, Epoch 1, training loss: 0.4611\n",
      "2021-03-07 14:10:38.827288, Epoch 10, training loss: 0.2689\n",
      "2021-03-07 14:10:43.255299, Epoch 20, training loss: 0.2149\n",
      "2021-03-07 14:10:47.722341, Epoch 30, training loss: 0.1752\n",
      "2021-03-07 14:10:52.166492, Epoch 40, training loss: 0.1352\n",
      "2021-03-07 14:10:56.826976, Epoch 50, training loss: 0.1038\n",
      "2021-03-07 14:11:01.404597, Epoch 60, training loss: 0.0791\n",
      "2021-03-07 14:11:06.027523, Epoch 70, training loss: 0.0604\n",
      "2021-03-07 14:11:10.799376, Epoch 80, training loss: 0.0479\n",
      "2021-03-07 14:11:15.555004, Epoch 90, training loss: 0.0783\n",
      "2021-03-07 14:11:20.457271, Epoch 100, training loss: 0.0235\n",
      "Accuracy train: 1.00\n",
      "Accuracy val: 0.89\n"
     ]
    }
   ],
   "source": [
    "model = NetBatchNorm(n_chans1=32).to(device=device)\n",
    "optimizer = optim.SGD(model.parameters(), lr=1e-2)\n",
    "loss_fn = nn.CrossEntropyLoss()\n",
    "\n",
    "training_loop(\n",
    "    n_epochs = 100,\n",
    "    optimizer = optimizer,\n",
    "    model = model,\n",
    "    loss_fn = loss_fn,\n",
    "    train_loader = train_loader,\n",
    ")\n",
    "batch_norm_acc = validate(model, train_loader, val_loader)\n"
   ],
   "metadata": {
    "collapsed": false,
    "pycharm": {
     "name": "#%%\n"
    }
   }
  },
  {
   "cell_type": "markdown",
   "source": [
    "#### Deeper Models\n",
    "\n",
    "#### Skip Connections\n",
    "The addition of the input to the outputof a block of layers.\n",
    "\n",
    "A skip connection, or a sequence of skip connections in a deep network, creates a direct\n",
    "path from the deeper parameters to the loss. This makes their contribution to the gradient\n",
    "of the loss more direct, as partial derivatives of the loss with respect to those parameters\n",
    "have a chance not to be multiplied by a long chain of other operations."
   ],
   "metadata": {
    "collapsed": false,
    "pycharm": {
     "name": "#%% md\n"
    }
   }
  },
  {
   "cell_type": "code",
   "execution_count": 50,
   "outputs": [],
   "source": [
    "class NetDepth(nn.Module):\n",
    "    def __init__(self, n_chans1=32):\n",
    "        super().__init__()\n",
    "        self.n_chans1 = n_chans1\n",
    "        self.conv1 = nn.Conv2d(3, n_chans1, kernel_size=3, padding=1)\n",
    "        self.conv1_dropout = nn.Dropout2d(p=0.4)\n",
    "        self.conv2 = nn.Conv2d(n_chans1, n_chans1 // 2, kernel_size=3, padding=1)\n",
    "        self.conv3 = nn.Conv2d(n_chans//2, n_channs//2, kernel_size=3, padding=1)\n",
    "        self.conv2_dropout = nn.Dropout2d(p=0.4)\n",
    "        self.fc1 = nn.Linear(4 * 4 * n_chans1 // 2, 32)\n",
    "        self.fc2 = nn.Linear(32, 2)\n",
    "\n",
    "    def forward(self, x):\n",
    "        out = F.max_pool2d(torch.relu(self.conv1(x)), 2)\n",
    "        out = F.max_pool2d(torch.relu(self.conv2(out)), 2)\n",
    "        out = F.max_pool2d(torch.relu(self.conv3(out)), 2)\n",
    "        out = out.view(-1, 4*4*self.n_chans1//2)\n",
    "        out = torch.relu(self.fc1(out))\n",
    "        out = self.fc2(out)\n",
    "        return out"
   ],
   "metadata": {
    "collapsed": false,
    "pycharm": {
     "name": "#%%\n"
    }
   }
  },
  {
   "cell_type": "code",
   "execution_count": 51,
   "outputs": [
    {
     "name": "stdout",
     "output_type": "stream",
     "text": [
      "2021-03-07 14:21:44.423236, Epoch 1, training loss: 0.5420\n",
      "2021-03-07 14:21:48.207998, Epoch 10, training loss: 0.3139\n",
      "2021-03-07 14:21:51.956420, Epoch 20, training loss: 0.2708\n",
      "2021-03-07 14:21:55.866836, Epoch 30, training loss: 0.2446\n",
      "2021-03-07 14:22:00.088820, Epoch 40, training loss: 0.2184\n",
      "2021-03-07 14:22:03.945831, Epoch 50, training loss: 0.1929\n",
      "2021-03-07 14:22:07.799790, Epoch 60, training loss: 0.1673\n",
      "2021-03-07 14:22:11.612050, Epoch 70, training loss: 0.1483\n",
      "2021-03-07 14:22:15.200494, Epoch 80, training loss: 0.1289\n",
      "2021-03-07 14:22:18.786798, Epoch 90, training loss: 0.1089\n",
      "2021-03-07 14:22:22.547138, Epoch 100, training loss: 0.0915\n",
      "Accuracy train: 0.97\n",
      "Accuracy val: 0.90\n"
     ]
    }
   ],
   "source": [
    "model = NetWidth().to(device=device)\n",
    "optimizer = optim.SGD(model.parameters(), lr=1e-2)\n",
    "loss_fn = nn.CrossEntropyLoss()\n",
    "\n",
    "training_loop(\n",
    "    n_epochs = 100,\n",
    "    optimizer = optimizer,\n",
    "    model = model,\n",
    "    loss_fn = loss_fn,\n",
    "    train_loader = train_loader,\n",
    ")\n",
    "\n",
    "acc_depth = validate(model, train_loader, val_loader)"
   ],
   "metadata": {
    "collapsed": false,
    "pycharm": {
     "name": "#%%\n"
    }
   }
  },
  {
   "cell_type": "markdown",
   "source": [
    "Adding the skip connection"
   ],
   "metadata": {
    "collapsed": false,
    "pycharm": {
     "name": "#%% md\n"
    }
   }
  },
  {
   "cell_type": "code",
   "execution_count": 55,
   "outputs": [],
   "source": [
    "class NetRes(nn.Module):\n",
    "    def __init__(self, n_chans1=32):\n",
    "        super().__init__()\n",
    "        self.n_chans1 = n_chans1\n",
    "        self.conv1 = nn.Conv2d(3, n_chans1, kernel_size=3, padding=1)\n",
    "        self.conv1_dropout = nn.Dropout2d(p=0.4)\n",
    "        self.conv2 = nn.Conv2d(n_chans1, n_chans1 // 2, kernel_size=3, padding=1)\n",
    "        self.conv3 = nn.Conv2d(n_chans1//2, n_chans1//2, kernel_size=3, padding=1)\n",
    "        self.conv2_dropout = nn.Dropout2d(p=0.4)\n",
    "        self.fc1 = nn.Linear(4 * 4 * n_chans1 // 2, 32)\n",
    "        self.fc2 = nn.Linear(32, 2)\n",
    "\n",
    "    def forward(self, x):\n",
    "        out = F.max_pool2d(torch.relu(self.conv1(x)), 2)\n",
    "        out = F.max_pool2d(torch.relu(self.conv2(out)), 2)\n",
    "        out1 = out\n",
    "        out = F.max_pool2d(torch.relu(self.conv3(out)) + out1, 2)\n",
    "        out = out.view(-1, 4*4*self.n_chans1//2)\n",
    "        out = torch.relu(self.fc1(out))\n",
    "        out = self.fc2(out)\n",
    "        return out"
   ],
   "metadata": {
    "collapsed": false,
    "pycharm": {
     "name": "#%%\n"
    }
   }
  },
  {
   "cell_type": "code",
   "execution_count": 56,
   "outputs": [
    {
     "name": "stdout",
     "output_type": "stream",
     "text": [
      "2021-03-07 14:24:42.420106, Epoch 1, training loss: 0.6272\n",
      "2021-03-07 14:24:46.216318, Epoch 10, training loss: 0.3230\n",
      "2021-03-07 14:24:50.307285, Epoch 20, training loss: 0.2893\n",
      "2021-03-07 14:24:54.475468, Epoch 30, training loss: 0.2550\n",
      "2021-03-07 14:24:58.646141, Epoch 40, training loss: 0.2211\n",
      "2021-03-07 14:25:02.803910, Epoch 50, training loss: 0.1975\n",
      "2021-03-07 14:25:06.893813, Epoch 60, training loss: 0.1741\n",
      "2021-03-07 14:25:10.944850, Epoch 70, training loss: 0.1536\n",
      "2021-03-07 14:25:15.037150, Epoch 80, training loss: 0.1261\n",
      "2021-03-07 14:25:19.114513, Epoch 90, training loss: 0.1074\n",
      "2021-03-07 14:25:23.205997, Epoch 100, training loss: 0.0891\n",
      "Accuracy train: 0.94\n",
      "Accuracy val: 0.88\n"
     ]
    }
   ],
   "source": [
    "model = NetRes().to(device=device)\n",
    "optimizer = optim.SGD(model.parameters(), lr=1e-2)\n",
    "loss_fn = nn.CrossEntropyLoss()\n",
    "\n",
    "training_loop(\n",
    "    n_epochs = 100,\n",
    "    optimizer = optimizer,\n",
    "    model = model,\n",
    "    loss_fn = loss_fn,\n",
    "    train_loader = train_loader,\n",
    ")\n",
    "\n",
    "acc_depth = validate(model, train_loader, val_loader)"
   ],
   "metadata": {
    "collapsed": false,
    "pycharm": {
     "name": "#%%\n"
    }
   }
  },
  {
   "cell_type": "markdown",
   "source": [
    "#### Block Composition\n",
    "\n",
    "<img src=\"../resources/block_compose.jpg\" alt=\"block_compose\" height=\"200\">"
   ],
   "metadata": {
    "collapsed": false,
    "pycharm": {
     "name": "#%% md\n"
    }
   }
  },
  {
   "cell_type": "code",
   "execution_count": null,
   "outputs": [],
   "source": [
    "class ResBlock(nn.Module):\n",
    "    def __init__(self, n_chans=32):\n",
    "        super().__init__()\n",
    "        self.n_chans = n_chans\n",
    "        self.conv2d = nn.Conv2d(self.n_chans, self.n_chans, kernel_size=3, padding=1, bias=False)\n",
    "        self.batchnorm = nn.BatchNorm2d(num_features=self.n_chans)\n",
    "        # random initialization\n",
    "        torch.nn.init.kaimin_normal_(self.conv2d.weight, nonlinearity='relu')\n",
    "        torch.nn.init.constant(self.batchnorm.weight, 0.5)\n",
    "        torch.nn.init.zeros_(self.batchnorm.bias)\n",
    "\n",
    "    def forward(self, x):\n",
    "        out = torch.relu(self.batchnorm(self.conv2d(x)))\n",
    "        return out + x\n",
    "\n",
    "class ResNetDeep(nn.Module):\n",
    "    def __init__(self, n_chans=32, n_blocks=10):\n",
    "        super().__init__()\n",
    "        self.n_chans = n_chans\n",
    "        self.conv1 = nn.Conv2d(3, n_chans, kernel_size=3, padding=1)\n",
    "        self.resblocks = nn.Sequential(\n",
    "            *(n_blocks * [ResBlock(n_chans=n_chans)])\n",
    "        )\n",
    "        self.fc1 = nn.Linear(8*8*n_chans, 32)\n",
    "        self.fc2 = nn.Linear(32, 2)\n",
    "\n",
    "    def forward(self, x):\n",
    "        out = F.max_pool2d(torch.relu(self.conv1(x)), 2)\n",
    "        out = self.resblocks(out)\n",
    "        out = F.max_pool2d(out, 2)\n",
    "        out = view(-1, 8*8*n_chans)\n",
    "        out = fc1(out)\n",
    "        out = fc2(out)\n",
    "        return out"
   ],
   "metadata": {
    "collapsed": false,
    "pycharm": {
     "name": "#%%\n",
     "is_executing": true
    }
   }
  },
  {
   "cell_type": "code",
   "execution_count": null,
   "outputs": [],
   "source": [
    "model = ResNetDeep().to(device=device)\n",
    "optimizer = optim.SGD(model.parameters(), lr=1e-2)\n",
    "loss_fn = nn.CrossEntropyLoss()\n",
    "\n",
    "training_loop(\n",
    "    n_epochs = 100,\n",
    "    optimizer = optimizer,\n",
    "    model = model,\n",
    "    loss_fn = loss_fn,\n",
    "    train_loader = train_loader,\n",
    ")\n",
    "\n",
    "acc_resnet = validate(model, train_loader, val_loader)"
   ],
   "metadata": {
    "collapsed": false,
    "pycharm": {
     "name": "#%%\n",
     "is_executing": true
    }
   }
  }
 ],
 "metadata": {
  "kernelspec": {
   "name": "python3",
   "language": "python",
   "display_name": "Python 3"
  },
  "language_info": {
   "codemirror_mode": {
    "name": "ipython",
    "version": 2
   },
   "file_extension": ".py",
   "mimetype": "text/x-python",
   "name": "python",
   "nbconvert_exporter": "python",
   "pygments_lexer": "ipython2",
   "version": "2.7.6"
  }
 },
 "nbformat": 4,
 "nbformat_minor": 0
}