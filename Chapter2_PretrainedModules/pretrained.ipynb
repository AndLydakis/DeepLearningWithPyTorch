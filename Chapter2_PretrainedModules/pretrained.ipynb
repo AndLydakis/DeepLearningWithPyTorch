{
 "cells": [
  {
   "cell_type": "code",
   "execution_count": 2,
   "metadata": {
    "collapsed": true
   },
   "outputs": [],
   "source": [
    "from torchvision import models"
   ]
  },
  {
   "cell_type": "code",
   "execution_count": 4,
   "outputs": [
    {
     "data": {
      "text/plain": "['AlexNet',\n 'DenseNet',\n 'GoogLeNet',\n 'GoogLeNetOutputs',\n 'Inception3',\n 'InceptionOutputs',\n 'MNASNet',\n 'MobileNetV2',\n 'ResNet',\n 'ShuffleNetV2',\n 'SqueezeNet',\n 'VGG',\n '_GoogLeNetOutputs',\n '_InceptionOutputs',\n '__builtins__',\n '__cached__',\n '__doc__',\n '__file__',\n '__loader__',\n '__name__',\n '__package__',\n '__path__',\n '__spec__',\n '_utils',\n 'alexnet',\n 'densenet',\n 'densenet121',\n 'densenet161',\n 'densenet169',\n 'densenet201',\n 'detection',\n 'googlenet',\n 'inception',\n 'inception_v3',\n 'mnasnet',\n 'mnasnet0_5',\n 'mnasnet0_75',\n 'mnasnet1_0',\n 'mnasnet1_3',\n 'mobilenet',\n 'mobilenet_v2',\n 'quantization',\n 'resnet',\n 'resnet101',\n 'resnet152',\n 'resnet18',\n 'resnet34',\n 'resnet50',\n 'resnext101_32x8d',\n 'resnext50_32x4d',\n 'segmentation',\n 'shufflenet_v2_x0_5',\n 'shufflenet_v2_x1_0',\n 'shufflenet_v2_x1_5',\n 'shufflenet_v2_x2_0',\n 'shufflenetv2',\n 'squeezenet',\n 'squeezenet1_0',\n 'squeezenet1_1',\n 'utils',\n 'vgg',\n 'vgg11',\n 'vgg11_bn',\n 'vgg13',\n 'vgg13_bn',\n 'vgg16',\n 'vgg16_bn',\n 'vgg19',\n 'vgg19_bn',\n 'video',\n 'wide_resnet101_2',\n 'wide_resnet50_2']"
     },
     "execution_count": 4,
     "metadata": {},
     "output_type": "execute_result"
    }
   ],
   "source": [
    "dir(models)"
   ],
   "metadata": {
    "collapsed": false,
    "pycharm": {
     "name": "#%%\n"
    }
   }
  },
  {
   "cell_type": "markdown",
   "source": [
    "### Alexnet\n",
    "![AlexNet](../resources/alexnet.jpg)"
   ],
   "metadata": {
    "collapsed": false,
    "pycharm": {
     "name": "#%% md\n"
    }
   }
  },
  {
   "cell_type": "code",
   "execution_count": 6,
   "outputs": [],
   "source": [
    "# Create Architecture Instance (uninitialized)\n",
    "alexnet = models.AlexNet()"
   ],
   "metadata": {
    "collapsed": false,
    "pycharm": {
     "name": "#%%\n"
    }
   }
  },
  {
   "cell_type": "code",
   "execution_count": 5,
   "outputs": [
    {
     "data": {
      "text/plain": "ResNet(\n  (conv1): Conv2d(3, 64, kernel_size=(7, 7), stride=(2, 2), padding=(3, 3), bias=False)\n  (bn1): BatchNorm2d(64, eps=1e-05, momentum=0.1, affine=True, track_running_stats=True)\n  (relu): ReLU(inplace=True)\n  (maxpool): MaxPool2d(kernel_size=3, stride=2, padding=1, dilation=1, ceil_mode=False)\n  (layer1): Sequential(\n    (0): Bottleneck(\n      (conv1): Conv2d(64, 64, kernel_size=(1, 1), stride=(1, 1), bias=False)\n      (bn1): BatchNorm2d(64, eps=1e-05, momentum=0.1, affine=True, track_running_stats=True)\n      (conv2): Conv2d(64, 64, kernel_size=(3, 3), stride=(1, 1), padding=(1, 1), bias=False)\n      (bn2): BatchNorm2d(64, eps=1e-05, momentum=0.1, affine=True, track_running_stats=True)\n      (conv3): Conv2d(64, 256, kernel_size=(1, 1), stride=(1, 1), bias=False)\n      (bn3): BatchNorm2d(256, eps=1e-05, momentum=0.1, affine=True, track_running_stats=True)\n      (relu): ReLU(inplace=True)\n      (downsample): Sequential(\n        (0): Conv2d(64, 256, kernel_size=(1, 1), stride=(1, 1), bias=False)\n        (1): BatchNorm2d(256, eps=1e-05, momentum=0.1, affine=True, track_running_stats=True)\n      )\n    )\n    (1): Bottleneck(\n      (conv1): Conv2d(256, 64, kernel_size=(1, 1), stride=(1, 1), bias=False)\n      (bn1): BatchNorm2d(64, eps=1e-05, momentum=0.1, affine=True, track_running_stats=True)\n      (conv2): Conv2d(64, 64, kernel_size=(3, 3), stride=(1, 1), padding=(1, 1), bias=False)\n      (bn2): BatchNorm2d(64, eps=1e-05, momentum=0.1, affine=True, track_running_stats=True)\n      (conv3): Conv2d(64, 256, kernel_size=(1, 1), stride=(1, 1), bias=False)\n      (bn3): BatchNorm2d(256, eps=1e-05, momentum=0.1, affine=True, track_running_stats=True)\n      (relu): ReLU(inplace=True)\n    )\n    (2): Bottleneck(\n      (conv1): Conv2d(256, 64, kernel_size=(1, 1), stride=(1, 1), bias=False)\n      (bn1): BatchNorm2d(64, eps=1e-05, momentum=0.1, affine=True, track_running_stats=True)\n      (conv2): Conv2d(64, 64, kernel_size=(3, 3), stride=(1, 1), padding=(1, 1), bias=False)\n      (bn2): BatchNorm2d(64, eps=1e-05, momentum=0.1, affine=True, track_running_stats=True)\n      (conv3): Conv2d(64, 256, kernel_size=(1, 1), stride=(1, 1), bias=False)\n      (bn3): BatchNorm2d(256, eps=1e-05, momentum=0.1, affine=True, track_running_stats=True)\n      (relu): ReLU(inplace=True)\n    )\n  )\n  (layer2): Sequential(\n    (0): Bottleneck(\n      (conv1): Conv2d(256, 128, kernel_size=(1, 1), stride=(1, 1), bias=False)\n      (bn1): BatchNorm2d(128, eps=1e-05, momentum=0.1, affine=True, track_running_stats=True)\n      (conv2): Conv2d(128, 128, kernel_size=(3, 3), stride=(2, 2), padding=(1, 1), bias=False)\n      (bn2): BatchNorm2d(128, eps=1e-05, momentum=0.1, affine=True, track_running_stats=True)\n      (conv3): Conv2d(128, 512, kernel_size=(1, 1), stride=(1, 1), bias=False)\n      (bn3): BatchNorm2d(512, eps=1e-05, momentum=0.1, affine=True, track_running_stats=True)\n      (relu): ReLU(inplace=True)\n      (downsample): Sequential(\n        (0): Conv2d(256, 512, kernel_size=(1, 1), stride=(2, 2), bias=False)\n        (1): BatchNorm2d(512, eps=1e-05, momentum=0.1, affine=True, track_running_stats=True)\n      )\n    )\n    (1): Bottleneck(\n      (conv1): Conv2d(512, 128, kernel_size=(1, 1), stride=(1, 1), bias=False)\n      (bn1): BatchNorm2d(128, eps=1e-05, momentum=0.1, affine=True, track_running_stats=True)\n      (conv2): Conv2d(128, 128, kernel_size=(3, 3), stride=(1, 1), padding=(1, 1), bias=False)\n      (bn2): BatchNorm2d(128, eps=1e-05, momentum=0.1, affine=True, track_running_stats=True)\n      (conv3): Conv2d(128, 512, kernel_size=(1, 1), stride=(1, 1), bias=False)\n      (bn3): BatchNorm2d(512, eps=1e-05, momentum=0.1, affine=True, track_running_stats=True)\n      (relu): ReLU(inplace=True)\n    )\n    (2): Bottleneck(\n      (conv1): Conv2d(512, 128, kernel_size=(1, 1), stride=(1, 1), bias=False)\n      (bn1): BatchNorm2d(128, eps=1e-05, momentum=0.1, affine=True, track_running_stats=True)\n      (conv2): Conv2d(128, 128, kernel_size=(3, 3), stride=(1, 1), padding=(1, 1), bias=False)\n      (bn2): BatchNorm2d(128, eps=1e-05, momentum=0.1, affine=True, track_running_stats=True)\n      (conv3): Conv2d(128, 512, kernel_size=(1, 1), stride=(1, 1), bias=False)\n      (bn3): BatchNorm2d(512, eps=1e-05, momentum=0.1, affine=True, track_running_stats=True)\n      (relu): ReLU(inplace=True)\n    )\n    (3): Bottleneck(\n      (conv1): Conv2d(512, 128, kernel_size=(1, 1), stride=(1, 1), bias=False)\n      (bn1): BatchNorm2d(128, eps=1e-05, momentum=0.1, affine=True, track_running_stats=True)\n      (conv2): Conv2d(128, 128, kernel_size=(3, 3), stride=(1, 1), padding=(1, 1), bias=False)\n      (bn2): BatchNorm2d(128, eps=1e-05, momentum=0.1, affine=True, track_running_stats=True)\n      (conv3): Conv2d(128, 512, kernel_size=(1, 1), stride=(1, 1), bias=False)\n      (bn3): BatchNorm2d(512, eps=1e-05, momentum=0.1, affine=True, track_running_stats=True)\n      (relu): ReLU(inplace=True)\n    )\n  )\n  (layer3): Sequential(\n    (0): Bottleneck(\n      (conv1): Conv2d(512, 256, kernel_size=(1, 1), stride=(1, 1), bias=False)\n      (bn1): BatchNorm2d(256, eps=1e-05, momentum=0.1, affine=True, track_running_stats=True)\n      (conv2): Conv2d(256, 256, kernel_size=(3, 3), stride=(2, 2), padding=(1, 1), bias=False)\n      (bn2): BatchNorm2d(256, eps=1e-05, momentum=0.1, affine=True, track_running_stats=True)\n      (conv3): Conv2d(256, 1024, kernel_size=(1, 1), stride=(1, 1), bias=False)\n      (bn3): BatchNorm2d(1024, eps=1e-05, momentum=0.1, affine=True, track_running_stats=True)\n      (relu): ReLU(inplace=True)\n      (downsample): Sequential(\n        (0): Conv2d(512, 1024, kernel_size=(1, 1), stride=(2, 2), bias=False)\n        (1): BatchNorm2d(1024, eps=1e-05, momentum=0.1, affine=True, track_running_stats=True)\n      )\n    )\n    (1): Bottleneck(\n      (conv1): Conv2d(1024, 256, kernel_size=(1, 1), stride=(1, 1), bias=False)\n      (bn1): BatchNorm2d(256, eps=1e-05, momentum=0.1, affine=True, track_running_stats=True)\n      (conv2): Conv2d(256, 256, kernel_size=(3, 3), stride=(1, 1), padding=(1, 1), bias=False)\n      (bn2): BatchNorm2d(256, eps=1e-05, momentum=0.1, affine=True, track_running_stats=True)\n      (conv3): Conv2d(256, 1024, kernel_size=(1, 1), stride=(1, 1), bias=False)\n      (bn3): BatchNorm2d(1024, eps=1e-05, momentum=0.1, affine=True, track_running_stats=True)\n      (relu): ReLU(inplace=True)\n    )\n    (2): Bottleneck(\n      (conv1): Conv2d(1024, 256, kernel_size=(1, 1), stride=(1, 1), bias=False)\n      (bn1): BatchNorm2d(256, eps=1e-05, momentum=0.1, affine=True, track_running_stats=True)\n      (conv2): Conv2d(256, 256, kernel_size=(3, 3), stride=(1, 1), padding=(1, 1), bias=False)\n      (bn2): BatchNorm2d(256, eps=1e-05, momentum=0.1, affine=True, track_running_stats=True)\n      (conv3): Conv2d(256, 1024, kernel_size=(1, 1), stride=(1, 1), bias=False)\n      (bn3): BatchNorm2d(1024, eps=1e-05, momentum=0.1, affine=True, track_running_stats=True)\n      (relu): ReLU(inplace=True)\n    )\n    (3): Bottleneck(\n      (conv1): Conv2d(1024, 256, kernel_size=(1, 1), stride=(1, 1), bias=False)\n      (bn1): BatchNorm2d(256, eps=1e-05, momentum=0.1, affine=True, track_running_stats=True)\n      (conv2): Conv2d(256, 256, kernel_size=(3, 3), stride=(1, 1), padding=(1, 1), bias=False)\n      (bn2): BatchNorm2d(256, eps=1e-05, momentum=0.1, affine=True, track_running_stats=True)\n      (conv3): Conv2d(256, 1024, kernel_size=(1, 1), stride=(1, 1), bias=False)\n      (bn3): BatchNorm2d(1024, eps=1e-05, momentum=0.1, affine=True, track_running_stats=True)\n      (relu): ReLU(inplace=True)\n    )\n    (4): Bottleneck(\n      (conv1): Conv2d(1024, 256, kernel_size=(1, 1), stride=(1, 1), bias=False)\n      (bn1): BatchNorm2d(256, eps=1e-05, momentum=0.1, affine=True, track_running_stats=True)\n      (conv2): Conv2d(256, 256, kernel_size=(3, 3), stride=(1, 1), padding=(1, 1), bias=False)\n      (bn2): BatchNorm2d(256, eps=1e-05, momentum=0.1, affine=True, track_running_stats=True)\n      (conv3): Conv2d(256, 1024, kernel_size=(1, 1), stride=(1, 1), bias=False)\n      (bn3): BatchNorm2d(1024, eps=1e-05, momentum=0.1, affine=True, track_running_stats=True)\n      (relu): ReLU(inplace=True)\n    )\n    (5): Bottleneck(\n      (conv1): Conv2d(1024, 256, kernel_size=(1, 1), stride=(1, 1), bias=False)\n      (bn1): BatchNorm2d(256, eps=1e-05, momentum=0.1, affine=True, track_running_stats=True)\n      (conv2): Conv2d(256, 256, kernel_size=(3, 3), stride=(1, 1), padding=(1, 1), bias=False)\n      (bn2): BatchNorm2d(256, eps=1e-05, momentum=0.1, affine=True, track_running_stats=True)\n      (conv3): Conv2d(256, 1024, kernel_size=(1, 1), stride=(1, 1), bias=False)\n      (bn3): BatchNorm2d(1024, eps=1e-05, momentum=0.1, affine=True, track_running_stats=True)\n      (relu): ReLU(inplace=True)\n    )\n    (6): Bottleneck(\n      (conv1): Conv2d(1024, 256, kernel_size=(1, 1), stride=(1, 1), bias=False)\n      (bn1): BatchNorm2d(256, eps=1e-05, momentum=0.1, affine=True, track_running_stats=True)\n      (conv2): Conv2d(256, 256, kernel_size=(3, 3), stride=(1, 1), padding=(1, 1), bias=False)\n      (bn2): BatchNorm2d(256, eps=1e-05, momentum=0.1, affine=True, track_running_stats=True)\n      (conv3): Conv2d(256, 1024, kernel_size=(1, 1), stride=(1, 1), bias=False)\n      (bn3): BatchNorm2d(1024, eps=1e-05, momentum=0.1, affine=True, track_running_stats=True)\n      (relu): ReLU(inplace=True)\n    )\n    (7): Bottleneck(\n      (conv1): Conv2d(1024, 256, kernel_size=(1, 1), stride=(1, 1), bias=False)\n      (bn1): BatchNorm2d(256, eps=1e-05, momentum=0.1, affine=True, track_running_stats=True)\n      (conv2): Conv2d(256, 256, kernel_size=(3, 3), stride=(1, 1), padding=(1, 1), bias=False)\n      (bn2): BatchNorm2d(256, eps=1e-05, momentum=0.1, affine=True, track_running_stats=True)\n      (conv3): Conv2d(256, 1024, kernel_size=(1, 1), stride=(1, 1), bias=False)\n      (bn3): BatchNorm2d(1024, eps=1e-05, momentum=0.1, affine=True, track_running_stats=True)\n      (relu): ReLU(inplace=True)\n    )\n    (8): Bottleneck(\n      (conv1): Conv2d(1024, 256, kernel_size=(1, 1), stride=(1, 1), bias=False)\n      (bn1): BatchNorm2d(256, eps=1e-05, momentum=0.1, affine=True, track_running_stats=True)\n      (conv2): Conv2d(256, 256, kernel_size=(3, 3), stride=(1, 1), padding=(1, 1), bias=False)\n      (bn2): BatchNorm2d(256, eps=1e-05, momentum=0.1, affine=True, track_running_stats=True)\n      (conv3): Conv2d(256, 1024, kernel_size=(1, 1), stride=(1, 1), bias=False)\n      (bn3): BatchNorm2d(1024, eps=1e-05, momentum=0.1, affine=True, track_running_stats=True)\n      (relu): ReLU(inplace=True)\n    )\n    (9): Bottleneck(\n      (conv1): Conv2d(1024, 256, kernel_size=(1, 1), stride=(1, 1), bias=False)\n      (bn1): BatchNorm2d(256, eps=1e-05, momentum=0.1, affine=True, track_running_stats=True)\n      (conv2): Conv2d(256, 256, kernel_size=(3, 3), stride=(1, 1), padding=(1, 1), bias=False)\n      (bn2): BatchNorm2d(256, eps=1e-05, momentum=0.1, affine=True, track_running_stats=True)\n      (conv3): Conv2d(256, 1024, kernel_size=(1, 1), stride=(1, 1), bias=False)\n      (bn3): BatchNorm2d(1024, eps=1e-05, momentum=0.1, affine=True, track_running_stats=True)\n      (relu): ReLU(inplace=True)\n    )\n    (10): Bottleneck(\n      (conv1): Conv2d(1024, 256, kernel_size=(1, 1), stride=(1, 1), bias=False)\n      (bn1): BatchNorm2d(256, eps=1e-05, momentum=0.1, affine=True, track_running_stats=True)\n      (conv2): Conv2d(256, 256, kernel_size=(3, 3), stride=(1, 1), padding=(1, 1), bias=False)\n      (bn2): BatchNorm2d(256, eps=1e-05, momentum=0.1, affine=True, track_running_stats=True)\n      (conv3): Conv2d(256, 1024, kernel_size=(1, 1), stride=(1, 1), bias=False)\n      (bn3): BatchNorm2d(1024, eps=1e-05, momentum=0.1, affine=True, track_running_stats=True)\n      (relu): ReLU(inplace=True)\n    )\n    (11): Bottleneck(\n      (conv1): Conv2d(1024, 256, kernel_size=(1, 1), stride=(1, 1), bias=False)\n      (bn1): BatchNorm2d(256, eps=1e-05, momentum=0.1, affine=True, track_running_stats=True)\n      (conv2): Conv2d(256, 256, kernel_size=(3, 3), stride=(1, 1), padding=(1, 1), bias=False)\n      (bn2): BatchNorm2d(256, eps=1e-05, momentum=0.1, affine=True, track_running_stats=True)\n      (conv3): Conv2d(256, 1024, kernel_size=(1, 1), stride=(1, 1), bias=False)\n      (bn3): BatchNorm2d(1024, eps=1e-05, momentum=0.1, affine=True, track_running_stats=True)\n      (relu): ReLU(inplace=True)\n    )\n    (12): Bottleneck(\n      (conv1): Conv2d(1024, 256, kernel_size=(1, 1), stride=(1, 1), bias=False)\n      (bn1): BatchNorm2d(256, eps=1e-05, momentum=0.1, affine=True, track_running_stats=True)\n      (conv2): Conv2d(256, 256, kernel_size=(3, 3), stride=(1, 1), padding=(1, 1), bias=False)\n      (bn2): BatchNorm2d(256, eps=1e-05, momentum=0.1, affine=True, track_running_stats=True)\n      (conv3): Conv2d(256, 1024, kernel_size=(1, 1), stride=(1, 1), bias=False)\n      (bn3): BatchNorm2d(1024, eps=1e-05, momentum=0.1, affine=True, track_running_stats=True)\n      (relu): ReLU(inplace=True)\n    )\n    (13): Bottleneck(\n      (conv1): Conv2d(1024, 256, kernel_size=(1, 1), stride=(1, 1), bias=False)\n      (bn1): BatchNorm2d(256, eps=1e-05, momentum=0.1, affine=True, track_running_stats=True)\n      (conv2): Conv2d(256, 256, kernel_size=(3, 3), stride=(1, 1), padding=(1, 1), bias=False)\n      (bn2): BatchNorm2d(256, eps=1e-05, momentum=0.1, affine=True, track_running_stats=True)\n      (conv3): Conv2d(256, 1024, kernel_size=(1, 1), stride=(1, 1), bias=False)\n      (bn3): BatchNorm2d(1024, eps=1e-05, momentum=0.1, affine=True, track_running_stats=True)\n      (relu): ReLU(inplace=True)\n    )\n    (14): Bottleneck(\n      (conv1): Conv2d(1024, 256, kernel_size=(1, 1), stride=(1, 1), bias=False)\n      (bn1): BatchNorm2d(256, eps=1e-05, momentum=0.1, affine=True, track_running_stats=True)\n      (conv2): Conv2d(256, 256, kernel_size=(3, 3), stride=(1, 1), padding=(1, 1), bias=False)\n      (bn2): BatchNorm2d(256, eps=1e-05, momentum=0.1, affine=True, track_running_stats=True)\n      (conv3): Conv2d(256, 1024, kernel_size=(1, 1), stride=(1, 1), bias=False)\n      (bn3): BatchNorm2d(1024, eps=1e-05, momentum=0.1, affine=True, track_running_stats=True)\n      (relu): ReLU(inplace=True)\n    )\n    (15): Bottleneck(\n      (conv1): Conv2d(1024, 256, kernel_size=(1, 1), stride=(1, 1), bias=False)\n      (bn1): BatchNorm2d(256, eps=1e-05, momentum=0.1, affine=True, track_running_stats=True)\n      (conv2): Conv2d(256, 256, kernel_size=(3, 3), stride=(1, 1), padding=(1, 1), bias=False)\n      (bn2): BatchNorm2d(256, eps=1e-05, momentum=0.1, affine=True, track_running_stats=True)\n      (conv3): Conv2d(256, 1024, kernel_size=(1, 1), stride=(1, 1), bias=False)\n      (bn3): BatchNorm2d(1024, eps=1e-05, momentum=0.1, affine=True, track_running_stats=True)\n      (relu): ReLU(inplace=True)\n    )\n    (16): Bottleneck(\n      (conv1): Conv2d(1024, 256, kernel_size=(1, 1), stride=(1, 1), bias=False)\n      (bn1): BatchNorm2d(256, eps=1e-05, momentum=0.1, affine=True, track_running_stats=True)\n      (conv2): Conv2d(256, 256, kernel_size=(3, 3), stride=(1, 1), padding=(1, 1), bias=False)\n      (bn2): BatchNorm2d(256, eps=1e-05, momentum=0.1, affine=True, track_running_stats=True)\n      (conv3): Conv2d(256, 1024, kernel_size=(1, 1), stride=(1, 1), bias=False)\n      (bn3): BatchNorm2d(1024, eps=1e-05, momentum=0.1, affine=True, track_running_stats=True)\n      (relu): ReLU(inplace=True)\n    )\n    (17): Bottleneck(\n      (conv1): Conv2d(1024, 256, kernel_size=(1, 1), stride=(1, 1), bias=False)\n      (bn1): BatchNorm2d(256, eps=1e-05, momentum=0.1, affine=True, track_running_stats=True)\n      (conv2): Conv2d(256, 256, kernel_size=(3, 3), stride=(1, 1), padding=(1, 1), bias=False)\n      (bn2): BatchNorm2d(256, eps=1e-05, momentum=0.1, affine=True, track_running_stats=True)\n      (conv3): Conv2d(256, 1024, kernel_size=(1, 1), stride=(1, 1), bias=False)\n      (bn3): BatchNorm2d(1024, eps=1e-05, momentum=0.1, affine=True, track_running_stats=True)\n      (relu): ReLU(inplace=True)\n    )\n    (18): Bottleneck(\n      (conv1): Conv2d(1024, 256, kernel_size=(1, 1), stride=(1, 1), bias=False)\n      (bn1): BatchNorm2d(256, eps=1e-05, momentum=0.1, affine=True, track_running_stats=True)\n      (conv2): Conv2d(256, 256, kernel_size=(3, 3), stride=(1, 1), padding=(1, 1), bias=False)\n      (bn2): BatchNorm2d(256, eps=1e-05, momentum=0.1, affine=True, track_running_stats=True)\n      (conv3): Conv2d(256, 1024, kernel_size=(1, 1), stride=(1, 1), bias=False)\n      (bn3): BatchNorm2d(1024, eps=1e-05, momentum=0.1, affine=True, track_running_stats=True)\n      (relu): ReLU(inplace=True)\n    )\n    (19): Bottleneck(\n      (conv1): Conv2d(1024, 256, kernel_size=(1, 1), stride=(1, 1), bias=False)\n      (bn1): BatchNorm2d(256, eps=1e-05, momentum=0.1, affine=True, track_running_stats=True)\n      (conv2): Conv2d(256, 256, kernel_size=(3, 3), stride=(1, 1), padding=(1, 1), bias=False)\n      (bn2): BatchNorm2d(256, eps=1e-05, momentum=0.1, affine=True, track_running_stats=True)\n      (conv3): Conv2d(256, 1024, kernel_size=(1, 1), stride=(1, 1), bias=False)\n      (bn3): BatchNorm2d(1024, eps=1e-05, momentum=0.1, affine=True, track_running_stats=True)\n      (relu): ReLU(inplace=True)\n    )\n    (20): Bottleneck(\n      (conv1): Conv2d(1024, 256, kernel_size=(1, 1), stride=(1, 1), bias=False)\n      (bn1): BatchNorm2d(256, eps=1e-05, momentum=0.1, affine=True, track_running_stats=True)\n      (conv2): Conv2d(256, 256, kernel_size=(3, 3), stride=(1, 1), padding=(1, 1), bias=False)\n      (bn2): BatchNorm2d(256, eps=1e-05, momentum=0.1, affine=True, track_running_stats=True)\n      (conv3): Conv2d(256, 1024, kernel_size=(1, 1), stride=(1, 1), bias=False)\n      (bn3): BatchNorm2d(1024, eps=1e-05, momentum=0.1, affine=True, track_running_stats=True)\n      (relu): ReLU(inplace=True)\n    )\n    (21): Bottleneck(\n      (conv1): Conv2d(1024, 256, kernel_size=(1, 1), stride=(1, 1), bias=False)\n      (bn1): BatchNorm2d(256, eps=1e-05, momentum=0.1, affine=True, track_running_stats=True)\n      (conv2): Conv2d(256, 256, kernel_size=(3, 3), stride=(1, 1), padding=(1, 1), bias=False)\n      (bn2): BatchNorm2d(256, eps=1e-05, momentum=0.1, affine=True, track_running_stats=True)\n      (conv3): Conv2d(256, 1024, kernel_size=(1, 1), stride=(1, 1), bias=False)\n      (bn3): BatchNorm2d(1024, eps=1e-05, momentum=0.1, affine=True, track_running_stats=True)\n      (relu): ReLU(inplace=True)\n    )\n    (22): Bottleneck(\n      (conv1): Conv2d(1024, 256, kernel_size=(1, 1), stride=(1, 1), bias=False)\n      (bn1): BatchNorm2d(256, eps=1e-05, momentum=0.1, affine=True, track_running_stats=True)\n      (conv2): Conv2d(256, 256, kernel_size=(3, 3), stride=(1, 1), padding=(1, 1), bias=False)\n      (bn2): BatchNorm2d(256, eps=1e-05, momentum=0.1, affine=True, track_running_stats=True)\n      (conv3): Conv2d(256, 1024, kernel_size=(1, 1), stride=(1, 1), bias=False)\n      (bn3): BatchNorm2d(1024, eps=1e-05, momentum=0.1, affine=True, track_running_stats=True)\n      (relu): ReLU(inplace=True)\n    )\n  )\n  (layer4): Sequential(\n    (0): Bottleneck(\n      (conv1): Conv2d(1024, 512, kernel_size=(1, 1), stride=(1, 1), bias=False)\n      (bn1): BatchNorm2d(512, eps=1e-05, momentum=0.1, affine=True, track_running_stats=True)\n      (conv2): Conv2d(512, 512, kernel_size=(3, 3), stride=(2, 2), padding=(1, 1), bias=False)\n      (bn2): BatchNorm2d(512, eps=1e-05, momentum=0.1, affine=True, track_running_stats=True)\n      (conv3): Conv2d(512, 2048, kernel_size=(1, 1), stride=(1, 1), bias=False)\n      (bn3): BatchNorm2d(2048, eps=1e-05, momentum=0.1, affine=True, track_running_stats=True)\n      (relu): ReLU(inplace=True)\n      (downsample): Sequential(\n        (0): Conv2d(1024, 2048, kernel_size=(1, 1), stride=(2, 2), bias=False)\n        (1): BatchNorm2d(2048, eps=1e-05, momentum=0.1, affine=True, track_running_stats=True)\n      )\n    )\n    (1): Bottleneck(\n      (conv1): Conv2d(2048, 512, kernel_size=(1, 1), stride=(1, 1), bias=False)\n      (bn1): BatchNorm2d(512, eps=1e-05, momentum=0.1, affine=True, track_running_stats=True)\n      (conv2): Conv2d(512, 512, kernel_size=(3, 3), stride=(1, 1), padding=(1, 1), bias=False)\n      (bn2): BatchNorm2d(512, eps=1e-05, momentum=0.1, affine=True, track_running_stats=True)\n      (conv3): Conv2d(512, 2048, kernel_size=(1, 1), stride=(1, 1), bias=False)\n      (bn3): BatchNorm2d(2048, eps=1e-05, momentum=0.1, affine=True, track_running_stats=True)\n      (relu): ReLU(inplace=True)\n    )\n    (2): Bottleneck(\n      (conv1): Conv2d(2048, 512, kernel_size=(1, 1), stride=(1, 1), bias=False)\n      (bn1): BatchNorm2d(512, eps=1e-05, momentum=0.1, affine=True, track_running_stats=True)\n      (conv2): Conv2d(512, 512, kernel_size=(3, 3), stride=(1, 1), padding=(1, 1), bias=False)\n      (bn2): BatchNorm2d(512, eps=1e-05, momentum=0.1, affine=True, track_running_stats=True)\n      (conv3): Conv2d(512, 2048, kernel_size=(1, 1), stride=(1, 1), bias=False)\n      (bn3): BatchNorm2d(2048, eps=1e-05, momentum=0.1, affine=True, track_running_stats=True)\n      (relu): ReLU(inplace=True)\n    )\n  )\n  (avgpool): AdaptiveAvgPool2d(output_size=(1, 1))\n  (fc): Linear(in_features=2048, out_features=1000, bias=True)\n)"
     },
     "execution_count": 5,
     "metadata": {},
     "output_type": "execute_result"
    }
   ],
   "source": [
    "# pretrained instance\n",
    "resnet = models.resnet101(pretrained=True)\n",
    "resnet"
   ],
   "metadata": {
    "collapsed": false,
    "pycharm": {
     "name": "#%%\n"
    }
   }
  },
  {
   "cell_type": "code",
   "execution_count": 16,
   "outputs": [],
   "source": [
    "# create preprocessing pipeline\n",
    "from torchvision import transforms\n",
    "preprocess = transforms.Compose([\n",
    "    transforms.Resize(256),\n",
    "    transforms.CenterCrop(224),\n",
    "    transforms.ToTensor(),\n",
    "    transforms.Normalize(\n",
    "        mean=[0.485, 0.456, 0.406],\n",
    "        std=[0.229, 0.224, 0.225]\n",
    "    )\n",
    "])"
   ],
   "metadata": {
    "collapsed": false,
    "pycharm": {
     "name": "#%%\n"
    }
   }
  },
  {
   "cell_type": "code",
   "execution_count": 17,
   "outputs": [],
   "source": [
    "from PIL import Image\n",
    "img = Image.open('../resources/sampledog.jpg')\n",
    "img.show()"
   ],
   "metadata": {
    "collapsed": false,
    "pycharm": {
     "name": "#%%\n"
    }
   }
  },
  {
   "cell_type": "code",
   "execution_count": 18,
   "outputs": [],
   "source": [
    "img_t = preprocess(img)"
   ],
   "metadata": {
    "collapsed": false,
    "pycharm": {
     "name": "#%%\n"
    }
   }
  },
  {
   "cell_type": "code",
   "execution_count": 19,
   "outputs": [],
   "source": [
    "import torch\n",
    "batch_t = torch.unsqueeze(img_t, 0)"
   ],
   "metadata": {
    "collapsed": false,
    "pycharm": {
     "name": "#%%\n"
    }
   }
  },
  {
   "cell_type": "code",
   "execution_count": 21,
   "outputs": [
    {
     "data": {
      "text/plain": "tensor([[-3.6147e+00, -2.1570e+00, -1.3550e+00, -3.1229e+00, -3.2199e+00,\n         -2.5013e+00, -2.4327e+00, -1.0339e+00,  3.6230e-01, -2.9385e+00,\n         -2.4803e+00, -1.6280e+00, -3.1554e+00, -2.5722e+00, -2.2089e+00,\n         -2.6120e+00, -2.8216e+00, -9.5635e-01, -8.3074e-01, -1.5561e+00,\n         -3.2628e+00, -3.6834e+00, -2.3613e+00,  2.9026e-01, -1.1458e+00,\n         -1.0387e+00, -3.9383e+00, -3.1452e+00, -1.7888e+00, -2.3768e+00,\n         -3.0353e+00, -3.7640e+00, -2.8236e+00, -2.1904e+00, -1.6214e+00,\n         -3.0672e+00, -1.2391e+00, -1.1370e+00, -2.3065e+00, -1.0437e+00,\n         -2.1649e+00, -3.1948e+00, -7.2926e-01, -2.3739e+00, -2.4111e+00,\n         -6.1778e-01,  5.9493e-02, -2.4087e+00, -2.7027e+00, -1.4797e+00,\n         -3.1527e-01, -2.5714e+00, -8.9716e-01, -9.7916e-01, -4.0432e-01,\n         -1.1672e+00,  2.6897e-01, -1.9691e+00, -1.2615e+00, -1.4185e+00,\n          7.1357e-01, -8.4214e-01, -2.5739e-01,  1.0829e+00, -2.2814e+00,\n         -1.7367e+00, -3.1570e+00,  8.2051e-01, -2.9843e+00, -3.6396e+00,\n         -1.5247e+00,  1.2673e-01, -1.9359e+00, -2.1249e+00, -7.0076e-01,\n         -4.2173e-01, -1.9027e+00, -8.6427e-03, -1.3098e+00,  1.5422e+00,\n         -2.8805e+00, -2.7430e+00,  8.6371e-01, -1.6656e+00, -2.1082e+00,\n         -1.0856e+00,  1.7077e-01, -8.9804e-01, -9.3407e-01, -3.6360e-02,\n         -6.8147e-01, -1.0317e+00, -2.7767e-01, -1.0120e+00, -1.7597e+00,\n         -4.8902e+00, -1.1564e+00, -8.0807e-01, -2.9661e+00, -9.5423e-01,\n         -1.5288e+00, -1.9400e+00, -2.5110e+00, -3.2367e+00, -2.2541e+00,\n         -4.4848e+00, -3.2469e+00, -7.9114e-01, -4.9978e-01, -2.5632e+00,\n         -3.4558e+00, -4.8118e-01,  4.0168e+00,  3.1563e-02,  3.5449e-01,\n         -2.1032e+00, -1.7203e+00, -1.2705e+00, -2.5032e+00, -1.8526e+00,\n         -4.0768e+00, -1.0782e+00, -6.9105e-01, -3.1025e-01, -1.7724e+00,\n         -3.9808e-01, -1.7560e+00, -6.5711e-01, -4.0941e+00,  6.1956e-01,\n         -1.2399e+00, -3.5373e+00, -1.9407e+00, -1.4676e+00, -1.0192e+00,\n         -1.5844e+00, -1.6973e+00, -1.8470e+00, -3.7950e+00, -2.4339e+00,\n         -1.7120e+00, -4.3432e+00, -1.9342e+00, -2.4662e+00, -2.6567e+00,\n         -2.5948e+00, -2.5627e+00, -4.2225e+00, -4.6905e+00, -4.0036e+00,\n         -1.5111e+00,  2.6457e+00,  3.0438e+00,  1.5879e+00,  5.6534e+00,\n          1.5343e+00,  4.4909e+00,  5.7809e-01, -1.3127e-01,  5.1571e+00,\n          4.8530e+00,  1.9690e+00,  3.1497e+00,  4.0429e+00,  1.9913e+00,\n          2.3702e+00,  1.1701e+00,  8.2765e-01,  4.4736e+00,  3.1341e+00,\n          3.4882e+00, -1.2265e+00, -1.7894e+00, -5.3792e-02,  1.5443e+00,\n          5.2688e+00,  3.6979e+00,  1.0139e+00,  5.0794e-01,  7.5458e-01,\n          1.0349e+00, -3.5525e-01,  2.3036e+00,  9.4224e-01,  3.6469e+00,\n          3.8529e+00,  1.7551e+00,  4.9358e-01, -3.7818e-01,  1.8506e+00,\n          1.0145e-01,  2.6845e+00,  2.0792e+00,  9.4331e-01,  1.7944e+00,\n          2.0266e-01,  6.1062e-01,  3.1769e+00,  3.2892e-01,  1.3489e+00,\n          5.2130e+00,  9.6832e-01,  3.8438e+00,  3.8587e-01,  3.6361e+00,\n          7.7491e+00,  6.4687e+00,  1.6982e+01,  1.2162e+01,  3.9817e+00,\n         -1.4627e+00,  1.8447e+00,  5.8616e+00,  7.2085e+00,  7.0434e+00,\n          5.0520e+00,  7.9934e+00,  3.1178e+00,  4.8500e+00,  1.1514e+01,\n          7.1738e+00,  2.3396e+00,  1.0399e+01,  1.7740e+00,  3.6377e+00,\n          6.0101e-01,  4.3399e+00,  4.1566e+00,  7.5781e-01,  5.4433e-01,\n          2.5527e+00,  7.6200e+00,  5.3024e+00,  4.3976e-01,  5.6717e+00,\n          5.8361e+00,  1.1596e+00, -2.4972e+00,  4.0262e+00,  5.9043e+00,\n          3.5568e+00,  2.7455e+00,  1.6448e-01,  2.7002e+00,  7.5903e+00,\n         -2.1710e-01,  2.0502e+00,  6.3567e+00,  5.2463e+00,  4.5456e+00,\n          1.8187e+00,  3.7579e+00, -4.6417e-02, -7.1696e-01,  5.4915e-01,\n          5.9733e+00,  6.9050e+00,  8.4567e+00,  4.5475e+00,  3.9273e+00,\n          5.9450e+00, -4.4944e-01, -2.9521e-02,  5.1474e+00,  3.8037e+00,\n          2.2623e+00,  2.6265e+00,  4.9165e+00, -3.1372e+00,  1.9522e+00,\n          2.7979e+00,  5.7649e-01, -9.5966e-01,  5.0845e+00, -2.5065e+00,\n         -1.1360e+00, -5.7022e-01, -2.4604e+00, -2.0160e+00, -1.9380e+00,\n         -1.7728e+00, -8.3172e-01,  3.7134e-01, -1.3102e+00, -8.8035e-01,\n         -1.1295e+00, -1.3467e+00, -4.3764e+00, -2.3226e+00, -4.0228e+00,\n         -1.1670e+00, -3.5548e-02, -6.2999e-01,  2.3977e+00, -3.8879e-01,\n         -8.4206e-01,  1.6190e+00, -2.3818e+00, -2.8603e+00, -1.2011e+00,\n         -1.3555e+00,  2.0166e+00, -2.0141e+00, -2.8153e+00,  9.8325e-01,\n          1.3395e+00,  1.4859e+00,  6.4177e-01, -8.6483e-01, -5.3693e-01,\n          4.3555e-01,  2.9504e-01, -1.3770e-02, -7.6039e-01,  2.0128e+00,\n         -2.4179e+00, -1.1600e+00, -1.1959e-01, -7.5252e-01,  8.4119e-01,\n         -1.8454e+00, -2.3722e+00, -4.3478e+00,  1.3023e-01, -3.0202e+00,\n         -2.9494e+00, -2.2135e+00,  7.8127e-01, -7.1645e-01, -1.1627e+00,\n         -3.1663e+00, -2.4682e+00, -1.6492e+00, -1.6725e+00, -2.5076e+00,\n         -3.9636e+00, -2.0741e+00, -9.6391e-01, -3.2698e-01, -1.2180e+00,\n         -2.0852e+00, -2.4718e+00, -2.7841e+00, -3.3043e+00, -3.3573e+00,\n         -3.7098e-01, -8.2806e-01, -3.1412e+00, -6.2539e-01, -5.4962e+00,\n         -3.3351e+00, -4.1372e+00, -1.4324e+00, -1.9697e+00, -2.9315e+00,\n          3.0189e-01, -1.0016e+00, -2.4151e+00, -1.9320e+00, -1.3772e+00,\n         -1.6980e+00, -2.4053e+00, -1.4300e+00, -2.1272e+00, -2.8882e+00,\n         -9.3857e-01, -2.7256e+00, -4.4402e+00, -3.3073e-01, -8.8570e-01,\n         -2.9238e+00, -2.3784e+00, -5.0295e+00, -2.3529e+00, -2.8242e+00,\n         -3.0270e+00, -2.4999e+00, -1.8393e+00, -2.5037e+00, -1.4355e+00,\n         -2.7933e+00, -2.7513e+00, -2.3662e+00, -3.7319e+00, -4.0256e+00,\n         -1.7078e+00, -1.6931e+00, -2.3310e+00, -1.9981e-01, -3.5136e+00,\n         -3.0063e+00, -4.2560e+00, -4.8524e+00, -3.4948e+00, -3.1733e+00,\n         -2.0326e+00, -2.9408e+00, -1.9606e+00,  1.3227e-01,  9.8614e-01,\n         -4.8781e-01,  4.2541e+00,  1.8865e+00, -1.9125e+00, -3.5151e+00,\n         -2.4688e+00, -1.3954e+00, -7.4261e-01, -4.1089e-01,  4.5197e-01,\n         -1.8955e+00,  1.5934e+00,  1.3252e+00, -1.0228e+00,  1.4434e+00,\n          3.0400e+00, -2.6477e-01,  9.7425e-01,  9.7097e-01,  1.2275e+00,\n          1.0575e+00,  2.5962e+00,  1.4018e-02, -5.5779e-01, -9.6919e-01,\n         -1.3431e+00, -4.2289e-01,  1.8139e-01,  2.5396e+00,  3.9100e+00,\n          8.9013e-01,  2.5981e-01,  3.4442e+00,  2.4883e+00,  4.9180e+00,\n          4.4409e+00,  5.0323e-01,  1.7322e-01, -5.4945e-01, -1.7593e+00,\n          3.3109e+00,  1.0492e+00,  2.1675e-01, -6.4944e-01, -3.2295e-03,\n          2.0254e+00, -4.2518e-01,  1.5672e+00,  7.7629e-01, -1.5471e+00,\n         -1.8291e+00, -1.0954e+00,  1.6828e+00, -1.8214e+00, -6.8877e-02,\n          1.3957e+00, -1.4514e+00,  2.8112e+00, -8.8017e-01, -1.0118e+00,\n          2.6075e-01, -3.3670e+00,  1.2482e+00,  3.1731e+00, -2.1762e-01,\n         -3.3406e-02, -3.1028e+00, -2.1245e+00, -5.6627e-01, -7.3474e-02,\n          5.5375e-01,  1.2546e+00,  2.4303e+00, -6.6015e-01, -1.9669e+00,\n         -1.1439e-01, -8.7320e-01, -1.9046e+00,  2.1727e+00,  2.3181e+00,\n         -9.6829e-01, -1.8861e+00, -1.2551e+00, -1.6209e+00, -1.8425e+00,\n         -3.1016e+00,  1.1101e+00,  6.7829e-01,  1.2176e+00,  5.8900e-01,\n         -5.8979e-01,  2.5479e-01,  5.0060e-01, -1.5274e+00, -2.7900e-01,\n         -2.2589e-01, -3.6089e-01, -1.0981e+00, -3.9459e-01,  1.4716e+00,\n         -1.6430e+00, -9.2917e-01,  2.4868e+00,  4.0673e-02,  1.2665e+00,\n         -2.3315e-01,  1.3332e+00, -1.4166e+00,  1.0368e+00,  7.9153e-01,\n         -2.9686e+00, -2.5633e-01,  8.8662e-01,  2.2214e+00,  1.0566e+00,\n          3.3501e+00,  7.9319e-01,  8.1982e-01,  1.1438e+00,  2.1093e+00,\n          6.2141e-01, -2.1276e+00,  3.7617e+00,  1.8412e+00, -1.8608e+00,\n         -7.1271e-02,  1.1421e-01, -1.7569e+00,  2.2277e+00,  4.2650e-01,\n          9.3389e-02,  1.1962e+00, -3.8346e-01, -1.1158e+00,  2.4959e+00,\n         -1.6096e+00, -1.7247e+00,  3.3929e-01, -1.7523e+00,  4.4862e+00,\n         -3.0431e+00,  3.9482e+00,  3.6037e+00,  3.2740e+00, -1.1987e+00,\n          1.9895e-01,  4.8349e-01, -2.8926e+00, -2.2247e+00, -3.6525e-01,\n         -8.5899e-01, -2.3601e-03,  4.8972e+00, -6.4599e-01, -3.1234e+00,\n         -1.8315e+00, -2.9761e+00,  8.8140e-01,  3.8870e+00,  3.6379e+00,\n          4.9899e-02, -1.1539e+00, -3.7778e-01,  2.9894e-01, -1.7459e+00,\n         -1.8149e+00,  3.0323e+00, -5.6383e-01,  1.7183e+00, -6.5518e-01,\n         -6.0570e-01, -1.8650e-01,  2.8958e+00, -7.3062e-01,  3.4628e+00,\n          1.4493e+00,  7.7449e-01,  2.6939e-01,  5.4818e+00,  3.8855e+00,\n          3.9623e-01, -2.1552e+00,  1.4437e+00, -2.4677e+00, -3.5398e-01,\n         -2.9017e-02,  9.0572e-01, -2.1781e-01,  4.5786e-01,  2.9848e+00,\n         -2.0572e+00,  2.7124e+00, -4.3516e+00,  2.2143e+00,  3.3426e+00,\n          2.2977e-01,  1.9662e+00, -7.3792e-01, -1.2127e+00,  1.6629e+00,\n         -1.1977e+00, -1.0143e+00, -6.1692e-01, -9.3481e-01, -1.0757e+00,\n         -6.0066e-01, -1.1937e+00, -9.4119e-01,  2.5200e+00,  2.5349e+00,\n          2.0409e-01, -2.5784e+00, -5.5971e-01, -2.3035e+00,  1.0156e+00,\n          1.4700e+00,  1.9126e+00, -7.4064e-01,  4.4083e+00, -8.6305e-02,\n          1.6312e-03,  2.2821e+00,  2.4329e+00, -1.2162e-01, -1.1731e+00,\n         -2.4365e+00,  7.6339e-01, -3.0086e-01, -3.1770e+00,  2.0417e+00,\n          6.5650e-01,  1.1516e+00, -2.4249e-03,  4.4938e-01,  1.3766e-01,\n         -1.4967e+00, -1.1703e+00, -7.6068e-01,  3.3473e+00,  1.5008e+00,\n         -2.7111e+00,  4.6092e+00,  4.3625e-01,  4.7308e-01,  9.3139e-01,\n         -1.7763e-01,  1.4906e+00,  1.1928e-02, -2.0149e+00, -3.5840e+00,\n          2.9375e+00, -7.6471e-01,  9.2681e-01, -1.5068e+00, -1.8750e+00,\n          1.0057e+00,  2.4938e-01,  6.2013e-01, -6.5936e-01,  2.7288e+00,\n          9.5442e-01,  7.4552e-01, -3.1436e+00, -1.8895e+00,  2.1531e-01,\n         -2.1255e-01,  3.5659e+00,  2.1432e+00, -1.1869e+00, -2.6657e+00,\n          1.2650e+00,  4.7937e-01,  5.6001e-01,  9.6377e-01, -2.5975e+00,\n         -3.5225e+00,  4.7905e+00,  7.1183e-01,  9.3689e-02,  4.6761e-02,\n          4.3191e-01,  1.5983e+00, -5.1360e-01,  3.8243e+00, -1.3554e+00,\n         -3.7104e+00, -3.3612e+00, -1.8585e+00, -2.2686e+00,  1.9460e-02,\n         -1.4889e+00, -1.1631e+00, -2.2123e-01,  1.8859e+00,  2.7767e-01,\n         -1.2097e+00,  4.9706e-01,  5.5163e-01,  9.2737e-01,  1.6258e+00,\n          3.8330e+00, -7.8076e-01, -1.1309e+00,  1.7623e+00, -1.6624e-01,\n         -1.8867e-01,  1.4581e+00, -8.5914e-01,  4.1497e-01, -2.6329e+00,\n          4.2256e-01,  2.1094e+00, -2.1343e+00, -1.4174e+00,  1.2962e-01,\n         -3.9473e+00,  6.4902e-01,  2.0087e+00, -1.5856e+00, -2.6493e-01,\n         -2.2290e-01,  1.6509e-01,  3.1869e+00,  9.5522e-01,  5.5558e-02,\n          3.9153e-01, -2.5737e+00, -1.0646e+00, -3.0977e-01, -8.3196e-01,\n          6.2239e-01,  2.0541e+00, -3.3689e-01,  2.3963e+00, -2.3626e+00,\n          1.2913e-01,  3.3077e+00,  2.1462e+00, -1.6061e-01, -1.1949e+00,\n          1.5894e+00,  1.9256e+00, -3.9177e-01, -1.0519e+00,  6.8803e-01,\n         -6.2742e-01, -9.8396e-01, -7.2104e-01, -7.1716e-01,  2.9749e-01,\n          2.2433e+00, -2.9975e+00,  2.0676e+00, -4.8384e-01,  1.9344e-01,\n         -1.6434e+00,  7.6964e-02,  1.8998e+00,  7.4259e-01,  1.6005e+00,\n         -4.3077e-01,  2.2635e+00,  9.4521e-01,  9.4748e-02,  9.8208e-02,\n          2.5442e+00, -1.0608e+00,  2.1420e+00,  1.8067e-01, -2.3151e-01,\n         -4.0317e-01,  1.6670e-01, -5.7558e-01,  1.6461e+00,  1.1825e+00,\n          2.3911e+00,  6.5652e+00, -1.7065e+00, -5.1768e-01,  9.8856e-01,\n         -1.9689e-01, -2.3247e+00, -4.7893e-02, -4.7281e-01, -2.9685e-01,\n          2.9030e+00, -3.7588e-01, -1.4590e+00,  7.3893e-02,  8.7375e-01,\n          7.2618e-01,  2.3791e+00,  1.3210e+00,  2.3699e+00,  2.7633e-01,\n         -1.5622e+00, -3.6145e-01,  2.7497e+00, -2.4533e+00,  2.7420e+00,\n         -1.7317e+00, -1.6758e+00, -3.5797e+00, -2.3972e+00,  5.6845e-01,\n          5.5873e+00, -9.9926e-01, -2.8296e+00,  2.4266e+00,  6.1018e-01,\n         -5.4943e-02, -9.3106e-01, -2.2866e+00,  3.1652e+00, -3.3463e+00,\n         -9.9628e-01, -1.0421e+00, -2.7167e+00,  3.8339e-01,  2.2459e+00,\n         -2.4670e+00, -2.8503e+00,  1.8356e-01,  1.2734e-01,  2.7801e+00,\n          7.4794e-01,  1.2587e+00, -2.0828e-01,  2.5734e+00, -9.7614e-01,\n         -9.5743e-01,  1.2653e+00, -1.8735e+00, -1.9084e+00,  1.8631e-01,\n         -2.3678e+00,  2.7140e+00,  2.9586e+00, -6.0590e-01, -2.3607e+00,\n          7.4592e-01, -1.0691e+00,  7.6235e-01,  1.9832e+00, -9.9543e-01,\n          9.4102e-01, -1.8161e+00, -7.8824e-01, -1.6115e+00, -1.7981e+00,\n          2.4245e+00, -7.5357e-02,  7.8940e+00, -6.8182e-01, -5.8292e-01,\n          1.3810e+00, -4.7047e-01, -1.4578e+00,  8.0719e-02, -2.7020e-01,\n         -1.7978e+00, -1.7092e-01, -2.2908e-01, -2.3734e+00, -2.0103e+00,\n         -4.1383e-01,  1.2470e+00, -1.8385e+00,  3.0457e+00,  8.4442e-01,\n          1.9508e+00, -3.3390e+00,  2.7063e+00, -1.4193e+00, -5.3144e+00,\n          2.4523e+00,  6.1004e+00, -1.8240e+00,  3.4538e-01,  2.7457e+00,\n          1.1058e+00,  1.4327e+00,  2.1657e+00,  1.1355e+00, -1.8231e+00,\n         -1.4547e-01, -1.2707e+00, -6.7615e-01, -3.5098e+00,  5.0982e-01,\n          3.0661e-01, -1.1963e+00,  1.9619e-01, -2.2654e+00, -2.5930e+00,\n         -1.7517e+00, -1.1234e+00, -1.5718e-01,  3.6785e+00,  2.0615e+00,\n         -1.0749e+00, -1.2650e+00,  2.0448e+00,  1.1975e+00,  1.5497e+00,\n         -6.2147e-01, -2.7143e+00,  1.4370e+00, -3.9200e-01, -5.8089e-01,\n          2.7202e+00, -6.3620e-01, -3.0533e-01,  1.2367e+00, -4.0064e+00,\n         -4.8944e-01,  9.7828e-01, -3.6095e+00,  2.2390e-01, -2.4736e+00,\n         -9.9180e-01, -2.6014e+00, -8.3808e-03,  7.6815e-01, -2.9143e-01,\n         -1.2584e+00, -1.2789e+00, -3.3253e-01,  1.3103e+00,  5.5859e+00,\n          1.2627e+00,  3.2363e+00,  2.3641e+00,  3.9255e-01,  2.6816e+00,\n          1.3152e+00,  1.1394e+00,  7.6935e-01, -5.4228e-01,  9.4215e-01,\n         -1.3348e+00, -1.7195e+00,  5.7676e-02,  1.4091e+00, -8.1239e-01,\n          6.5517e-01, -9.4624e-01,  1.8171e+00,  3.1217e+00,  3.5210e-01,\n          9.0640e-01,  3.9024e-01, -1.3053e+00,  2.3684e+00,  1.8041e+00,\n          1.2232e+00,  1.1511e+00, -5.9044e-01,  1.8367e+00, -2.2909e-01,\n          6.8742e-01,  3.1048e+00,  8.6173e-01, -2.2851e+00,  5.6149e-01,\n          9.4143e-01,  1.4552e+00,  4.9720e-01,  3.5271e+00,  1.5272e+00,\n         -1.7962e+00,  3.8693e+00, -8.8635e-01, -2.6159e+00, -3.5250e+00,\n          1.6356e+00, -2.7137e+00,  2.3582e+00, -6.5226e-01, -1.3841e+00,\n         -3.4027e+00,  1.6199e+00,  1.4071e+00, -2.8320e+00, -6.9872e-01,\n         -1.5468e+00, -4.2474e+00,  3.8669e+00,  3.0644e-01, -1.0856e+00,\n          1.6378e+00, -3.5349e+00,  1.2595e+00, -3.0272e+00, -1.5502e+00,\n         -1.3729e+00, -6.5032e-01, -3.3313e+00,  3.7245e+00,  3.0465e+00]],\n       grad_fn=<AddmmBackward>)"
     },
     "execution_count": 21,
     "metadata": {},
     "output_type": "execute_result"
    }
   ],
   "source": [
    "# Pass image through net\n",
    "resnet.eval()\n",
    "out = resnet(batch_t)\n",
    "out"
   ],
   "metadata": {
    "collapsed": false,
    "pycharm": {
     "name": "#%%\n"
    }
   }
  },
  {
   "cell_type": "code",
   "execution_count": 23,
   "outputs": [
    {
     "data": {
      "text/plain": "['0, tench',\n '1, goldfish',\n '2, great_white_shark',\n '3, tiger_shark',\n '4, hammerhead',\n '5, electric_ray',\n '6, stingray',\n '7, cock',\n '8, hen',\n '9, ostrich',\n '10, brambling',\n '11, goldfinch',\n '12, house_finch',\n '13, junco',\n '14, indigo_bunting',\n '15, robin',\n '16, bulbul',\n '17, jay',\n '18, magpie',\n '19, chickadee',\n '20, water_ouzel',\n '21, kite',\n '22, bald_eagle',\n '23, vulture',\n '24, great_grey_owl',\n '25, European_fire_salamander',\n '26, common_newt',\n '27, eft',\n '28, spotted_salamander',\n '29, axolotl',\n '30, bullfrog',\n '31, tree_frog',\n '32, tailed_frog',\n '33, loggerhead',\n '34, leatherback_turtle',\n '35, mud_turtle',\n '36, terrapin',\n '37, box_turtle',\n '38, banded_gecko',\n '39, common_iguana',\n '40, American_chameleon',\n '41, whiptail',\n '42, agama',\n '43, frilled_lizard',\n '44, alligator_lizard',\n '45, Gila_monster',\n '46, green_lizard',\n '47, African_chameleon',\n '48, Komodo_dragon',\n '49, African_crocodile',\n '50, American_alligator',\n '51, triceratops',\n '52, thunder_snake',\n '53, ringneck_snake',\n '54, hognose_snake',\n '55, green_snake',\n '56, king_snake',\n '57, garter_snake',\n '58, water_snake',\n '59, vine_snake',\n '60, night_snake',\n '61, boa_constrictor',\n '62, rock_python',\n '63, Indian_cobra',\n '64, green_mamba',\n '65, sea_snake',\n '66, horned_viper',\n '67, diamondback',\n '68, sidewinder',\n '69, trilobite',\n '70, harvestman',\n '71, scorpion',\n '72, black_and_gold_garden_spider',\n '73, barn_spider',\n '74, garden_spider',\n '75, black_widow',\n '76, tarantula',\n '77, wolf_spider',\n '78, tick',\n '79, centipede',\n '80, black_grouse',\n '81, ptarmigan',\n '82, ruffed_grouse',\n '83, prairie_chicken',\n '84, peacock',\n '85, quail',\n '86, partridge',\n '87, African_grey',\n '88, macaw',\n '89, sulphur-crested_cockatoo',\n '90, lorikeet',\n '91, coucal',\n '92, bee_eater',\n '93, hornbill',\n '94, hummingbird',\n '95, jacamar',\n '96, toucan',\n '97, drake',\n '98, red-breasted_merganser',\n '99, goose',\n '100, black_swan',\n '101, tusker',\n '102, echidna',\n '103, platypus',\n '104, wallaby',\n '105, koala',\n '106, wombat',\n '107, jellyfish',\n '108, sea_anemone',\n '109, brain_coral',\n '110, flatworm',\n '111, nematode',\n '112, conch',\n '113, snail',\n '114, slug',\n '115, sea_slug',\n '116, chiton',\n '117, chambered_nautilus',\n '118, Dungeness_crab',\n '119, rock_crab',\n '120, fiddler_crab',\n '121, king_crab',\n '122, American_lobster',\n '123, spiny_lobster',\n '124, crayfish',\n '125, hermit_crab',\n '126, isopod',\n '127, white_stork',\n '128, black_stork',\n '129, spoonbill',\n '130, flamingo',\n '131, little_blue_heron',\n '132, American_egret',\n '133, bittern',\n '134, crane',\n '135, limpkin',\n '136, European_gallinule',\n '137, American_coot',\n '138, bustard',\n '139, ruddy_turnstone',\n '140, red-backed_sandpiper',\n '141, redshank',\n '142, dowitcher',\n '143, oystercatcher',\n '144, pelican',\n '145, king_penguin',\n '146, albatross',\n '147, grey_whale',\n '148, killer_whale',\n '149, dugong',\n '150, sea_lion',\n '151, Chihuahua',\n '152, Japanese_spaniel',\n '153, Maltese_dog',\n '154, Pekinese',\n '155, Shih-Tzu',\n '156, Blenheim_spaniel',\n '157, papillon',\n '158, toy_terrier',\n '159, Rhodesian_ridgeback',\n '160, Afghan_hound',\n '161, basset',\n '162, beagle',\n '163, bloodhound',\n '164, bluetick',\n '165, black-and-tan_coonhound',\n '166, Walker_hound',\n '167, English_foxhound',\n '168, redbone',\n '169, borzoi',\n '170, Irish_wolfhound',\n '171, Italian_greyhound',\n '172, whippet',\n '173, Ibizan_hound',\n '174, Norwegian_elkhound',\n '175, otterhound',\n '176, Saluki',\n '177, Scottish_deerhound',\n '178, Weimaraner',\n '179, Staffordshire_bullterrier',\n '180, American_Staffordshire_terrier',\n '181, Bedlington_terrier',\n '182, Border_terrier',\n '183, Kerry_blue_terrier',\n '184, Irish_terrier',\n '185, Norfolk_terrier',\n '186, Norwich_terrier',\n '187, Yorkshire_terrier',\n '188, wire-haired_fox_terrier',\n '189, Lakeland_terrier',\n '190, Sealyham_terrier',\n '191, Airedale',\n '192, cairn',\n '193, Australian_terrier',\n '194, Dandie_Dinmont',\n '195, Boston_bull',\n '196, miniature_schnauzer',\n '197, giant_schnauzer',\n '198, standard_schnauzer',\n '199, Scotch_terrier',\n '200, Tibetan_terrier',\n '201, silky_terrier',\n '202, soft-coated_wheaten_terrier',\n '203, West_Highland_white_terrier',\n '204, Lhasa',\n '205, flat-coated_retriever',\n '206, curly-coated_retriever',\n '207, golden_retriever',\n '208, Labrador_retriever',\n '209, Chesapeake_Bay_retriever',\n '210, German_short-haired_pointer',\n '211, vizsla',\n '212, English_setter',\n '213, Irish_setter',\n '214, Gordon_setter',\n '215, Brittany_spaniel',\n '216, clumber',\n '217, English_springer',\n '218, Welsh_springer_spaniel',\n '219, cocker_spaniel',\n '220, Sussex_spaniel',\n '221, Irish_water_spaniel',\n '222, kuvasz',\n '223, schipperke',\n '224, groenendael',\n '225, malinois',\n '226, briard',\n '227, kelpie',\n '228, komondor',\n '229, Old_English_sheepdog',\n '230, Shetland_sheepdog',\n '231, collie',\n '232, Border_collie',\n '233, Bouvier_des_Flandres',\n '234, Rottweiler',\n '235, German_shepherd',\n '236, Doberman',\n '237, miniature_pinscher',\n '238, Greater_Swiss_Mountain_dog',\n '239, Bernese_mountain_dog',\n '240, Appenzeller',\n '241, EntleBucher',\n '242, boxer',\n '243, bull_mastiff',\n '244, Tibetan_mastiff',\n '245, French_bulldog',\n '246, Great_Dane',\n '247, Saint_Bernard',\n '248, Eskimo_dog',\n '249, malamute',\n '250, Siberian_husky',\n '251, dalmatian',\n '252, affenpinscher',\n '253, basenji',\n '254, pug',\n '255, Leonberg',\n '256, Newfoundland',\n '257, Great_Pyrenees',\n '258, Samoyed',\n '259, Pomeranian',\n '260, chow',\n '261, keeshond',\n '262, Brabancon_griffon',\n '263, Pembroke',\n '264, Cardigan',\n '265, toy_poodle',\n '266, miniature_poodle',\n '267, standard_poodle',\n '268, Mexican_hairless',\n '269, timber_wolf',\n '270, white_wolf',\n '271, red_wolf',\n '272, coyote',\n '273, dingo',\n '274, dhole',\n '275, African_hunting_dog',\n '276, hyena',\n '277, red_fox',\n '278, kit_fox',\n '279, Arctic_fox',\n '280, grey_fox',\n '281, tabby',\n '282, tiger_cat',\n '283, Persian_cat',\n '284, Siamese_cat',\n '285, Egyptian_cat',\n '286, cougar',\n '287, lynx',\n '288, leopard',\n '289, snow_leopard',\n '290, jaguar',\n '291, lion',\n '292, tiger',\n '293, cheetah',\n '294, brown_bear',\n '295, American_black_bear',\n '296, ice_bear',\n '297, sloth_bear',\n '298, mongoose',\n '299, meerkat',\n '300, tiger_beetle',\n '301, ladybug',\n '302, ground_beetle',\n '303, long-horned_beetle',\n '304, leaf_beetle',\n '305, dung_beetle',\n '306, rhinoceros_beetle',\n '307, weevil',\n '308, fly',\n '309, bee',\n '310, ant',\n '311, grasshopper',\n '312, cricket',\n '313, walking_stick',\n '314, cockroach',\n '315, mantis',\n '316, cicada',\n '317, leafhopper',\n '318, lacewing',\n '319, dragonfly',\n '320, damselfly',\n '321, admiral',\n '322, ringlet',\n '323, monarch',\n '324, cabbage_butterfly',\n '325, sulphur_butterfly',\n '326, lycaenid',\n '327, starfish',\n '328, sea_urchin',\n '329, sea_cucumber',\n '330, wood_rabbit',\n '331, hare',\n '332, Angora',\n '333, hamster',\n '334, porcupine',\n '335, fox_squirrel',\n '336, marmot',\n '337, beaver',\n '338, guinea_pig',\n '339, sorrel',\n '340, zebra',\n '341, hog',\n '342, wild_boar',\n '343, warthog',\n '344, hippopotamus',\n '345, ox',\n '346, water_buffalo',\n '347, bison',\n '348, ram',\n '349, bighorn',\n '350, ibex',\n '351, hartebeest',\n '352, impala',\n '353, gazelle',\n '354, Arabian_camel',\n '355, llama',\n '356, weasel',\n '357, mink',\n '358, polecat',\n '359, black-footed_ferret',\n '360, otter',\n '361, skunk',\n '362, badger',\n '363, armadillo',\n '364, three-toed_sloth',\n '365, orangutan',\n '366, gorilla',\n '367, chimpanzee',\n '368, gibbon',\n '369, siamang',\n '370, guenon',\n '371, patas',\n '372, baboon',\n '373, macaque',\n '374, langur',\n '375, colobus',\n '376, proboscis_monkey',\n '377, marmoset',\n '378, capuchin',\n '379, howler_monkey',\n '380, titi',\n '381, spider_monkey',\n '382, squirrel_monkey',\n '383, Madagascar_cat',\n '384, indri',\n '385, Indian_elephant',\n '386, African_elephant',\n '387, lesser_panda',\n '388, giant_panda',\n '389, barracouta',\n '390, eel',\n '391, coho',\n '392, rock_beauty',\n '393, anemone_fish',\n '394, sturgeon',\n '395, gar',\n '396, lionfish',\n '397, puffer',\n '398, abacus',\n '399, abaya',\n '400, academic_gown',\n '401, accordion',\n '402, acoustic_guitar',\n '403, aircraft_carrier',\n '404, airliner',\n '405, airship',\n '406, altar',\n '407, ambulance',\n '408, amphibian',\n '409, analog_clock',\n '410, apiary',\n '411, apron',\n '412, ashcan',\n '413, assault_rifle',\n '414, backpack',\n '415, bakery',\n '416, balance_beam',\n '417, balloon',\n '418, ballpoint',\n '419, Band_Aid',\n '420, banjo',\n '421, bannister',\n '422, barbell',\n '423, barber_chair',\n '424, barbershop',\n '425, barn',\n '426, barometer',\n '427, barrel',\n '428, barrow',\n '429, baseball',\n '430, basketball',\n '431, bassinet',\n '432, bassoon',\n '433, bathing_cap',\n '434, bath_towel',\n '435, bathtub',\n '436, beach_wagon',\n '437, beacon',\n '438, beaker',\n '439, bearskin',\n '440, beer_bottle',\n '441, beer_glass',\n '442, bell_cote',\n '443, bib',\n '444, bicycle-built-for-two',\n '445, bikini',\n '446, binder',\n '447, binoculars',\n '448, birdhouse',\n '449, boathouse',\n '450, bobsled',\n '451, bolo_tie',\n '452, bonnet',\n '453, bookcase',\n '454, bookshop',\n '455, bottlecap',\n '456, bow',\n '457, bow_tie',\n '458, brass',\n '459, brassiere',\n '460, breakwater',\n '461, breastplate',\n '462, broom',\n '463, bucket',\n '464, buckle',\n '465, bulletproof_vest',\n '466, bullet_train',\n '467, butcher_shop',\n '468, cab',\n '469, caldron',\n '470, candle',\n '471, cannon',\n '472, canoe',\n '473, can_opener',\n '474, cardigan',\n '475, car_mirror',\n '476, carousel',\n \"477, carpenter's_kit\",\n '478, carton',\n '479, car_wheel',\n '480, cash_machine',\n '481, cassette',\n '482, cassette_player',\n '483, castle',\n '484, catamaran',\n '485, CD_player',\n '486, cello',\n '487, cellular_telephone',\n '488, chain',\n '489, chainlink_fence',\n '490, chain_mail',\n '491, chain_saw',\n '492, chest',\n '493, chiffonier',\n '494, chime',\n '495, china_cabinet',\n '496, Christmas_stocking',\n '497, church',\n '498, cinema',\n '499, cleaver',\n '500, cliff_dwelling',\n '501, cloak',\n '502, clog',\n '503, cocktail_shaker',\n '504, coffee_mug',\n '505, coffeepot',\n '506, coil',\n '507, combination_lock',\n '508, computer_keyboard',\n '509, confectionery',\n '510, container_ship',\n '511, convertible',\n '512, corkscrew',\n '513, cornet',\n '514, cowboy_boot',\n '515, cowboy_hat',\n '516, cradle',\n '517, crane',\n '518, crash_helmet',\n '519, crate',\n '520, crib',\n '521, Crock_Pot',\n '522, croquet_ball',\n '523, crutch',\n '524, cuirass',\n '525, dam',\n '526, desk',\n '527, desktop_computer',\n '528, dial_telephone',\n '529, diaper',\n '530, digital_clock',\n '531, digital_watch',\n '532, dining_table',\n '533, dishrag',\n '534, dishwasher',\n '535, disk_brake',\n '536, dock',\n '537, dogsled',\n '538, dome',\n '539, doormat',\n '540, drilling_platform',\n '541, drum',\n '542, drumstick',\n '543, dumbbell',\n '544, Dutch_oven',\n '545, electric_fan',\n '546, electric_guitar',\n '547, electric_locomotive',\n '548, entertainment_center',\n '549, envelope',\n '550, espresso_maker',\n '551, face_powder',\n '552, feather_boa',\n '553, file',\n '554, fireboat',\n '555, fire_engine',\n '556, fire_screen',\n '557, flagpole',\n '558, flute',\n '559, folding_chair',\n '560, football_helmet',\n '561, forklift',\n '562, fountain',\n '563, fountain_pen',\n '564, four-poster',\n '565, freight_car',\n '566, French_horn',\n '567, frying_pan',\n '568, fur_coat',\n '569, garbage_truck',\n '570, gasmask',\n '571, gas_pump',\n '572, goblet',\n '573, go-kart',\n '574, golf_ball',\n '575, golfcart',\n '576, gondola',\n '577, gong',\n '578, gown',\n '579, grand_piano',\n '580, greenhouse',\n '581, grille',\n '582, grocery_store',\n '583, guillotine',\n '584, hair_slide',\n '585, hair_spray',\n '586, half_track',\n '587, hammer',\n '588, hamper',\n '589, hand_blower',\n '590, hand-held_computer',\n '591, handkerchief',\n '592, hard_disc',\n '593, harmonica',\n '594, harp',\n '595, harvester',\n '596, hatchet',\n '597, holster',\n '598, home_theater',\n '599, honeycomb',\n '600, hook',\n '601, hoopskirt',\n '602, horizontal_bar',\n '603, horse_cart',\n '604, hourglass',\n '605, iPod',\n '606, iron',\n \"607, jack-o'-lantern\",\n '608, jean',\n '609, jeep',\n '610, jersey',\n '611, jigsaw_puzzle',\n '612, jinrikisha',\n '613, joystick',\n '614, kimono',\n '615, knee_pad',\n '616, knot',\n '617, lab_coat',\n '618, ladle',\n '619, lampshade',\n '620, laptop',\n '621, lawn_mower',\n '622, lens_cap',\n '623, letter_opener',\n '624, library',\n '625, lifeboat',\n '626, lighter',\n '627, limousine',\n '628, liner',\n '629, lipstick',\n '630, Loafer',\n '631, lotion',\n '632, loudspeaker',\n '633, loupe',\n '634, lumbermill',\n '635, magnetic_compass',\n '636, mailbag',\n '637, mailbox',\n '638, maillot',\n '639, maillot',\n '640, manhole_cover',\n '641, maraca',\n '642, marimba',\n '643, mask',\n '644, matchstick',\n '645, maypole',\n '646, maze',\n '647, measuring_cup',\n '648, medicine_chest',\n '649, megalith',\n '650, microphone',\n '651, microwave',\n '652, military_uniform',\n '653, milk_can',\n '654, minibus',\n '655, miniskirt',\n '656, minivan',\n '657, missile',\n '658, mitten',\n '659, mixing_bowl',\n '660, mobile_home',\n '661, Model_T',\n '662, modem',\n '663, monastery',\n '664, monitor',\n '665, moped',\n '666, mortar',\n '667, mortarboard',\n '668, mosque',\n '669, mosquito_net',\n '670, motor_scooter',\n '671, mountain_bike',\n '672, mountain_tent',\n '673, mouse',\n '674, mousetrap',\n '675, moving_van',\n '676, muzzle',\n '677, nail',\n '678, neck_brace',\n '679, necklace',\n '680, nipple',\n '681, notebook',\n '682, obelisk',\n '683, oboe',\n '684, ocarina',\n '685, odometer',\n '686, oil_filter',\n '687, organ',\n '688, oscilloscope',\n '689, overskirt',\n '690, oxcart',\n '691, oxygen_mask',\n '692, packet',\n '693, paddle',\n '694, paddlewheel',\n '695, padlock',\n '696, paintbrush',\n '697, pajama',\n '698, palace',\n '699, panpipe',\n '700, paper_towel',\n '701, parachute',\n '702, parallel_bars',\n '703, park_bench',\n '704, parking_meter',\n '705, passenger_car',\n '706, patio',\n '707, pay-phone',\n '708, pedestal',\n '709, pencil_box',\n '710, pencil_sharpener',\n '711, perfume',\n '712, Petri_dish',\n '713, photocopier',\n '714, pick',\n '715, pickelhaube',\n '716, picket_fence',\n '717, pickup',\n '718, pier',\n '719, piggy_bank',\n '720, pill_bottle',\n '721, pillow',\n '722, ping-pong_ball',\n '723, pinwheel',\n '724, pirate',\n '725, pitcher',\n '726, plane',\n '727, planetarium',\n '728, plastic_bag',\n '729, plate_rack',\n '730, plow',\n '731, plunger',\n '732, Polaroid_camera',\n '733, pole',\n '734, police_van',\n '735, poncho',\n '736, pool_table',\n '737, pop_bottle',\n '738, pot',\n \"739, potter's_wheel\",\n '740, power_drill',\n '741, prayer_rug',\n '742, printer',\n '743, prison',\n '744, projectile',\n '745, projector',\n '746, puck',\n '747, punching_bag',\n '748, purse',\n '749, quill',\n '750, quilt',\n '751, racer',\n '752, racket',\n '753, radiator',\n '754, radio',\n '755, radio_telescope',\n '756, rain_barrel',\n '757, recreational_vehicle',\n '758, reel',\n '759, reflex_camera',\n '760, refrigerator',\n '761, remote_control',\n '762, restaurant',\n '763, revolver',\n '764, rifle',\n '765, rocking_chair',\n '766, rotisserie',\n '767, rubber_eraser',\n '768, rugby_ball',\n '769, rule',\n '770, running_shoe',\n '771, safe',\n '772, safety_pin',\n '773, saltshaker',\n '774, sandal',\n '775, sarong',\n '776, sax',\n '777, scabbard',\n '778, scale',\n '779, school_bus',\n '780, schooner',\n '781, scoreboard',\n '782, screen',\n '783, screw',\n '784, screwdriver',\n '785, seat_belt',\n '786, sewing_machine',\n '787, shield',\n '788, shoe_shop',\n '789, shoji',\n '790, shopping_basket',\n '791, shopping_cart',\n '792, shovel',\n '793, shower_cap',\n '794, shower_curtain',\n '795, ski',\n '796, ski_mask',\n '797, sleeping_bag',\n '798, slide_rule',\n '799, sliding_door',\n '800, slot',\n '801, snorkel',\n '802, snowmobile',\n '803, snowplow',\n '804, soap_dispenser',\n '805, soccer_ball',\n '806, sock',\n '807, solar_dish',\n '808, sombrero',\n '809, soup_bowl',\n '810, space_bar',\n '811, space_heater',\n '812, space_shuttle',\n '813, spatula',\n '814, speedboat',\n '815, spider_web',\n '816, spindle',\n '817, sports_car',\n '818, spotlight',\n '819, stage',\n '820, steam_locomotive',\n '821, steel_arch_bridge',\n '822, steel_drum',\n '823, stethoscope',\n '824, stole',\n '825, stone_wall',\n '826, stopwatch',\n '827, stove',\n '828, strainer',\n '829, streetcar',\n '830, stretcher',\n '831, studio_couch',\n '832, stupa',\n '833, submarine',\n '834, suit',\n '835, sundial',\n '836, sunglass',\n '837, sunglasses',\n '838, sunscreen',\n '839, suspension_bridge',\n '840, swab',\n '841, sweatshirt',\n '842, swimming_trunks',\n '843, swing',\n '844, switch',\n '845, syringe',\n '846, table_lamp',\n '847, tank',\n '848, tape_player',\n '849, teapot',\n '850, teddy',\n '851, television',\n '852, tennis_ball',\n '853, thatch',\n '854, theater_curtain',\n '855, thimble',\n '856, thresher',\n '857, throne',\n '858, tile_roof',\n '859, toaster',\n '860, tobacco_shop',\n '861, toilet_seat',\n '862, torch',\n '863, totem_pole',\n '864, tow_truck',\n '865, toyshop',\n '866, tractor',\n '867, trailer_truck',\n '868, tray',\n '869, trench_coat',\n '870, tricycle',\n '871, trimaran',\n '872, tripod',\n '873, triumphal_arch',\n '874, trolleybus',\n '875, trombone',\n '876, tub',\n '877, turnstile',\n '878, typewriter_keyboard',\n '879, umbrella',\n '880, unicycle',\n '881, upright',\n '882, vacuum',\n '883, vase',\n '884, vault',\n '885, velvet',\n '886, vending_machine',\n '887, vestment',\n '888, viaduct',\n '889, violin',\n '890, volleyball',\n '891, waffle_iron',\n '892, wall_clock',\n '893, wallet',\n '894, wardrobe',\n '895, warplane',\n '896, washbasin',\n '897, washer',\n '898, water_bottle',\n '899, water_jug',\n '900, water_tower',\n '901, whiskey_jug',\n '902, whistle',\n '903, wig',\n '904, window_screen',\n '905, window_shade',\n '906, Windsor_tie',\n '907, wine_bottle',\n '908, wing',\n '909, wok',\n '910, wooden_spoon',\n '911, wool',\n '912, worm_fence',\n '913, wreck',\n '914, yawl',\n '915, yurt',\n '916, web_site',\n '917, comic_book',\n '918, crossword_puzzle',\n '919, street_sign',\n '920, traffic_light',\n '921, book_jacket',\n '922, menu',\n '923, plate',\n '924, guacamole',\n '925, consomme',\n '926, hot_pot',\n '927, trifle',\n '928, ice_cream',\n '929, ice_lolly',\n '930, French_loaf',\n '931, bagel',\n '932, pretzel',\n '933, cheeseburger',\n '934, hotdog',\n '935, mashed_potato',\n '936, head_cabbage',\n '937, broccoli',\n '938, cauliflower',\n '939, zucchini',\n '940, spaghetti_squash',\n '941, acorn_squash',\n '942, butternut_squash',\n '943, cucumber',\n '944, artichoke',\n '945, bell_pepper',\n '946, cardoon',\n '947, mushroom',\n '948, Granny_Smith',\n '949, strawberry',\n '950, orange',\n '951, lemon',\n '952, fig',\n '953, pineapple',\n '954, banana',\n '955, jackfruit',\n '956, custard_apple',\n '957, pomegranate',\n '958, hay',\n '959, carbonara',\n '960, chocolate_sauce',\n '961, dough',\n '962, meat_loaf',\n '963, pizza',\n '964, potpie',\n '965, burrito',\n '966, red_wine',\n '967, espresso',\n '968, cup',\n '969, eggnog',\n '970, alp',\n '971, bubble',\n '972, cliff',\n '973, coral_reef',\n '974, geyser',\n '975, lakeside',\n '976, promontory',\n '977, sandbar',\n '978, seashore',\n '979, valley',\n '980, volcano',\n '981, ballplayer',\n '982, groom',\n '983, scuba_diver',\n '984, rapeseed',\n '985, daisy',\n \"986, yellow_lady's_slipper\",\n '987, corn',\n '988, acorn',\n '989, hip',\n '990, buckeye',\n '991, coral_fungus',\n '992, agaric',\n '993, gyromitra',\n '994, stinkhorn',\n '995, earthstar',\n '996, hen-of-the-woods',\n '997, bolete',\n '998, ear',\n '999, toilet_tissue']"
     },
     "execution_count": 23,
     "metadata": {},
     "output_type": "execute_result"
    }
   ],
   "source": [
    "with open('../data/p1ch2/imagenet_classes.txt') as f:\n",
    "    labels = [line.strip() for line in f.readlines()]\n",
    "labels"
   ],
   "metadata": {
    "collapsed": false,
    "pycharm": {
     "name": "#%%\n"
    }
   }
  },
  {
   "cell_type": "code",
   "execution_count": 25,
   "outputs": [
    {
     "data": {
      "text/plain": "tensor([207])"
     },
     "execution_count": 25,
     "metadata": {},
     "output_type": "execute_result"
    }
   ],
   "source": [
    "_, index = torch.max(out, 1)\n",
    "index"
   ],
   "metadata": {
    "collapsed": false,
    "pycharm": {
     "name": "#%%\n"
    }
   }
  },
  {
   "cell_type": "code",
   "execution_count": 30,
   "outputs": [
    {
     "name": "stdout",
     "output_type": "stream",
     "text": [
      "golden_retriever 98.51322937011719\n"
     ]
    }
   ],
   "source": [
    "percentage = torch.nn.functional.softmax(out, dim=1)[0] * 100\n",
    "print(labels[index].split(',')[1].strip(), percentage[index[0]].item())"
   ],
   "metadata": {
    "collapsed": false,
    "pycharm": {
     "name": "#%%\n"
    }
   }
  },
  {
   "cell_type": "markdown",
   "source": [
    "### See 5 most probable classes"
   ],
   "metadata": {
    "collapsed": false,
    "pycharm": {
     "name": "#%% md\n"
    }
   }
  },
  {
   "cell_type": "code",
   "execution_count": 31,
   "outputs": [
    {
     "data": {
      "text/plain": "[('207, golden_retriever', 98.51322937011719),\n ('208, Labrador_retriever', 0.7943398952484131),\n ('219, cocker_spaniel', 0.4156583547592163),\n ('222, kuvasz', 0.13620537519454956),\n ('257, Great_Pyrenees', 0.01953665167093277)]"
     },
     "execution_count": 31,
     "metadata": {},
     "output_type": "execute_result"
    }
   ],
   "source": [
    "_, indices = torch.sort(out, descending=True)\n",
    "[(labels[idx], percentage[idx].item()) for idx in indices[0][:5]]"
   ],
   "metadata": {
    "collapsed": false,
    "pycharm": {
     "name": "#%%\n"
    }
   }
  },
  {
   "cell_type": "markdown",
   "source": [
    "### CycleGan\n",
    "![GAN](../resources/GAN.jpg)\n",
    "![CycleGAN](../resources/cycleGAN.jpg)\n"
   ],
   "metadata": {
    "collapsed": false,
    "pycharm": {
     "name": "#%% md\n"
    }
   }
  }
 ],
 "metadata": {
  "kernelspec": {
   "display_name": "Python 3",
   "language": "python",
   "name": "python3"
  },
  "language_info": {
   "codemirror_mode": {
    "name": "ipython",
    "version": 2
   },
   "file_extension": ".py",
   "mimetype": "text/x-python",
   "name": "python",
   "nbconvert_exporter": "python",
   "pygments_lexer": "ipython2",
   "version": "2.7.6"
  }
 },
 "nbformat": 4,
 "nbformat_minor": 0
}