{
 "cells": [
  {
   "cell_type": "code",
   "execution_count": 1,
   "metadata": {
    "collapsed": true,
    "pycharm": {
     "is_executing": false
    }
   },
   "outputs": [
    {
     "data": {
      "text/plain": "tensor([1., 1., 1.])"
     },
     "metadata": {},
     "output_type": "execute_result",
     "execution_count": 1
    }
   ],
   "source": [
    "import numpy as np\n",
    "import torch\n",
    "from PIL import Image\n",
    "\n",
    "a = torch.ones(3)\n",
    "a"
   ]
  },
  {
   "cell_type": "code",
   "execution_count": 2,
   "outputs": [],
   "source": [
    "points = torch.zeros(6)\n",
    "points[0] = 1.0\n",
    "points[1] = 4.0\n",
    "points[2] = 2.0\n",
    "points[3] = 1.0\n",
    "points[4] = 3.0\n",
    "points[5] = 5.0"
   ],
   "metadata": {
    "collapsed": false,
    "pycharm": {
     "name": "#%%\n",
     "is_executing": false
    }
   }
  },
  {
   "cell_type": "code",
   "execution_count": 7,
   "outputs": [
    {
     "name": "stdout",
     "text": [
      "1.0\n"
     ],
     "output_type": "stream"
    },
    {
     "data": {
      "text/plain": "4.0"
     },
     "metadata": {},
     "output_type": "execute_result",
     "execution_count": 7
    }
   ],
   "source": [
    "points = torch.tensor([[1.0, 4.0], [2.0, 1.0], [3.0, 5.0]])\n",
    "points_storage = points.storage()\n",
    "print(points_storage[0])\n",
    "points.storage()[1]"
   ],
   "metadata": {
    "collapsed": false,
    "pycharm": {
     "name": "#%%\n",
     "is_executing": false
    }
   }
  },
  {
   "cell_type": "code",
   "execution_count": 10,
   "outputs": [
    {
     "name": "stdout",
     "text": [
      "2\ntorch.Size([2])\ntorch.Size([2])\n"
     ],
     "output_type": "stream"
    }
   ],
   "source": [
    "points = torch.tensor([[1.0, 4.0], [2.0, 1.0], [3.0, 5.0]])\n",
    "second_point = points[1]\n",
    "print(second_point.storage_offset())\n",
    "print(second_point.size())\n",
    "print(torch.Size([2]))"
   ],
   "metadata": {
    "collapsed": false,
    "pycharm": {
     "name": "#%%\n",
     "is_executing": false
    }
   }
  },
  {
   "cell_type": "code",
   "execution_count": 11,
   "outputs": [
    {
     "name": "stdout",
     "text": [
      "tensor([[1., 4.],\n        [2., 1.],\n        [3., 5.]])\ntensor([[1., 2., 3.],\n        [4., 1., 5.]])\nTrue\n(2, 1)\n(1, 2)\n"
     ],
     "output_type": "stream"
    }
   ],
   "source": [
    "# transpose the tensor\n",
    "points = torch.tensor([[1.0, 4.0], [2.0, 1.0], [3.0, 5.0]])\n",
    "print(points)\n",
    "points_t = points.t()\n",
    "print(points_t)\n",
    "print(id(points.storage()) == id(points_t.storage()))\n",
    "print(points.stride())\n",
    "print(points_t.stride())"
   ],
   "metadata": {
    "collapsed": false,
    "pycharm": {
     "name": "#%%\n",
     "is_executing": false
    }
   }
  },
  {
   "cell_type": "code",
   "execution_count": 14,
   "outputs": [
    {
     "name": "stdout",
     "text": [
      "tensor([[1., 1.],\n        [1., 1.],\n        [1., 1.],\n        [1., 1.],\n        [1., 1.],\n        [1., 1.],\n        [1., 1.],\n        [1., 1.],\n        [1., 1.],\n        [1., 1.]], dtype=torch.float64)\ntensor([[1, 2],\n        [3, 4]], dtype=torch.int16)\ntensor([[1., 1.],\n        [1., 1.],\n        [1., 1.],\n        [1., 1.],\n        [1., 1.],\n        [1., 1.],\n        [1., 1.],\n        [1., 1.],\n        [1., 1.],\n        [1., 1.]], dtype=torch.float64)\ntensor([[1, 1],\n        [1, 1],\n        [1, 1],\n        [1, 1],\n        [1, 1],\n        [1, 1],\n        [1, 1],\n        [1, 1],\n        [1, 1],\n        [1, 1]], dtype=torch.int16)\ntensor([[1., 1.],\n        [1., 1.],\n        [1., 1.],\n        [1., 1.],\n        [1., 1.],\n        [1., 1.],\n        [1., 1.],\n        [1., 1.],\n        [1., 1.],\n        [1., 1.]], dtype=torch.float64)\ntensor([[1, 1],\n        [1, 1],\n        [1, 1],\n        [1, 1],\n        [1, 1],\n        [1, 1],\n        [1, 1],\n        [1, 1],\n        [1, 1],\n        [1, 1]], dtype=torch.int16)\n"
     ],
     "output_type": "stream"
    }
   ],
   "source": [
    "# Numeric Types\n",
    "double_points = torch.ones(10, 2, dtype=torch.double)\n",
    "short_points = torch.tensor([[1, 2], [3, 4]],dtype=torch.short)\n",
    "print(double_points)\n",
    "print(short_points)\n",
    "double_points = torch.ones(10, 2).double()\n",
    "short_points = torch.ones(10, 2).short()\n",
    "print(double_points)\n",
    "print(short_points)\n",
    "double_points = torch.ones(10, 2).to(torch.double)\n",
    "short_points = torch.ones(10, 2).to(torch.short)\n",
    "print(double_points)\n",
    "print(short_points)"
   ],
   "metadata": {
    "collapsed": false,
    "pycharm": {
     "name": "#%% \n",
     "is_executing": false
    }
   }
  },
  {
   "cell_type": "code",
   "execution_count": 15,
   "outputs": [
    {
     "name": "stdout",
     "text": [
      "tensor([[1., 1., 1., 1.],\n        [1., 1., 1., 1.],\n        [1., 1., 1., 1.]])\n[[1. 1. 1. 1.]\n [1. 1. 1. 1.]\n [1. 1. 1. 1.]]\n"
     ],
     "output_type": "stream"
    }
   ],
   "source": [
    "# to numpy\n",
    "points = torch.ones(3, 4)\n",
    "points_np = points.numpy()\n",
    "print(points)\n",
    "print(points_np)"
   ],
   "metadata": {
    "collapsed": false,
    "pycharm": {
     "name": "#%%\n",
     "is_executing": false
    }
   }
  },
  {
   "cell_type": "code",
   "execution_count": 17,
   "outputs": [],
   "source": [
    "# Serializing tensors\n",
    "torch.save(points, '../data/p1ch3/ourpoints.t')\n",
    "with open('../data/p1ch3/ourrpoints.t', 'wb') as f:\n",
    "    torch.save(points, f)\n",
    "# load\n",
    "points = torch.load('../data/p1ch3/ourpoints.t')"
   ],
   "metadata": {
    "collapsed": false,
    "pycharm": {
     "name": "#%%\n",
     "is_executing": false
    }
   }
  },
  {
   "cell_type": "code",
   "execution_count": 24,
   "outputs": [
    {
     "name": "stdout",
     "text": [
      "[[1. 1. 1. 1.]\n [1. 1. 1. 1.]]\ntensor([[1., 1., 1., 1.],\n        [1., 1., 1., 1.]])\n"
     ],
     "output_type": "stream"
    }
   ],
   "source": [
    "import h5py\n",
    "f = h5py.File('../data/p1ch3/ourpoints.hdf5', 'w')\n",
    "dset = f.create_dataset('coords', data=points.numpy())\n",
    "dset = f['coords']\n",
    "last_points = dset[1:]\n",
    "print(last_points)\n",
    "last_points = torch.from_numpy(dset[1:])\n",
    "print(last_points)"
   ],
   "metadata": {
    "collapsed": false,
    "pycharm": {
     "name": "#%%\n",
     "is_executing": false
    }
   }
  },
  {
   "cell_type": "code",
   "execution_count": 26,
   "outputs": [],
   "source": [
    "# moving tensors to the GPU\n",
    "points_gpu = torch.tensor([[1.0, 4.0], [2.0, 1.0], [3.0, 4.0]], device='cuda')\n",
    "points_gpu = 2*points.to(device='cuda')"
   ],
   "metadata": {
    "collapsed": false,
    "pycharm": {
     "name": "#%%\n",
     "is_executing": false
    }
   }
  },
  {
   "cell_type": "code",
   "execution_count": 30,
   "outputs": [
    {
     "name": "stdout",
     "text": [
      "torch.Size([9])\n(1,)\ntorch.Size([3, 3])\n(3, 1)\ntorch.Size([2, 2])\n(3, 1)\n"
     ],
     "output_type": "stream"
    }
   ],
   "source": [
    "# Exercises\n",
    "a = torch.tensor(list(range(9)))\n",
    "print(a.size())\n",
    "print(a.stride())\n",
    "b = a.view(3,3 )\n",
    "print(b.size())\n",
    "print(b.stride())\n",
    "c = b[1:, 1:]\n",
    "print(c.size())\n",
    "print(c.stride())\n",
    "torch.cos"
   ],
   "metadata": {
    "collapsed": false,
    "pycharm": {
     "name": "#%%\n",
     "is_executing": false
    }
   }
  }
 ],
 "metadata": {
  "kernelspec": {
   "display_name": "Python 3",
   "language": "python",
   "name": "python3"
  },
  "language_info": {
   "codemirror_mode": {
    "name": "ipython",
    "version": 2
   },
   "file_extension": ".py",
   "mimetype": "text/x-python",
   "name": "python",
   "nbconvert_exporter": "python",
   "pygments_lexer": "ipython2",
   "version": "2.7.6"
  },
  "pycharm": {
   "stem_cell": {
    "cell_type": "raw",
    "source": [],
    "metadata": {
     "collapsed": false
    }
   }
  }
 },
 "nbformat": 4,
 "nbformat_minor": 0
}