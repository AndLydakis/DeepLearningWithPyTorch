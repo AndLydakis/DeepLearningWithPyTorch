{
 "cells": [
  {
   "cell_type": "code",
   "execution_count": 1,
   "metadata": {
    "collapsed": true,
    "pycharm": {
     "is_executing": false
    }
   },
   "outputs": [],
   "source": [
    "import numpy as np\n",
    "import torch\n",
    "import urllib.request as req\n",
    "from PIL import Image"
   ]
  },
  {
   "cell_type": "code",
   "execution_count": 2,
   "outputs": [
    {
     "name": "stdout",
     "text": [
      "[[ 7.    0.27  0.36 ...  0.45  8.8   6.  ]\n [ 6.3   0.3   0.34 ...  0.49  9.5   6.  ]\n [ 8.1   0.28  0.4  ...  0.44 10.1   6.  ]\n ...\n [ 6.5   0.24  0.19 ...  0.46  9.4   6.  ]\n [ 5.5   0.29  0.3  ...  0.38 12.8   7.  ]\n [ 6.    0.21  0.38 ...  0.32 11.8   6.  ]]\n['fixed acidity', 'volatile acidity', 'citric acid', 'residual sugar', 'chlorides', 'free sulfur dioxide', 'total sulfur dioxide', 'density', 'pH', 'sulphates', 'alcohol', 'quality']\n"
     ],
     "output_type": "stream"
    }
   ],
   "source": [
    "# tabular data\n",
    "# url = 'https://archive.ics.uci.edu/ml/machine-learning-databases/winequality/winequality-white.csv'\n",
    "wine_path = '../data/p1ch3/winequality-white.csv'\n",
    "# with req.urlopen(url) as d, open(wine_path, \"wb\") as opfile:\n",
    "#     data = d.read()\n",
    "#     opfile.write(data)\n",
    "wineq_numpy = np.loadtxt(wine_path, dtype=np.float32, delimiter=';', skiprows=1)\n",
    "print(wineq_numpy)\n",
    "import csv\n",
    "col_list = next(csv.reader(open(wine_path), delimiter=';'))\n",
    "print(col_list)"
   ],
   "metadata": {
    "collapsed": false,
    "pycharm": {
     "name": "#%%\n",
     "is_executing": false
    }
   }
  },
  {
   "cell_type": "code",
   "execution_count": 3,
   "outputs": [
    {
     "name": "stdout",
     "text": [
      "torch.Size([4898, 12]) torch.FloatTensor\n"
     ],
     "output_type": "stream"
    }
   ],
   "source": [
    "wineq = torch.from_numpy(wineq_numpy)\n",
    "print(wineq.shape, wineq.type())"
   ],
   "metadata": {
    "collapsed": false,
    "pycharm": {
     "name": "#%%\n",
     "is_executing": false
    }
   }
  },
  {
   "cell_type": "code",
   "execution_count": 4,
   "outputs": [
    {
     "name": "stdout",
     "text": [
      "tensor([[ 7.0000,  0.2700,  0.3600,  ...,  3.0000,  0.4500,  8.8000],\n        [ 6.3000,  0.3000,  0.3400,  ...,  3.3000,  0.4900,  9.5000],\n        [ 8.1000,  0.2800,  0.4000,  ...,  3.2600,  0.4400, 10.1000],\n        ...,\n        [ 6.5000,  0.2400,  0.1900,  ...,  2.9900,  0.4600,  9.4000],\n        [ 5.5000,  0.2900,  0.3000,  ...,  3.3400,  0.3800, 12.8000],\n        [ 6.0000,  0.2100,  0.3800,  ...,  3.2600,  0.3200, 11.8000]]) torch.Size([4898, 11])\n"
     ],
     "output_type": "stream"
    }
   ],
   "source": [
    "data = wineq[:, :-1]\n",
    "print(data, data.shape)"
   ],
   "metadata": {
    "collapsed": false,
    "pycharm": {
     "name": "#%%\n",
     "is_executing": false
    }
   }
  },
  {
   "cell_type": "code",
   "execution_count": 5,
   "outputs": [
    {
     "data": {
      "text/plain": "(tensor([6., 6., 6.,  ..., 6., 7., 6.]), torch.Size([4898]))"
     },
     "metadata": {},
     "output_type": "execute_result",
     "execution_count": 5
    }
   ],
   "source": [
    "target = wineq[:, -1]\n",
    "target, target.shape"
   ],
   "metadata": {
    "collapsed": false,
    "pycharm": {
     "name": "#%%\n",
     "is_executing": false
    }
   }
  },
  {
   "cell_type": "code",
   "execution_count": 6,
   "outputs": [
    {
     "name": "stdout",
     "text": [
      "tensor([6, 6, 6,  ..., 6, 7, 6])\n"
     ],
     "output_type": "stream"
    },
    {
     "data": {
      "text/plain": "tensor([[0., 0., 0.,  ..., 0., 0., 0.],\n        [0., 0., 0.,  ..., 0., 0., 0.],\n        [0., 0., 0.,  ..., 0., 0., 0.],\n        ...,\n        [0., 0., 0.,  ..., 0., 0., 0.],\n        [0., 0., 0.,  ..., 1., 0., 0.],\n        [0., 0., 0.,  ..., 0., 0., 0.]])"
     },
     "metadata": {},
     "output_type": "execute_result",
     "execution_count": 6
    }
   ],
   "source": [
    "target = wineq[:, -1].long()\n",
    "print(target)\n",
    "target_onehot = torch.zeros(target.shape[0], 10)\n",
    "target_onehot.scatter_(1, target.unsqueeze(1), 1.0)"
   ],
   "metadata": {
    "collapsed": false,
    "pycharm": {
     "name": "#%%\n",
     "is_executing": false
    }
   }
  },
  {
   "cell_type": "code",
   "execution_count": 7,
   "outputs": [
    {
     "name": "stdout",
     "text": [
      "tensor([[6],\n        [6],\n        [6],\n        ...,\n        [6],\n        [7],\n        [6]])\n"
     ],
     "output_type": "stream"
    }
   ],
   "source": [
    "target_unsqueezed = target.unsqueeze(1)\n",
    "print(target_unsqueezed)"
   ],
   "metadata": {
    "collapsed": false,
    "pycharm": {
     "name": "#%%\n",
     "is_executing": false
    }
   }
  },
  {
   "cell_type": "code",
   "execution_count": 8,
   "outputs": [
    {
     "name": "stdout",
     "text": [
      "tensor([6.8548e+00, 2.7824e-01, 3.3419e-01, 6.3914e+00, 4.5772e-02, 3.5308e+01,\n        1.3836e+02, 9.9403e-01, 3.1883e+00, 4.8985e-01, 1.0514e+01])\n"
     ],
     "output_type": "stream"
    }
   ],
   "source": [
    "data_mean = torch.mean(data, dim=0)\n",
    "print(data_mean)"
   ],
   "metadata": {
    "collapsed": false,
    "pycharm": {
     "name": "#%%\n",
     "is_executing": false
    }
   }
  },
  {
   "cell_type": "code",
   "execution_count": 9,
   "outputs": [
    {
     "name": "stdout",
     "text": [
      "tensor([7.1211e-01, 1.0160e-02, 1.4646e-02, 2.5726e+01, 4.7733e-04, 2.8924e+02,\n        1.8061e+03, 8.9455e-06, 2.2801e-02, 1.3025e-02, 1.5144e+00])\n"
     ],
     "output_type": "stream"
    }
   ],
   "source": [
    "data_var = torch.var(data, dim=0)\n",
    "print(data_var)"
   ],
   "metadata": {
    "collapsed": false,
    "pycharm": {
     "name": "#%%\n",
     "is_executing": false
    }
   }
  },
  {
   "cell_type": "code",
   "execution_count": 10,
   "outputs": [
    {
     "name": "stdout",
     "text": [
      "tensor([[ 1.7209e-01, -8.1764e-02,  2.1325e-01,  ..., -1.2468e+00,\n         -3.4914e-01, -1.3930e+00],\n        [-6.5743e-01,  2.1587e-01,  4.7991e-02,  ...,  7.3992e-01,\n          1.3467e-03, -8.2418e-01],\n        [ 1.4756e+00,  1.7448e-02,  5.4378e-01,  ...,  4.7502e-01,\n         -4.3677e-01, -3.3662e-01],\n        ...,\n        [-4.2042e-01, -3.7940e-01, -1.1915e+00,  ..., -1.3131e+00,\n         -2.6152e-01, -9.0544e-01],\n        [-1.6054e+00,  1.1666e-01, -2.8253e-01,  ...,  1.0048e+00,\n         -9.6250e-01,  1.8574e+00],\n        [-1.0129e+00, -6.7703e-01,  3.7852e-01,  ...,  4.7502e-01,\n         -1.4882e+00,  1.0448e+00]])\n"
     ],
     "output_type": "stream"
    }
   ],
   "source": [
    "data_normalized = (data - data_mean) / torch.sqrt(data_var)\n",
    "print(data_normalized)"
   ],
   "metadata": {
    "collapsed": false,
    "pycharm": {
     "name": "#%%\n",
     "is_executing": false
    }
   }
  },
  {
   "cell_type": "code",
   "execution_count": 11,
   "outputs": [
    {
     "name": "stdout",
     "text": [
      "torch.Size([4898]) torch.bool tensor(20)\n"
     ],
     "output_type": "stream"
    }
   ],
   "source": [
    "bad_indexes = torch.le(target, 3)\n",
    "print(bad_indexes.shape, bad_indexes.dtype, bad_indexes.sum())"
   ],
   "metadata": {
    "collapsed": false,
    "pycharm": {
     "name": "#%%\n",
     "is_executing": false
    }
   }
  },
  {
   "cell_type": "code",
   "execution_count": 12,
   "outputs": [
    {
     "name": "stdout",
     "text": [
      "torch.Size([20, 11])\n"
     ],
     "output_type": "stream"
    }
   ],
   "source": [
    "bad_data = data[bad_indexes]\n",
    "print(bad_data.shape)"
   ],
   "metadata": {
    "collapsed": false,
    "pycharm": {
     "name": "#%%\n",
     "is_executing": false
    }
   }
  },
  {
   "cell_type": "code",
   "execution_count": 13,
   "outputs": [
    {
     "name": "stdout",
     "text": [
      " 0 fixed acidity          7.60   6.89   6.73\n 1 volatile acidity       0.33   0.28   0.27\n 2 citric acid            0.34   0.34   0.33\n 3 residual sugar         6.39   6.71   5.26\n 4 chlorides              0.05   0.05   0.04\n 5 free sulfur dioxide   53.33  35.42  34.55\n 6 total sulfur dioxide 170.60 141.83 125.25\n 7 density                0.99   0.99   0.99\n 8 pH                     3.19   3.18   3.22\n 9 sulphates              0.47   0.49   0.50\n10 alcohol               10.34  10.26  11.42\n"
     ],
     "output_type": "stream"
    }
   ],
   "source": [
    "bad_data = data[torch.le(target, 3)]\n",
    "mid_data = data[torch.gt(target, 3) & torch.lt(target, 7)]\n",
    "good_data = data[torch.ge(target, 7)]\n",
    "\n",
    "bad_mean = torch.mean(bad_data, dim=0)\n",
    "mid_mean = torch.mean(mid_data, dim=0)\n",
    "good_mean = torch.mean(good_data, dim=0)\n",
    "\n",
    "for i, args in enumerate(zip(col_list, bad_mean, mid_mean, good_mean)):\n",
    "    print('{:2} {:20} {:6.2f} {:6.2f} {:6.2f}'.format(i, *args))\n",
    "    "
   ],
   "metadata": {
    "collapsed": false,
    "pycharm": {
     "name": "#%%\n",
     "is_executing": false
    }
   }
  },
  {
   "cell_type": "code",
   "execution_count": 14,
   "outputs": [
    {
     "name": "stdout",
     "text": [
      "torch.Size([4898]) torch.bool tensor(2727)\n"
     ],
     "output_type": "stream"
    }
   ],
   "source": [
    "total_sulfur_threshold = 141.83\n",
    "total_sulfur_data = data[:, 6]\n",
    "predicted_indexes = torch.lt(total_sulfur_data, total_sulfur_threshold)\n",
    "print(predicted_indexes.shape, predicted_indexes.dtype, predicted_indexes.sum())"
   ],
   "metadata": {
    "collapsed": false,
    "pycharm": {
     "name": "#%%\n",
     "is_executing": false
    }
   }
  },
  {
   "cell_type": "code",
   "execution_count": 15,
   "outputs": [
    {
     "name": "stdout",
     "text": [
      "torch.Size([4898]) torch.bool tensor(3258)\n"
     ],
     "output_type": "stream"
    }
   ],
   "source": [
    "actual_indexes =torch.gt(target, 5)\n",
    "print(actual_indexes.shape, actual_indexes.dtype, actual_indexes.sum())"
   ],
   "metadata": {
    "collapsed": false,
    "pycharm": {
     "name": "#%%\n",
     "is_executing": false
    }
   }
  },
  {
   "cell_type": "code",
   "execution_count": 16,
   "outputs": [
    {
     "name": "stdout",
     "text": [
      "2018 2727 3258\n2018 0.74000733406674 0.6193984039287906\n"
     ],
     "output_type": "stream"
    }
   ],
   "source": [
    "n_matches = torch.sum(actual_indexes & predicted_indexes).item()\n",
    "n_predicted = torch.sum(predicted_indexes).item()\n",
    "n_actual = torch.sum(actual_indexes).item()\n",
    "print(n_matches, n_predicted, n_actual)\n",
    "print(n_matches, n_matches/n_predicted, n_matches/n_actual)"
   ],
   "metadata": {
    "collapsed": false,
    "pycharm": {
     "name": "#%%\n",
     "is_executing": false
    }
   }
  },
  {
   "cell_type": "markdown",
   "source": [
    "### TIMESERIES"
   ],
   "metadata": {
    "collapsed": false,
    "pycharm": {
     "name": "#%% md\n"
    }
   }
  },
  {
   "cell_type": "code",
   "execution_count": 17,
   "outputs": [
    {
     "name": "stdout",
     "text": [
      "tensor([[1.0000e+00, 1.0000e+00, 1.0000e+00,  ..., 3.0000e+00, 1.3000e+01,\n         1.6000e+01],\n        [2.0000e+00, 1.0000e+00, 1.0000e+00,  ..., 8.0000e+00, 3.2000e+01,\n         4.0000e+01],\n        [3.0000e+00, 1.0000e+00, 1.0000e+00,  ..., 5.0000e+00, 2.7000e+01,\n         3.2000e+01],\n        ...,\n        [1.7377e+04, 3.1000e+01, 1.0000e+00,  ..., 7.0000e+00, 8.3000e+01,\n         9.0000e+01],\n        [1.7378e+04, 3.1000e+01, 1.0000e+00,  ..., 1.3000e+01, 4.8000e+01,\n         6.1000e+01],\n        [1.7379e+04, 3.1000e+01, 1.0000e+00,  ..., 1.2000e+01, 3.7000e+01,\n         4.9000e+01]])\ntorch.Size([17520, 17])\n(17, 1)\n"
     ],
     "output_type": "stream"
    }
   ],
   "source": [
    "bikes_numpy = np.loadtxt('../data/p1ch3/hour-fixed.csv', dtype=np.float32, delimiter=',', skiprows=1, converters={1: lambda x: float(x[8: 10])})\n",
    "bikes = torch.from_numpy(bikes_numpy)\n",
    "print(bikes)\n",
    "print(bikes.shape)\n",
    "print(bikes.stride())"
   ],
   "metadata": {
    "collapsed": false,
    "pycharm": {
     "name": "#%%\n",
     "is_executing": false
    }
   }
  },
  {
   "cell_type": "code",
   "execution_count": 18,
   "outputs": [
    {
     "data": {
      "text/plain": "(torch.Size([730, 24, 17]), (408, 17, 1))"
     },
     "metadata": {},
     "output_type": "execute_result",
     "execution_count": 18
    }
   ],
   "source": [
    "daily_bikes = bikes.view(-1, 24, bikes.shape[1])\n",
    "daily_bikes.shape, daily_bikes.stride()"
   ],
   "metadata": {
    "collapsed": false,
    "pycharm": {
     "name": "#%%\n",
     "is_executing": false
    }
   }
  },
  {
   "cell_type": "code",
   "execution_count": 19,
   "outputs": [
    {
     "data": {
      "text/plain": "(torch.Size([730, 17, 24]), (408, 1, 17))"
     },
     "metadata": {},
     "output_type": "execute_result",
     "execution_count": 19
    }
   ],
   "source": [
    "daily_bikes = daily_bikes.transpose(1, 2)\n",
    "daily_bikes.shape, daily_bikes.stride()"
   ],
   "metadata": {
    "collapsed": false,
    "pycharm": {
     "name": "#%%\n",
     "is_executing": false
    }
   }
  },
  {
   "cell_type": "code",
   "execution_count": 20,
   "outputs": [
    {
     "name": "stdout",
     "text": [
      "tensor([1, 1, 1, 1, 1, 2, 1, 1, 1, 1, 1, 1, 1, 2, 2, 2, 2, 2, 3, 3, 2, 2, 2, 2])\n"
     ],
     "output_type": "stream"
    }
   ],
   "source": [
    "first_day = bikes[:24].long()\n",
    "weather_onehot = torch.zeros(first_day.shape[0], 4)\n",
    "print(first_day[:, 9])"
   ],
   "metadata": {
    "collapsed": false,
    "pycharm": {
     "name": "#%%\n",
     "is_executing": false
    }
   }
  },
  {
   "cell_type": "code",
   "execution_count": 21,
   "outputs": [
    {
     "name": "stdout",
     "text": [
      "torch.Size([17520, 17]) torch.Size([24, 4])\n"
     ],
     "output_type": "stream"
    },
    {
     "data": {
      "text/plain": "tensor([[ 1.0000,  1.0000,  1.0000,  0.0000,  1.0000,  0.0000,  0.0000,  6.0000,\n          0.0000,  1.0000,  0.2400,  0.2879,  0.8100,  0.0000,  3.0000, 13.0000,\n         16.0000,  1.0000,  0.0000,  0.0000,  0.0000]])"
     },
     "metadata": {},
     "output_type": "execute_result",
     "execution_count": 21
    }
   ],
   "source": [
    "weather_onehot.scatter_(\n",
    "    dim=1,\n",
    "    index=first_day[:, 9].unsqueeze(1) - 1,\n",
    "    value=1.0\n",
    ")\n",
    "print(bikes.shape, weather_onehot.shape)\n",
    "torch.cat((bikes[:24], weather_onehot),1)[:1]"
   ],
   "metadata": {
    "collapsed": false,
    "pycharm": {
     "name": "#%%\n",
     "is_executing": false
    }
   }
  },
  {
   "cell_type": "code",
   "execution_count": 22,
   "outputs": [
    {
     "name": "stdout",
     "text": [
      "24\ntorch.Size([730, 4, 24])\n"
     ],
     "output_type": "stream"
    }
   ],
   "source": [
    "daily_weather_onehot = torch.zeros(daily_bikes.shape[0], 4, daily_bikes.shape[2])\n",
    "print(daily_bikes.shape[2])\n",
    "print(daily_weather_onehot.shape)"
   ],
   "metadata": {
    "collapsed": false,
    "pycharm": {
     "name": "#%%\n",
     "is_executing": false
    }
   }
  },
  {
   "cell_type": "code",
   "execution_count": 23,
   "outputs": [
    {
     "data": {
      "text/plain": "torch.Size([730, 4, 24])"
     },
     "metadata": {},
     "output_type": "execute_result",
     "execution_count": 23
    }
   ],
   "source": [
    "daily_weather_onehot.scatter_(1, daily_bikes[:, 9, : ].long().unsqueeze(1)-1, 1.0)\n",
    "daily_weather_onehot.shape"
   ],
   "metadata": {
    "collapsed": false,
    "pycharm": {
     "name": "#%%\n",
     "is_executing": false
    }
   }
  },
  {
   "cell_type": "code",
   "execution_count": 24,
   "outputs": [],
   "source": [
    "daily_bikes = torch.cat((daily_bikes, daily_weather_onehot), dim=1)"
   ],
   "metadata": {
    "collapsed": false,
    "pycharm": {
     "name": "#%%\n",
     "is_executing": false
    }
   }
  },
  {
   "cell_type": "code",
   "execution_count": 25,
   "outputs": [
    {
     "name": "stdout",
     "text": [
      "tensor([[0.2245, 0.2041, 0.2041,  ..., 0.3878, 0.3878, 0.4490],\n        [0.4490, 0.4286, 0.4082,  ..., 0.2449, 0.2245, 0.2041],\n        [0.2041, 0.1837, 0.1837,  ..., 0.1633, 0.1224, 0.1633],\n        ...,\n        [0.2245, 0.2245, 0.2245,  ..., 0.2653, 0.2449, 0.2449],\n        [0.2449, 0.2449, 0.2449,  ..., 0.1837, 0.1837, 0.1837],\n        [0.1633, 0.1633, 0.1429,  ..., 0.2449, 0.2449, 0.2449]])\n"
     ],
     "output_type": "stream"
    }
   ],
   "source": [
    "temp = daily_bikes[:, 10, :]\n",
    "temp_min = torch.min(temp)\n",
    "temp_max = torch.max(temp)\n",
    "daily_bikes[:, 10, :] = (daily_bikes[:, 10, :]-temp_min)/(temp_max-temp_min)\n",
    "print(daily_bikes[:, 10, :])"
   ],
   "metadata": {
    "collapsed": false,
    "pycharm": {
     "name": "#%%\n",
     "is_executing": false
    }
   }
  },
  {
   "cell_type": "code",
   "execution_count": 26,
   "outputs": [
    {
     "name": "stdout",
     "text": [
      "tensor([[-1.3213, -1.4249, -1.4249,  ..., -0.4932, -0.4932, -0.1827],\n        [-0.1827, -0.2862, -0.3897,  ..., -1.2178, -1.3213, -1.4249],\n        [-1.4249, -1.5284, -1.5284,  ..., -1.6319, -1.8389, -1.6319],\n        ...,\n        [-1.3213, -1.3213, -1.3213,  ..., -1.1143, -1.2178, -1.2178],\n        [-1.2178, -1.2178, -1.2178,  ..., -1.5284, -1.5284, -1.5284],\n        [-1.6319, -1.6319, -1.7354,  ..., -1.2178, -1.2178, -1.2178]])\n"
     ],
     "output_type": "stream"
    }
   ],
   "source": [
    "temp = daily_bikes[:, 10, :]\n",
    "daily_bikes[:, 10, :] = (daily_bikes[:, 10, :] - torch.mean(temp))/torch.std(temp)\n",
    "print(daily_bikes[:, 10, :])"
   ],
   "metadata": {
    "collapsed": false,
    "pycharm": {
     "name": "#%%\n",
     "is_executing": false
    }
   }
  },
  {
   "cell_type": "markdown",
   "source": [
    "### Text"
   ],
   "metadata": {
    "collapsed": false,
    "pycharm": {
     "name": "#%% md\n"
    }
   }
  },
  {
   "cell_type": "code",
   "execution_count": 27,
   "outputs": [
    {
     "name": "stdout",
     "text": [
      "“Impossible, Mr. Bennet, impossible, when I am not acquainted with him\n"
     ],
     "output_type": "stream"
    }
   ],
   "source": [
    "with open('../data/p1ch3/1342-0.txt', encoding='utf8') as f:\n",
    "    text = f.read()\n",
    "lines = text.split('\\n')\n",
    "line = lines[200]\n",
    "print(line)"
   ],
   "metadata": {
    "collapsed": false,
    "pycharm": {
     "name": "#%%\n",
     "is_executing": false
    }
   }
  },
  {
   "cell_type": "code",
   "execution_count": 28,
   "outputs": [
    {
     "name": "stdout",
     "text": [
      "torch.Size([70, 128])\n"
     ],
     "output_type": "stream"
    }
   ],
   "source": [
    "letter_tensor = torch.zeros(len(line), 128)\n",
    "print(letter_tensor.shape)\n",
    "\n",
    "for i, letter in enumerate(line.lower().strip()):\n",
    "    letter_index = ord(letter) if ord(letter) < 128 else 0\n",
    "    letter_tensor[i][letter_index]=  1"
   ],
   "metadata": {
    "collapsed": false,
    "pycharm": {
     "name": "#%%\n",
     "is_executing": false
    }
   }
  },
  {
   "cell_type": "code",
   "execution_count": 29,
   "outputs": [
    {
     "name": "stdout",
     "text": [
      "['impossible', 'mr', 'bennet', 'impossible', 'when', 'i', 'am', 'not', 'acquainted', 'with', 'him']\n7261 3394\n{'': 0, '#1342]': 1, '$5,000)': 2, \"'_she\": 3, \"'after\": 4, \"'ah\": 5, \"'as-is'\": 6, \"'bingley\": 7, \"'had\": 8, \"'having\": 9, \"'i\": 10, \"'keep\": 11, \"'lady\": 12, \"'lately\": 13, \"'lydia\": 14, \"'mr\": 15, \"'my\": 16, \"'oh\": 17, \"'s\": 18, \"'this\": 19, \"'tis\": 20, \"'violently\": 21, \"'yes,'\": 22, \"'you\": 23, '($1': 24, '(801)': 25, '(a)': 26, '(an': 27, '(and': 28, '(any': 29, '(available': 30, '(b)': 31, '(by': 32, '(c)': 33, '(comparatively': 34, '(does': 35, '(for': 36, '(glancing': 37, '(if': 38, '(lady': 39, '(like': 40, '(most': 41, '(my': 42, '(or': 43, '(trademark/copyright)': 44, '(unasked': 45, '(what': 46, '(who': 47, '(www.gutenberg.org)': 48, '(“the': 49, '*': 50, '***': 51, '*****': 52, '1': 53, '1.a': 54, '1.b': 55, '1.c': 56, '1.d': 57, '1.e': 58, '1.e.1': 59, '1.e.2': 60, '1.e.3': 61, '1.e.4': 62, '1.e.5': 63, '1.e.6': 64, '1.e.7': 65, '1.e.8': 66, '1.e.9': 67, '1.f': 68, '1.f.1': 69, '1.f.2': 70, '1.f.3': 71, '1.f.4': 72, '1.f.5': 73, '1.f.6': 74, '10': 75, '11': 76, '12': 77, '13': 78, '1342-0.txt': 79, '1342-0.zip': 80, '14': 81, '15': 82, '1500': 83, '15th': 84, '16': 85, '17': 86, '18': 87, '18th': 88, '19': 89, '1998': 90, '2': 91, '20': 92, '20%': 93, '2001': 94, '2008': 95, '2018': 96, '21': 97, '22': 98, '23': 99, '24': 100, '25': 101, '26': 102, '26th': 103, '27': 104, '28': 105, '29': 106, '3': 107, '30': 108, '31': 109, '32': 110, '33': 111, '34': 112, '35': 113, '36': 114, '37': 115, '38': 116, '39': 117, '4': 118, '40': 119, '41': 120, '42': 121, '43': 122, '44': 123, '45': 124, '4557': 125, '46': 126, '47': 127, '48': 128, '49': 129, '5': 130, '50': 131, '501(c)(3)': 132, '51': 133, '52': 134, '53': 135, '54': 136, '55': 137, '56': 138, '57': 139, '58': 140, '59': 141, '596-1887': 142, '6': 143, '60': 144, '61': 145, '64-6221541': 146, '7': 147, '8': 148, '809': 149, '84116': 150, '9': 151, '90': 152, '99712': 153, '[ebook': 154, 'a': 155, 'a-shooting': 156, 'abatement': 157, 'abhorrence': 158, 'abhorrent': 159, 'abide': 160, 'abiding': 161, 'abilities': 162, 'able': 163, 'ablution': 164, 'abode': 165, 'abominable': 166, 'abominably': 167, 'abominate': 168, 'abound': 169, 'about': 170, 'above': 171, 'abroad': 172, 'abrupt': 173, 'abruptly': 174, 'abruptness': 175, 'absence': 176, 'absent': 177, 'absolute': 178, 'absolutely': 179, 'absurd': 180, 'absurdities': 181, 'absurdity': 182, 'abundant': 183, 'abundantly': 184, 'abuse': 185, 'abused': 186, 'abusing': 187, 'abusive': 188, 'accede': 189, 'acceded': 190, 'acceding': 191, 'accent': 192, 'accents': 193, 'accept': 194, 'acceptable': 195, 'acceptance': 196, 'accepted': 197, 'accepting': 198, 'access': 199, 'accessed': 200, 'accessible': 201, 'accident': 202, 'accidental': 203, 'accidentally': 204, 'accompanied': 205, 'accompany': 206, 'accompanying': 207, 'accomplished': 208, 'accomplished!--she': 209, 'accomplishment': 210, 'accomplishments': 211, 'accordance': 212, 'according': 213, 'accordingly': 214, 'accosted': 215, 'account': 216, 'accounted': 217, 'accounting': 218, 'accounts': 219, 'accuracy': 220, 'accurate': 221, 'accusation': 222, 'accusations': 223, 'accuse': 224, 'accused': 225, 'accusing': 226, 'accustomed': 227, 'ached': 228, 'achieving': 229, 'acknowledge': 230, 'acknowledged': 231, 'acknowledging': 232, 'acknowledgment': 233, 'acknowledgments': 234, 'acquaint': 235, 'acquaintance': 236, 'acquaintance--an': 237, 'acquaintances': 238, 'acquainted': 239, 'acquainting': 240, 'acquiesce': 241, 'acquiescence': 242, 'acquire': 243, 'acquired': 244, 'acquisition': 245, 'acquit': 246, 'acrimony': 247, 'across': 248, 'act': 249, 'acted': 250, 'acting': 251, 'action': 252, 'actions': 253, 'actions--may': 254, 'active': 255, 'activity': 256, 'actual': 257, 'actually': 258, 'actuated': 259, 'acute': 260, 'acutely': 261, 'acutest': 262, 'adapted': 263, 'add': 264, 'added': 265, 'adding': 266, 'addition': 267, 'additional': 268, 'additions': 269, 'address': 270, 'addressed': 271, 'addresses': 272, 'addressing': 273, 'adds': 274, 'adept': 275, 'adequate': 276, 'adhered': 277, 'adhering': 278, 'adieu': 279, 'adieus': 280, 'adjusting': 281, 'admirable': 282, 'admiration': 283, 'admire': 284, 'admired': 285, 'admirer': 286, 'admires': 287, 'admiring': 288, 'admission': 289, 'admit': 290, 'admittance': 291, 'admitted': 292, 'admitting': 293, 'adopt': 294, 'adopted': 295, 'adoration': 296, 'adorned': 297, 'advance': 298, 'advanced': 299, 'advancement': 300, 'advances': 301, 'advantage': 302, 'advantageous': 303, 'advantageously': 304, 'advantages': 305, 'adventure': 306, 'advertised': 307, 'advice': 308, 'advisable': 309, 'advise': 310, 'advised': 311, 'advising': 312, 'affability': 313, 'affable': 314, 'affair': 315, 'affairs': 316, 'affect': 317, 'affectation': 318, 'affected': 319, 'affection': 320, 'affectionate': 321, 'affectionately': 322, 'affections': 323, 'affinity': 324, 'affirmative': 325, 'afflicted': 326, 'afflicting': 327, 'affliction': 328, 'afford': 329, 'afforded': 330, 'affording': 331, 'affords': 332, 'affront': 333, 'affronted': 334, 'afraid': 335, 'afresh': 336, 'after': 337, 'after--the': 338, 'afternoon': 339, 'afterwards': 340, 'again': 341, 'against': 342, 'age': 343, 'agent': 344, 'agitated': 345, 'agitation': 346, 'agitations': 347, 'ago': 348, 'agonies': 349, 'agony': 350, 'agree': 351, 'agreeable': 352, 'agreeable--allowing': 353, 'agreeable-looking': 354, 'agreeably': 355, 'agreed': 356, 'agreeing': 357, 'agreement': 358, 'ah': 359, 'aid': 360, 'aimed': 361, 'air': 362, 'airing': 363, 'airs': 364, 'ak': 365, 'alacrity': 366, 'alarm': 367, 'alarmed': 368, 'alarming': 369, 'alarms': 370, 'alas': 371, 'alienated': 372, 'alighted': 373, 'alike': 374, 'alive': 375, 'all': 376, 'all--all': 377, 'all--and': 378, 'allayed': 379, 'alleviate': 380, 'alleviated': 381, 'alliance': 382, 'allow': 383, 'allow--and': 384, 'allowable': 385, 'allowance': 386, 'allowances': 387, 'allowed': 388, 'allowing': 389, 'allude': 390, 'alluded': 391, 'alluding': 392, 'allurements': 393, 'allusion': 394, 'allusions': 395, 'almost': 396, 'alone': 397, 'along': 398, 'aloof': 399, 'aloud': 400, 'already': 401, 'also': 402, 'altar': 403, 'alter': 404, 'alteration': 405, 'alterations': 406, 'altered': 407, 'altered--what': 408, 'alternate': 409, 'alternative': 410, 'although': 411, 'altogether': 412, 'altogether--mr': 413, 'always': 414, 'am': 415, 'am--and': 416, 'amaze': 417, 'amazed': 418, 'amazement': 419, 'amazes': 420, 'amazing': 421, 'amazing!--but': 422, 'ambition': 423, 'amendment': 424, 'amends': 425, 'amends--but': 426, 'amends--of': 427, 'amiable': 428, 'amiable)': 429, 'amiable”--but': 430, 'amid': 431, 'amidst': 432, 'amiss': 433, 'among': 434, 'amongst': 435, 'amount': 436, 'amounting': 437, 'ample': 438, 'amply': 439, 'amuse': 440, 'amused': 441, 'amusement': 442, 'amusements': 443, 'amusing': 444, 'an': 445, 'ancient--though': 446, 'and': 447, 'anecdote': 448, 'anecdotes': 449, 'anew': 450, 'angel': 451, 'angelic': 452, 'anger': 453, 'angrily': 454, 'angry': 455, 'anguish': 456, 'animal': 457, 'animated': 458, 'animating': 459, 'animation': 460, 'ankle': 461, 'ankles': 462, 'anne': 463, \"anne's\": 464, 'annesley': 465, 'annexed': 466, 'announce': 467, 'announced': 468, 'annoyed': 469, 'annual': 470, 'annum': 471, 'anonymous': 472, 'another': 473, 'answer': 474, 'answer--but': 475, 'answerable': 476, 'answered': 477, 'answering': 478, 'answers': 479, 'antagonist': 480, 'ante-chamber': 481, 'anticipate': 482, 'anticipated': 483, 'anticipating': 484, 'anticipation': 485, 'anxiety': 486, 'anxious': 487, 'anxiously': 488, 'any': 489, 'any)': 490, 'anybody': 491, \"anybody's\": 492, 'anyhow': 493, 'anyone': 494, 'anything': 495, 'anywhere': 496, 'apace': 497, 'apartment': 498, 'apartments': 499, 'apologies': 500, 'apologise': 501, 'apologised': 502, 'apologising': 503, 'apology': 504, 'apothecary': 505, 'apparel': 506, 'apparent': 507, 'apparently': 508, 'appeal': 509, 'appeals': 510, 'appear': 511, 'appearance': 512, 'appearances': 513, 'appeared': 514, 'appearing': 515, 'appears': 516, 'appease': 517, 'appeased': 518, 'appertain': 519, 'appetite': 520, 'applicable': 521, 'application': 522, 'applied': 523, 'applies': 524, 'apply': 525, 'applying': 526, 'appointed': 527, 'appointment': 528, 'apprehended': 529, 'apprehending': 530, 'apprehension': 531, 'apprehensions': 532, 'apprehensive': 533, 'approach': 534, 'approached': 535, 'approaching': 536, 'approbation': 537, 'approve': 538, 'approved': 539, 'april': 540, 'apt': 541, 'arch': 542, 'archbishop': 543, 'archive': 544, 'archly': 545, 'archness': 546, 'ardent': 547, 'ardently': 548, 'are': 549, 'are)': 550, 'argued': 551, 'arguing': 552, 'argument': 553, 'arguments': 554, 'arise': 555, 'arisen': 556, 'arising': 557, 'arm': 558, 'arm-in-arm': 559, 'army': 560, 'arose': 561, 'around': 562, 'aroused': 563, 'arrange': 564, 'arranged': 565, 'arrangement': 566, 'arrangements': 567, 'arranges': 568, 'arranging': 569, 'array': 570, 'arrear': 571, 'arrested': 572, 'arrival': 573, 'arrive': 574, 'arrived': 575, 'arrived--that': 576, 'arriving': 577, 'arrogance': 578, 'arrogant': 579, 'art': 580, 'artful': 581, 'artfully': 582, 'article': 583, 'articles': 584, 'artificial': 585, 'arts': 586, 'as': 587, 'ascended': 588, 'ascertain': 589, 'ascertaining': 590, 'ascii': 591, 'ashamed': 592, 'ashworth': 593, 'aside': 594, 'ask': 595, 'asked': 596, 'asking': 597, 'aspect': 598, 'asperity': 599, 'aspire': 600, 'assembled': 601, 'assemblies': 602, 'assembly': 603, 'assent': 604, 'assented': 605, 'assents': 606, 'assert': 607, 'asserted': 608, 'asserting': 609, 'assertion': 610, 'assertions': 611, 'assiduous': 612, 'assiduously': 613, 'assist': 614, 'assistance': 615, 'assistant': 616, 'assisted': 617, 'assisting': 618, 'associated': 619, 'associated)': 620, 'associating': 621, 'assume': 622, 'assumed': 623, 'assurance': 624, 'assurances': 625, 'assure': 626, 'assured': 627, 'assuring': 628, 'astonish': 629, 'astonish--and': 630, 'astonished': 631, 'astonishment': 632, 'at': 633, 'ate': 634, 'atone': 635, 'atoned': 636, 'atonement': 637, 'atonement--for': 638, 'attach': 639, 'attached': 640, 'attachment': 641, 'attachments': 642, 'attack': 643, 'attacked': 644, 'attacks': 645, 'attained': 646, 'attempt': 647, 'attempted': 648, 'attempting': 649, 'attend': 650, 'attendance': 651, 'attendant': 652, 'attendants': 653, 'attended': 654, 'attending': 655, 'attention': 656, 'attentions': 657, 'attentive': 658, 'attentively': 659, 'attics': 660, 'attitude': 661, 'attorney': 662, 'attracted': 663, 'attraction': 664, 'attractions': 665, 'attribute': 666, 'attributed': 667, 'attributing': 668, 'audible': 669, 'audience': 670, 'aught': 671, 'augment': 672, 'augmented': 673, 'august': 674, 'aunt': 675, \"aunt's\": 676, 'aunts': 677, 'austen': 678, 'austerity': 679, 'author': 680, 'authorise': 681, 'authorised': 682, 'authorising': 683, 'authoritative': 684, 'authority': 685, 'authorized': 686, 'avail': 687, 'available': 688, 'availed': 689, 'avarice': 690, 'avenue': 691, 'avoid': 692, 'avoidance': 693, 'avoided': 694, 'avoiding': 695, 'avowal': 696, 'avowed': 697, 'awaited': 698, 'awake': 699, 'awakened': 700, 'aware': 701, 'away': 702, 'away--you': 703, 'awe': 704, 'awed': 705, 'awful': 706, 'awkward': 707, 'awkwardness': 708, 'awoke': 709, 'aye': 710, 'aye--because': 711, 'aye--that': 712, 'b': 713, 'back': 714, 'backed': 715, 'backgammon': 716, 'backward': 717, 'backwards': 718, 'bad': 719, 'bad--belongs': 720, 'bakewell': 721, 'ball': 722, 'ball--and': 723, 'ball-room': 724, 'balls': 725, 'balm': 726, 'bandbox': 727, 'banish': 728, 'banished': 729, 'banks': 730, 'barbarous': 731, 'barbarously': 732, 'bare': 733, 'barefaced': 734, 'barely': 735, 'barnet': 736, 'barouche-box': 737, 'based': 738, 'bashful': 739, 'basis': 740, 'bath': 741, 'bathing-place': 742, 'battled': 743, 'be': 744, 'be!--engaged': 745, 'be--but': 746, 'bear': 747, 'bearing': 748, 'bears': 749, 'beatings': 750, 'beauteous': 751, 'beauties': 752, 'beautiful': 753, 'beauty': 754, 'beauty!--i': 755, 'beaux': 756, 'became': 757, 'because': 758, 'become': 759, 'becomes': 760, 'becoming': 761, 'bed': 762, 'bedrooms': 763, 'been': 764, 'befall': 765, 'before': 766, 'before)': 767, 'beforehand': 768, 'befriended': 769, 'beg': 770, 'began': 771, 'begged': 772, 'begging': 773, 'begin': 774, 'beginning': 775, 'beginning--from': 776, 'begins': 777, 'begins--but': 778, 'begs': 779, 'begun': 780, 'behalf': 781, 'behave': 782, 'behaved': 783, 'behaves': 784, 'behaviour': 785, 'beheld': 786, 'behind': 787, 'beholding': 788, 'being': 789, 'belief': 790, 'believe': 791, 'believed': 792, 'believes': 793, 'believing': 794, 'bell': 795, 'bell--i': 796, 'belong': 797, 'belonged': 798, 'belonging': 799, 'belongs': 800, 'beloved': 801, 'below': 802, 'benches': 803, 'beneath': 804, 'beneficence': 805, 'beneficial': 806, 'benefit': 807, 'benefited': 808, 'benefiting': 809, 'benefits': 810, 'benevolence': 811, 'benevolent': 812, 'bennet': 813, \"bennet's\": 814, \"bennet,'\": 815, \"bennet.'--my\": 816, 'bennets': 817, 'bent': 818, 'bequeathed': 819, 'bequest': 820, 'besides': 821, 'best': 822, 'bestow': 823, 'bestow!--how': 824, 'bestowed': 825, 'bestowing': 826, 'betray': 827, 'betrayed': 828, 'bets': 829, 'better': 830, 'between': 831, 'bewailed': 832, 'bewildered': 833, 'bewitched': 834, 'bewitching': 835, 'beyond': 836, 'bid': 837, 'bidding': 838, 'billiard-table': 839, 'bills': 840, 'binary': 841, 'bingley': 842, \"bingley's\": 843, 'bingley)': 844, 'bingleys': 845, \"bingleys'\": 846, 'birds': 847, 'birmingham': 848, 'birth': 849, 'bit': 850, 'biting': 851, 'bitter': 852, 'bitterest': 853, 'bitterly': 854, 'bitterness': 855, 'black': 856, 'blacken': 857, 'blame': 858, 'blameable': 859, 'blamed': 860, 'blameless': 861, 'blamelessness': 862, 'blaming': 863, 'blasted': 864, 'blemish': 865, 'blenheim': 866, 'bless': 867, 'blessed': 868, 'blessing': 869, 'blind': 870, 'blinded': 871, 'blinds': 872, 'blots': 873, 'blow': 874, 'blown': 875, 'blowsy': 876, 'blue': 877, 'blush': 878, 'blushed': 879, 'blushing': 880, 'board': 881, 'boast': 882, 'boasted': 883, 'boasting': 884, 'bodies': 885, 'body': 886, 'boisterously': 887, 'bold': 888, 'boldly': 889, 'bonnet': 890, 'book': 891, 'book-room': 892, 'books': 893, 'books--oh': 894, 'bordered': 895, 'bordering': 896, 'bore': 897, 'born': 898, 'borne': 899, 'borrow': 900, 'borrowed': 901, 'bosom': 902, 'bosoms': 903, 'both': 904, 'bottle': 905, 'bottom': 906, 'bought': 907, 'boulanger': 908, 'bound': 909, 'boundary': 910, 'boundless': 911, 'bounds': 912, 'bounty': 913, 'bourgh': 914, \"bourgh's\": 915, 'bourgh--the': 916, 'bow': 917, 'bowed': 918, 'bowing': 919, 'bowl': 920, 'bows': 921, 'boxes': 922, 'boy': 923, 'boys': 924, 'bracelets': 925, 'brain': 926, 'brains': 927, 'branch': 928, 'breach': 929, 'break': 930, 'breakfast': 931, 'breakfast-parlour': 932, 'breakfast-room': 933, 'breakfasted': 934, 'breaking': 935, 'breast': 936, 'breath': 937, 'breathed': 938, 'breathing': 939, 'breathless': 940, 'breeding': 941, 'brevity': 942, 'bribe': 943, 'bribery': 944, 'bride': 945, 'bridegroom': 946, 'bridge': 947, 'briefly': 948, 'bright': 949, 'brightened': 950, 'brightening': 951, 'brightest': 952, 'brighton': 953, 'brilliancy': 954, 'bring': 955, 'bring--good': 956, 'bringing': 957, 'brings': 958, 'brink': 959, 'britain': 960, 'british': 961, 'brittle': 962, 'broad-faced': 963, 'broke': 964, 'broken': 965, 'bromley': 966, 'brooking': 967, 'brother': 968, \"brother's\": 969, 'brother--very': 970, 'brother-in-law': 971, \"brother-in-law's\": 972, 'brotherly': 973, 'brothers': 974, 'brought': 975, 'brow': 976, 'brown': 977, 'build': 978, 'building': 979, 'built': 980, 'burning': 981, 'burnt': 982, 'burst': 983, 'burying': 984, 'busily': 985, 'business': 986, 'business@pglaf.org': 987, 'bustle': 988, 'busy': 989, 'but': 990, 'but--good': 991, \"butcher's\": 992, 'butler': 993, 'buy': 994, 'buying': 995, 'by': 996, 'bye': 997, 'cake': 998, 'calculate': 999, 'calculated': 1000, 'calculation': 1001, 'calico': 1002, 'call': 1003, 'called': 1004, 'calling': 1005, 'calls': 1006, 'calm': 1007, 'calmly': 1008, 'calmness': 1009, 'cambric': 1010, 'cambridge--most': 1011, 'came': 1012, 'camp': 1013, 'camp--its': 1014, 'campful': 1015, 'can': 1016, \"can't\": 1017, 'candid': 1018, 'candour': 1019, 'cannot': 1020, 'cannot--i': 1021, 'canvas': 1022, 'canvassed': 1023, 'capable': 1024, 'capacity': 1025, 'capers': 1026, 'capital': 1027, 'caprice': 1028, 'captain': 1029, 'captivate': 1030, 'captivated': 1031, 'captivating': 1032, 'captivation': 1033, 'card': 1034, 'card-table': 1035, 'card-table--but': 1036, 'card-tables': 1037, 'cards': 1038, 'care': 1039, 'cared': 1040, 'careful': 1041, 'carefully': 1042, 'careless': 1043, 'carelessness': 1044, 'cares': 1045, 'caring': 1046, 'caroline': 1047, \"caroline's\": 1048, 'carpets': 1049, 'carriage': 1050, 'carriages': 1051, 'carried': 1052, 'carry': 1053, 'carrying': 1054, 'carter': 1055, 'carved': 1056, 'case': 1057, 'case--was': 1058, 'cases': 1059, 'cassino': 1060, 'cast': 1061, 'casual': 1062, 'catch': 1063, 'catching': 1064, 'catherine': 1065, \"catherine's\": 1066, 'catherine)': 1067, \"catherine,'\": 1068, 'caught': 1069, 'cause': 1070, 'caused': 1071, 'causes': 1072, 'caution': 1073, 'cautioning': 1074, 'cautious': 1075, 'cautiousness': 1076, 'cease': 1077, 'ceased': 1078, 'ceaseless': 1079, 'celebrated': 1080, 'celerity': 1081, 'censure': 1082, 'censured': 1083, 'censuring': 1084, 'cents': 1085, 'ceremonies': 1086, 'ceremonious': 1087, 'ceremony': 1088, 'certain': 1089, 'certain--absolutely': 1090, 'certain--but': 1091, 'certain--that': 1092, 'certainly': 1093, 'certainty': 1094, 'cessation': 1095, 'chagrin': 1096, 'chair': 1097, 'chaise': 1098, 'challenge': 1099, 'chamber': 1100, 'chamberlayne': 1101, 'chambermaid': 1102, 'chance': 1103, 'chanced': 1104, 'chances': 1105, 'change': 1106, 'changed': 1107, 'changes': 1108, 'changing': 1109, 'chaperon': 1110, 'chapter': 1111, 'character': 1112, 'character--it': 1113, 'character--oh': 1114, 'character--there': 1115, 'characterise': 1116, 'characteristic': 1117, 'characters': 1118, 'charge': 1119, 'charged': 1120, 'charges': 1121, 'charitable': 1122, 'charities': 1123, 'charity': 1124, 'charles': 1125, 'charlotte': 1126, \"charlotte's\": 1127, 'charlotte--impossible': 1128, 'charm': 1129, 'charming': 1130, 'charmingly': 1131, 'charms': 1132, 'chatsworth': 1133, 'chatty': 1134, 'cheap': 1135, 'cheapside': 1136, 'cheat': 1137, 'cheating': 1138, 'check': 1139, 'checked': 1140, 'checking': 1141, 'checks': 1142, 'cheeks': 1143, 'cheerful': 1144, 'cheerfully': 1145, 'cheerfulness': 1146, 'cheering': 1147, 'cherish': 1148, 'cherished': 1149, 'chestnuts': 1150, 'chicken': 1151, 'chief': 1152, 'chiefly': 1153, 'child': 1154, 'child)': 1155, 'childhood': 1156, 'children': 1157, 'chimney-piece': 1158, 'chin': 1159, 'china': 1160, 'choice': 1161, 'choice--a': 1162, 'choose': 1163, 'chooses': 1164, 'choosing': 1165, 'chose': 1166, 'chosen': 1167, 'christening': 1168, 'christian': 1169, 'christmas': 1170, 'church': 1171, 'circle': 1172, 'circles': 1173, 'circuit': 1174, 'circulated': 1175, 'circulating': 1176, 'circulation': 1177, 'circumspect': 1178, 'circumspection': 1179, 'circumstance': 1180, 'circumstances': 1181, 'circumstances--and': 1182, 'city': 1183, 'civil': 1184, 'civilities': 1185, 'civility': 1186, 'civilly': 1187, 'claim': 1188, 'claimed': 1189, 'claims': 1190, 'clamorous': 1191, 'clapham': 1192, \"clarke's\": 1193, 'class': 1194, 'cleanse': 1195, 'clear': 1196, 'clear-sighted': 1197, 'cleared': 1198, 'clearer': 1199, 'clearing': 1200, 'clearly': 1201, \"clement's\": 1202, 'clergy': 1203, 'clergyman': 1204, 'clerical': 1205, 'clerk': 1206, 'clever': 1207, 'clock': 1208, 'close': 1209, 'closed': 1210, 'closely': 1211, 'closer': 1212, 'closest': 1213, 'closet': 1214, 'closure': 1215, 'clothes': 1216, 'clouded': 1217, 'clue': 1218, 'clump': 1219, 'cluster': 1220, 'coach': 1221, 'coachman': 1222, \"coachman's\": 1223, 'coarse': 1224, 'coarseness': 1225, 'coat': 1226, 'coats': 1227, 'coaxed': 1228, 'codes': 1229, 'coffee': 1230, 'cogent': 1231, 'coherent': 1232, 'coincide': 1233, 'coincided': 1234, 'coincidence': 1235, 'cold': 1236, 'colder': 1237, 'coldly': 1238, 'colds': 1239, 'collect': 1240, 'collected': 1241, 'collecting': 1242, 'collection': 1243, 'collins': 1244, \"collins's\": 1245, 'collinses': 1246, 'colonel': 1247, \"colonel's\": 1248, 'colour': 1249, 'coloured': 1250, 'colouring': 1251, 'combated': 1252, 'come': 1253, 'come--mr': 1254, 'comes': 1255, 'comfort': 1256, 'comfortable': 1257, 'comfortably': 1258, 'comforted': 1259, 'comfortless': 1260, 'comforts': 1261, 'coming': 1262, 'coming--at': 1263, 'command': 1264, 'commanded': 1265, 'commencement': 1266, 'commendable': 1267, 'commendation': 1268, 'commendations': 1269, 'commended': 1270, 'commerce': 1271, 'commercial': 1272, 'commiseration': 1273, 'commission': 1274, 'commissioned': 1275, 'commissioning': 1276, 'committed': 1277, 'common': 1278, 'commonest': 1279, 'commonly': 1280, 'communicate': 1281, 'communicated': 1282, 'communication': 1283, 'communications': 1284, 'communicative': 1285, 'communicativeness': 1286, 'companion': 1287, 'companions': 1288, 'company': 1289, 'comparative': 1290, 'comparatively': 1291, 'compare': 1292, 'compared': 1293, 'comparing': 1294, 'comparison': 1295, 'comparisons': 1296, 'compass': 1297, 'compassion': 1298, 'compassionate': 1299, 'compatible': 1300, 'compensation': 1301, 'competition': 1302, 'compilation': 1303, 'complacency': 1304, 'complain': 1305, 'complained': 1306, 'complaining': 1307, 'complaint': 1308, 'complaints': 1309, 'complaisance': 1310, 'complaisance--for': 1311, 'complaisant': 1312, 'complete': 1313, 'completed': 1314, 'completely': 1315, 'completion': 1316, 'complexion': 1317, 'compliance': 1318, 'complied': 1319, 'compliment': 1320, 'complimented': 1321, 'complimenting': 1322, 'compliments': 1323, 'comply': 1324, 'complying': 1325, 'compose': 1326, 'composed': 1327, 'composedly': 1328, 'composition': 1329, 'composure': 1330, 'comprehend': 1331, 'comprehended': 1332, 'comprehends': 1333, 'comprehension': 1334, 'compressed': 1335, 'comprise': 1336, 'comprised': 1337, 'compromised': 1338, 'computer': 1339, 'computers': 1340, 'conceal': 1341, 'concealed': 1342, 'concealing': 1343, 'concealment': 1344, 'conceals': 1345, 'conceit': 1346, 'conceited': 1347, 'conceive': 1348, 'concept': 1349, 'conception': 1350, 'concern': 1351, 'concern--and': 1352, 'concerned': 1353, 'concerning': 1354, 'concerns': 1355, 'concerto': 1356, 'conciliate': 1357, 'conciliating': 1358, 'conciliatory': 1359, 'concise--and': 1360, 'concisely': 1361, 'conclude': 1362, 'concluded': 1363, 'concluding': 1364, 'conclusion': 1365, 'concurrence': 1366, 'condemn': 1367, 'condemned': 1368, 'condescend': 1369, 'condescended': 1370, 'condescendingly': 1371, 'condescends': 1372, 'condescension': 1373, 'condition': 1374, 'conditional': 1375, 'conditionally': 1376, 'conditions': 1377, 'condole': 1378, 'condolence': 1379, 'conduct': 1380, 'conducted': 1381, 'confederacy': 1382, 'conference': 1383, 'confess': 1384, 'confessed': 1385, 'confession': 1386, 'confidante': 1387, 'confide': 1388, 'confidence': 1389, 'confident': 1390, 'confidential': 1391, 'confidently': 1392, 'confiding': 1393, 'confined': 1394, 'confinement': 1395, 'confirm': 1396, 'confirmation': 1397, 'confirmed': 1398, 'confirming': 1399, 'confirms': 1400, 'confused': 1401, 'confusion': 1402, 'congenial': 1403, 'congratulate': 1404, 'congratulated': 1405, 'congratulation': 1406, 'congratulations': 1407, 'congratulatory': 1408, 'conjecture': 1409, 'conjectured': 1410, 'conjectures': 1411, 'conjecturing': 1412, 'conjugal': 1413, 'conjunction': 1414, 'connect': 1415, 'connected': 1416, 'connection': 1417, 'connections': 1418, 'connections?--to': 1419, 'connivance': 1420, 'connubial': 1421, 'conquer': 1422, 'conquered': 1423, 'conquest': 1424, 'conscience': 1425, 'conscientious': 1426, 'conscientiously': 1427, 'conscious': 1428, 'consciousness': 1429, 'consent': 1430, 'consented': 1431, 'consenting': 1432, 'consequence': 1433, 'consequent': 1434, 'consequential': 1435, 'consequently': 1436, 'consider': 1437, 'considerable': 1438, 'considerably': 1439, 'consideration': 1440, 'considerations': 1441, 'considered': 1442, 'considering': 1443, 'consign': 1444, 'consigned': 1445, 'consisted': 1446, 'consistency': 1447, 'consistent': 1448, 'consists': 1449, 'consolation': 1450, 'consolatory': 1451, 'console': 1452, 'consoled': 1453, 'consoling': 1454, 'constancy': 1455, 'constant': 1456, 'constantly': 1457, 'consternation': 1458, 'constitute': 1459, 'constitution': 1460, 'constrained': 1461, 'construction': 1462, 'construed': 1463, 'construing': 1464, 'consult': 1465, 'consulted': 1466, 'consulting': 1467, 'contact': 1468, 'contain': 1469, 'contained': 1470, 'containing': 1471, 'contains': 1472, 'contemplation': 1473, 'contempt': 1474, 'contemptuously': 1475, 'content': 1476, 'contented': 1477, 'contentment': 1478, 'contents': 1479, 'continual': 1480, 'continually': 1481, 'continuance': 1482, 'continue': 1483, 'continued': 1484, 'continuing': 1485, 'contract': 1486, 'contracted': 1487, 'contradict': 1488, 'contradicted': 1489, 'contradictions': 1490, 'contrariety': 1491, 'contrariwise': 1492, 'contrary': 1493, 'contrast': 1494, 'contrasted': 1495, 'contribute': 1496, 'contributed': 1497, 'contributions': 1498, 'contrivance': 1499, 'contrive': 1500, 'contrived': 1501, 'controverted': 1502, 'convenience': 1503, 'convenient': 1504, 'conversation': 1505, 'conversation--a': 1506, 'conversations': 1507, 'converse': 1508, 'conversed': 1509, 'conversible': 1510, 'conversing': 1511, 'convert': 1512, 'converting': 1513, 'convey': 1514, 'conveyed': 1515, 'conveying': 1516, 'conviction': 1517, 'convince': 1518, 'convinced': 1519, 'cook': 1520, 'cooking': 1521, 'cooks': 1522, 'cool': 1523, 'coolly': 1524, 'copied': 1525, 'copies': 1526, 'coppice-wood': 1527, 'copse': 1528, 'copy': 1529, 'copying': 1530, 'copyright': 1531, 'coquetry': 1532, 'cordial': 1533, 'cordiality': 1534, 'cordially': 1535, 'corner': 1536, 'corporation': 1537, 'corps': 1538, 'correct': 1539, 'correspond': 1540, 'correspondence': 1541, 'correspondent': 1542, 'correspondents': 1543, 'corroborated': 1544, 'corroboration': 1545, 'corrupt': 1546, 'corruption': 1547, 'cost': 1548, 'costing': 1549, 'costs': 1550, 'cottagers': 1551, 'cough': 1552, 'coughing': 1553, 'coughs': 1554, 'could': 1555, 'could.--could': 1556, 'counted': 1557, 'countenance': 1558, 'counteract': 1559, 'counteracted': 1560, 'counterbalance': 1561, 'counterpart': 1562, 'counting': 1563, 'countries': 1564, 'country': 1565, 'country-town': 1566, 'county': 1567, 'couple': 1568, 'couples': 1569, 'courage': 1570, 'courier': 1571, 'course': 1572, 'courses': 1573, 'court': 1574, 'courted': 1575, 'courteous': 1576, 'courtesy': 1577, 'courtier': 1578, 'courting': 1579, 'courtship': 1580, 'cousin': 1581, \"cousin's\": 1582, 'cousins': 1583, 'cover': 1584, 'covered': 1585, 'covering': 1586, 'covies': 1587, 'cows': 1588, 'cradles': 1589, 'crammed': 1590, 'crayons': 1591, 'created': 1592, 'creating': 1593, 'creation': 1594, 'creative': 1595, 'creature': 1596, 'creatures': 1597, 'credit': 1598, 'creditable': 1599, 'creditably': 1600, 'creditors': 1601, 'cried': 1602, 'critical': 1603, 'criticise': 1604, 'criticisms': 1605, 'cross': 1606, 'crossed': 1607, 'crossing': 1608, 'crowd--but': 1609, 'crowded': 1610, 'crown': 1611, 'crowned': 1612, 'cruel': 1613, 'cruelly': 1614, 'cruelty': 1615, 'crushing': 1616, 'cry': 1617, 'crying': 1618, 'cucumber': 1619, 'culprit': 1620, 'cultivation': 1621, 'cunning': 1622, 'cup': 1623, 'cure': 1624, 'curiosities': 1625, 'curiosity': 1626, 'curious': 1627, 'current': 1628, 'curricle': 1629, 'curtailed': 1630, 'curtains': 1631, 'curtsey': 1632, 'curtseyed': 1633, 'custody': 1634, 'custom': 1635, 'cutting': 1636, 'daily': 1637, 'dale': 1638, 'damage': 1639, 'damaged': 1640, 'damages': 1641, 'damp': 1642, 'dance': 1643, 'danced': 1644, 'dances': 1645, 'dancing': 1646, 'danger': 1647, 'dangerous': 1648, 'darcy': 1649, 'darcy!--and': 1650, \"darcy's\": 1651, 'darcy--that': 1652, 'darcy:--but': 1653, 'dare': 1654, 'dared': 1655, 'daring': 1656, 'dark': 1657, 'darling': 1658, 'darting': 1659, 'data': 1660, 'date': 1661, 'dated': 1662, 'daughter': 1663, \"daughter's\": 1664, 'daughters': 1665, \"daughters'\": 1666, 'dawdled': 1667, 'dawson': 1668, 'day': 1669, \"day's\": 1670, 'day.--i': 1671, 'days': 1672, 'dazzling': 1673, 'de': 1674, 'dead': 1675, 'deaden': 1676, 'deal': 1677, 'dear': 1678, 'dear!--yes--certainly': 1679, 'dearest': 1680, 'dearly': 1681, 'death': 1682, 'debt': 1683, 'debts': 1684, 'decamping': 1685, 'decease': 1686, 'deceitful': 1687, 'deceive': 1688, 'deceived': 1689, 'deceives': 1690, 'deceiving': 1691, 'decency': 1692, 'decent': 1693, 'deception': 1694, 'decide': 1695, 'decided': 1696, 'decidedly': 1697, 'deciding': 1698, 'decisions': 1699, 'decisive': 1700, 'decked': 1701, 'declaration': 1702, 'declare': 1703, 'declared': 1704, 'declares': 1705, 'declaring': 1706, 'decline': 1707, 'declined': 1708, 'decorum': 1709, 'decorums': 1710, 'deduced': 1711, 'deductible': 1712, 'deemed': 1713, 'deep': 1714, 'deeper': 1715, 'deepest': 1716, 'deeply': 1717, 'deeply-rooted': 1718, 'default': 1719, 'defect': 1720, 'defection': 1721, 'defective': 1722, 'defects': 1723, 'defence': 1724, 'defend': 1725, 'defended': 1726, 'defense': 1727, 'defer': 1728, 'deference': 1729, 'deferred': 1730, 'defiance': 1731, 'deficiency': 1732, 'deficient': 1733, 'defied': 1734, 'defined': 1735, 'definition': 1736, 'defy': 1737, 'degenerate': 1738, 'degradation--of': 1739, 'degree': 1740, 'degrees': 1741, 'deigned': 1742, 'dejection': 1743, 'delay': 1744, 'delayed': 1745, 'deletions': 1746, 'deliberately': 1747, 'deliberation': 1748, 'delicacy': 1749, 'delicate': 1750, 'delicious': 1751, 'delight': 1752, 'delighted': 1753, 'delightful': 1754, 'delightfully': 1755, 'delighting': 1756, 'delights': 1757, 'delivered': 1758, 'delivering': 1759, 'demand': 1760, 'demanding': 1761, 'demands': 1762, 'demean': 1763, 'denial': 1764, 'denied': 1765, 'denny': 1766, 'denominated': 1767, 'denoted': 1768, 'deny': 1769, 'denying': 1770, 'depart': 1771, 'departed': 1772, 'departure': 1773, 'depend': 1774, 'depended': 1775, 'dependence': 1776, 'dependent': 1777, 'depending': 1778, 'depends': 1779, 'deportment': 1780, 'depravity': 1781, 'depreciate': 1782, 'depressed': 1783, 'deprive': 1784, 'deprived': 1785, 'deranged': 1786, 'derbyshire': 1787, 'derision': 1788, 'derivative': 1789, 'derive': 1790, 'derived': 1791, 'derives': 1792, 'descended': 1793, 'descending': 1794, 'descent': 1795, 'describe': 1796, 'described': 1797, 'describing': 1798, 'description': 1799, 'desert': 1800, 'deserted': 1801, 'desertion': 1802, 'deserts': 1803, 'deserve': 1804, 'deserved': 1805, 'deservedly': 1806, 'deserves': 1807, 'deserving': 1808, 'design': 1809, 'design--to': 1810, 'designed': 1811, 'designedly': 1812, 'designing': 1813, 'designs': 1814, 'desirable': 1815, 'desire': 1816, 'desire,--splendid': 1817, 'desired': 1818, 'desiring': 1819, 'desirous': 1820, 'despair': 1821, 'despaired': 1822, 'desperate': 1823, 'desperation': 1824, 'despicable': 1825, 'despicably': 1826, 'despise': 1827, 'despised': 1828, 'despises': 1829, 'despising': 1830, 'despite': 1831, 'desponding': 1832, 'destined': 1833, 'destitute': 1834, 'destroy': 1835, 'destroyed': 1836, 'destructive': 1837, 'detach': 1838, 'detached': 1839, 'detaching': 1840, 'detail': 1841, 'detailed': 1842, 'detain': 1843, 'detained': 1844, 'detaining': 1845, 'detect': 1846, 'detected': 1847, 'detection': 1848, 'deter': 1849, 'determination': 1850, 'determine': 1851, 'determined': 1852, 'determining': 1853, 'detest': 1854, 'detestable': 1855, 'detested': 1856, 'develop': 1857, 'development': 1858, 'device': 1859, 'devoid': 1860, 'devote': 1861, 'devoted': 1862, 'devoting': 1863, 'dialogue': 1864, 'dictate': 1865, 'dictated': 1866, 'dictates': 1867, 'dictating': 1868, 'dictatorial': 1869, 'did': 1870, 'did--and': 1871, 'did_--i': 1872, 'die': 1873, 'died': 1874, 'differ': 1875, 'difference': 1876, 'differences': 1877, 'different': 1878, 'differently': 1879, 'difficult': 1880, 'difficulty': 1881, 'diffidence': 1882, 'diffident': 1883, 'diffuse': 1884, 'diffused': 1885, 'diffuseness': 1886, 'dignified': 1887, 'dignity': 1888, 'digressions': 1889, 'dilatory': 1890, 'diligence': 1891, 'dimensions': 1892, 'diminution': 1893, 'dine': 1894, 'dined': 1895, 'dines': 1896, 'dining': 1897, 'dining-parlour': 1898, 'dining-room': 1899, 'dinner': 1900, 'dinner-time': 1901, 'dinners': 1902, 'direct': 1903, 'directed': 1904, 'directing': 1905, 'direction': 1906, 'directions': 1907, 'directly': 1908, 'director': 1909, 'dirt': 1910, 'dirty': 1911, 'disadvantage': 1912, 'disadvantages': 1913, 'disagreeable': 1914, 'disagreeably': 1915, 'disagreement': 1916, 'disappoint': 1917, 'disappointed': 1918, 'disappointing': 1919, 'disappointment': 1920, 'disappointments': 1921, 'disapprobation': 1922, 'disapprove': 1923, 'disarm': 1924, 'disbelieving': 1925, 'discern': 1926, 'discernible': 1927, 'discerning': 1928, 'discernment': 1929, 'discharge': 1930, 'discharged': 1931, 'discharging': 1932, 'disclaim': 1933, 'disclaimed': 1934, 'disclaimer': 1935, 'disclaimers': 1936, 'disclose': 1937, 'disclosed': 1938, 'disclosure': 1939, 'discompose': 1940, 'discomposed': 1941, 'discomposure': 1942, 'disconcerted': 1943, 'discontented': 1944, 'discontentedness': 1945, 'discontinuance': 1946, 'discontinue': 1947, 'discourage': 1948, 'discouraged': 1949, 'discourse': 1950, 'discourses': 1951, 'discover': 1952, 'discovered': 1953, 'discovering': 1954, 'discovery': 1955, 'discredit': 1956, 'discreditable': 1957, 'discretion': 1958, 'discrimination': 1959, 'discuss': 1960, 'discussed': 1961, 'discussion': 1962, 'disdain': 1963, 'disdained': 1964, 'disengaged': 1965, 'disgrace': 1966, 'disgrace--when': 1967, 'disgraced': 1968, 'disgraceful': 1969, 'disgracing': 1970, 'disguise': 1971, 'disgust': 1972, 'disgusted': 1973, 'disgusting': 1974, 'dish': 1975, 'disheartened': 1976, 'dishes': 1977, 'dishonest--for': 1978, 'dishonesty': 1979, 'dishonorable': 1980, 'dishonourable': 1981, 'disinclination': 1982, 'disinclined': 1983, 'disinterested': 1984, 'disinterestedness': 1985, 'disk': 1986, 'dislike': 1987, 'disliked': 1988, 'dislikes': 1989, 'disliking': 1990, 'dismay': 1991, 'dismissed': 1992, 'dismission': 1993, 'disobliging': 1994, 'dispatched': 1995, 'dispelling': 1996, 'dispense': 1997, 'dispirited': 1998, 'display': 1999, 'displayed': 2000, 'displaying': 2001, 'displease': 2002, 'displeased': 2003, 'displeasure': 2004, 'disposal': 2005, 'dispose': 2006, 'disposed': 2007, 'disposing': 2008, 'disposition': 2009, 'dispositions': 2010, 'disputable': 2011, 'dispute': 2012, 'disputes': 2013, 'disquiet': 2014, 'disregarded': 2015, 'disrespect': 2016, 'disrespectful': 2017, 'dissatisfied': 2018, 'dissemble': 2019, 'disservice': 2020, 'dissipation': 2021, 'dissolved': 2022, 'dissuade': 2023, 'dissuaded': 2024, 'distance': 2025, 'distant': 2026, 'distinction': 2027, 'distinguish': 2028, 'distinguished': 2029, 'distinguishing': 2030, 'distracted': 2031, 'distractedly': 2032, 'distraction': 2033, 'distress': 2034, 'distressed': 2035, 'distressing': 2036, 'distribute': 2037, 'distributed': 2038, 'distributing': 2039, 'distribution': 2040, 'distributor': 2041, 'distrust': 2042, 'distrusted': 2043, 'disturb': 2044, 'disturbance': 2045, 'disturbed': 2046, 'disturbers': 2047, 'diversified': 2048, 'diversion': 2049, 'divert': 2050, 'diverted': 2051, 'divide': 2052, 'divided': 2053, 'dividing': 2054, 'do': 2055, 'does': 2056, 'doing': 2057, 'doings': 2058, 'doleful': 2059, 'domain': 2060, 'domestic': 2061, 'domestics': 2062, \"don't\": 2063, 'donate': 2064, 'donation': 2065, 'donations': 2066, 'done': 2067, 'done--done': 2068, 'done--i': 2069, 'donors': 2070, 'door': 2071, 'door-bell': 2072, 'doors': 2073, 'doorway': 2074, 'dose': 2075, 'double': 2076, 'doubled': 2077, 'doubly': 2078, 'doubt': 2079, 'doubted': 2080, 'doubtful': 2081, 'doubting': 2082, 'doubtingly': 2083, 'doubtless': 2084, 'doubts': 2085, 'dove': 2086, 'dovedale': 2087, 'down': 2088, 'downloading': 2089, 'downstairs': 2090, 'dozen': 2091, 'dr': 2092, 'draughts': 2093, 'draw': 2094, 'drawing': 2095, 'drawing-room': 2096, 'drawing-rooms': 2097, 'drawings': 2098, 'drawn': 2099, 'dread': 2100, 'dreaded': 2101, 'dreadful': 2102, 'dreadfully': 2103, 'dreading': 2104, 'dress': 2105, 'dressed': 2106, 'dresses': 2107, 'dressing': 2108, 'dressing-room': 2109, 'drew': 2110, 'drily': 2111, 'drink': 2112, 'drinking': 2113, 'drive': 2114, 'driven': 2115, 'driving': 2116, 'drooping': 2117, 'drop': 2118, 'dropped': 2119, 'dropt': 2120, 'drove': 2121, 'duchess': 2122, 'ducks': 2123, 'ductility': 2124, 'due': 2125, 'duel': 2126, 'duets': 2127, 'dull': 2128, 'dullest': 2129, 'dullness': 2130, 'dupe': 2131, 'duped': 2132, 'duplicity': 2133, 'duration': 2134, 'during': 2135, 'duties': 2136, 'dutifully': 2137, 'duty': 2138, 'dwell': 2139, 'dwelling': 2140, 'dwelt': 2141, 'dying': 2142, 'e': 2143, 'e-mail)': 2144, 'each': 2145, 'eager': 2146, 'eagerly': 2147, 'eagerness': 2148, 'ear': 2149, 'earl': 2150, \"earl's\": 2151, 'earlier': 2152, 'earliest': 2153, 'early': 2154, 'earnest': 2155, 'earnestly': 2156, 'earnestness': 2157, 'earth!--of': 2158, 'earthly': 2159, 'ease': 2160, 'easily': 2161, 'easiness': 2162, 'eastbourne': 2163, 'easter': 2164, 'easter-day': 2165, 'easy': 2166, 'eat': 2167, 'eating': 2168, 'ebook': 2169, 'ebooks': 2170, 'eccentric': 2171, 'echo': 2172, 'eclat': 2173, 'eclipsed': 2174, 'economically': 2175, 'economy': 2176, 'ecstasy': 2177, 'edge': 2178, 'edged': 2179, 'edition': 2180, 'editions': 2181, 'educated': 2182, 'education': 2183, 'educational': 2184, 'edw': 2185, 'edward-street': 2186, 'effect': 2187, 'effects': 2188, 'effectual': 2189, 'effectually': 2190, 'efficacy': 2191, 'effort': 2192, 'efforts': 2193, 'effusion': 2194, 'effusions': 2195, 'eight': 2196, 'ein': 2197, 'either': 2198, 'elapsed': 2199, 'elated': 2200, 'elder': 2201, 'elderly': 2202, 'eldest': 2203, 'elect': 2204, 'electronic': 2205, 'electronically': 2206, 'elegance': 2207, 'elegant': 2208, 'elevate': 2209, 'elevated': 2210, 'elevating': 2211, 'elevation': 2212, 'eleven': 2213, 'eligibility': 2214, 'eligible': 2215, 'eliza': 2216, 'eliza!--to': 2217, 'elizabeth': 2218, \"elizabeth's\": 2219, 'elizabeth--and': 2220, 'elizabeth--“there': 2221, 'elope': 2222, 'eloped': 2223, 'elopement': 2224, 'eloping': 2225, 'eloquence': 2226, 'eloquent': 2227, 'else': 2228, 'elsewhere': 2229, 'eluded': 2230, 'email': 2231, 'embargo': 2232, 'embarrassed': 2233, 'embarrassment': 2234, 'embraced': 2235, 'embracing': 2236, 'emergence': 2237, 'eminence': 2238, 'eminent': 2239, 'emotion': 2240, 'emotions': 2241, 'emphasis': 2242, 'emphatic': 2243, 'emphatically': 2244, 'employ': 2245, 'employed': 2246, 'employee': 2247, 'employees': 2248, 'employing': 2249, 'employment': 2250, 'employments': 2251, 'emptiness': 2252, 'empty-headed': 2253, 'enable': 2254, 'enabled': 2255, 'enabling': 2256, 'encamped': 2257, 'encoding': 2258, 'encounter': 2259, 'encourage': 2260, 'encouraged': 2261, 'encouragement': 2262, 'encouraging': 2263, 'encroaching': 2264, 'encumbrance': 2265, 'end': 2266, 'endeared': 2267, 'endeavour': 2268, 'endeavoured': 2269, 'endeavouring': 2270, 'endeavours': 2271, 'ended': 2272, 'endless': 2273, 'endurable': 2274, 'endure': 2275, 'endured': 2276, 'enduring': 2277, 'enemies': 2278, 'enemy': 2279, 'energetic': 2280, 'energy': 2281, 'energy.--though': 2282, 'enforced': 2283, 'engage': 2284, 'engaged': 2285, 'engagement': 2286, 'engagements': 2287, 'engaging': 2288, 'england': 2289, 'english': 2290, 'engross': 2291, 'engrossed': 2292, 'engrossing': 2293, 'enhance': 2294, 'enjoy': 2295, 'enjoying': 2296, 'enjoyment': 2297, 'enjoyments': 2298, 'enlarging': 2299, 'enormity': 2300, 'enough': 2301, 'enough--i': 2302, 'enough--one': 2303, 'enraged': 2304, 'ensign': 2305, 'ensigncy': 2306, 'ensue': 2307, 'ensued': 2308, 'ensuing': 2309, 'ensure': 2310, 'ensuring': 2311, 'entail': 2312, 'entail?--we': 2313, 'entailed': 2314, 'entailing': 2315, 'enter': 2316, 'entered': 2317, 'entering': 2318, 'entertain': 2319, 'entertained': 2320, 'entertainment': 2321, 'entirely': 2322, 'entitled': 2323, 'entity': 2324, 'entrance': 2325, 'entrance-hall': 2326, 'entreat': 2327, 'entreated': 2328, 'entreaties': 2329, 'entreating': 2330, 'entreaty': 2331, 'enumerating': 2332, 'enumeration': 2333, 'envelope': 2334, 'envied': 2335, 'environs': 2336, 'envy': 2337, 'envying': 2338, 'epithet': 2339, 'epsom': 2340, 'equal': 2341, 'equalled': 2342, 'equally': 2343, 'equals': 2344, 'equipage': 2345, 'equipment': 2346, 'equivalent': 2347, 'equivocal': 2348, 'ere': 2349, 'err': 2350, 'errand': 2351, 'error': 2352, 'errors': 2353, 'escape': 2354, 'escaped': 2355, 'escaping': 2356, 'especially': 2357, 'esq': 2358, 'essence': 2359, 'essential': 2360, 'essentials': 2361, 'establish': 2362, 'established': 2363, 'establishment': 2364, 'estate': 2365, 'estates': 2366, 'esteem': 2367, 'esteemed': 2368, 'estimable': 2369, 'estimated': 2370, 'estimation': 2371, 'etc': 2372, 'etiquette': 2373, 'evade': 2374, 'even': 2375, 'evening': 2376, \"evening's\": 2377, 'evenings': 2378, 'evenness': 2379, 'event': 2380, 'events': 2381, 'ever': 2382, 'every': 2383, 'everybody': 2384, \"everybody's\": 2385, 'everybody--would': 2386, 'everyone': 2387, \"everyone's\": 2388, 'everything': 2389, 'everywhere': 2390, 'evident': 2391, 'evidently': 2392, 'evil': 2393, 'evil--a': 2394, 'evils': 2395, 'exact': 2396, 'exactly': 2397, 'exaggerate': 2398, 'exaggeration': 2399, 'examination': 2400, 'examine': 2401, 'examined': 2402, 'examining': 2403, 'example': 2404, 'exasperate': 2405, 'exceed': 2406, 'exceeded': 2407, 'exceeding': 2408, 'exceedingly': 2409, 'excel': 2410, 'excellence': 2411, 'excellency': 2412, 'excellent': 2413, 'except': 2414, 'excepting': 2415, 'exception': 2416, 'exceptional': 2417, 'excess': 2418, 'excessive': 2419, 'excessively': 2420, 'exchanged': 2421, 'excite': 2422, 'excited': 2423, 'exciting': 2424, 'exclaim': 2425, 'exclaimed': 2426, 'exclaiming': 2427, 'exclamation': 2428, 'exclamations': 2429, 'exclude': 2430, 'exclusion': 2431, 'excuse': 2432, 'excused': 2433, 'excuses': 2434, 'executed': 2435, 'execution': 2436, 'executive': 2437, 'executors': 2438, 'exempt': 2439, 'exercise': 2440, 'exercising': 2441, 'exert': 2442, 'exerted': 2443, 'exerting': 2444, 'exertion': 2445, 'exhausted': 2446, 'exhibit': 2447, 'exhibiting': 2448, 'exhibition': 2449, 'exigence': 2450, 'exist': 2451, 'existed': 2452, 'existence': 2453, 'existing': 2454, 'exists': 2455, 'expect': 2456, 'expectation': 2457, 'expectations': 2458, 'expected': 2459, 'expecting': 2460, 'expects': 2461, 'expedient': 2462, 'expedite': 2463, 'expeditiously': 2464, 'expence': 2465, 'expences': 2466, 'expend': 2467, 'expense': 2468, 'expenses': 2469, 'experience': 2470, 'experienced': 2471, 'explain': 2472, 'explained': 2473, 'explaining': 2474, 'explanation': 2475, 'explanations': 2476, 'explanatory': 2477, 'explicit': 2478, 'explicitly': 2479, 'explore': 2480, 'exporting': 2481, 'expose': 2482, 'exposed': 2483, 'exposing': 2484, 'expostulation': 2485, 'exposure': 2486, 'express': 2487, 'expressed': 2488, 'expressing': 2489, 'expression': 2490, 'expressions': 2491, 'expressive': 2492, 'expressively': 2493, 'expressly': 2494, 'exquisite': 2495, 'extended': 2496, 'extensive': 2497, 'extent': 2498, 'extenuating': 2499, 'extinguished': 2500, 'extort': 2501, 'extorted': 2502, 'extractions': 2503, 'extracts': 2504, 'extraordinary': 2505, 'extravagance': 2506, 'extravagant': 2507, 'extreme': 2508, 'extremely': 2509, 'exuberance': 2510, 'exuberant': 2511, 'exultation': 2512, 'eye': 2513, \"eye.'\": 2514, 'eyeing': 2515, 'eyelashes': 2516, 'eyes': 2517, 'f': 2518, 'f3': 2519, 'face': 2520, 'faces': 2521, 'facility': 2522, 'fact': 2523, 'facts': 2524, 'faculties': 2525, 'fail': 2526, 'failed': 2527, 'failing': 2528, 'failure': 2529, 'faint': 2530, 'fainter': 2531, 'faintly': 2532, 'fair': 2533, 'fairbanks': 2534, 'fairest': 2535, 'fairly': 2536, 'faithful': 2537, 'faithfully': 2538, 'fall': 2539, 'fallen': 2540, 'falling': 2541, 'falls': 2542, 'false': 2543, 'falsehood': 2544, 'falsehood!”--and': 2545, 'falsely': 2546, 'fame': 2547, 'familiar': 2548, 'familiarity': 2549, 'familiarly': 2550, 'families': 2551, 'family': 2552, 'fancied': 2553, 'fancy': 2554, 'fancying': 2555, 'far': 2556, 'fare': 2557, 'farewell': 2558, 'farm': 2559, 'farmhouse': 2560, 'farther': 2561, 'farthing': 2562, 'fashion': 2563, 'fashionable': 2564, 'fashions': 2565, 'fast': 2566, 'fastened': 2567, 'fastidious': 2568, 'fat': 2569, 'fate': 2570, 'father': 2571, \"father's\": 2572, 'fatigue': 2573, 'fatigued': 2574, 'fault': 2575, 'fault--because': 2576, 'faultless': 2577, 'faults': 2578, 'faulty': 2579, 'favour': 2580, 'favourable': 2581, 'favourably': 2582, 'favoured': 2583, 'favourite': 2584, \"favourite's\": 2585, 'favourite?--and': 2586, 'favourites': 2587, 'favours': 2588, 'fear': 2589, 'fear--not': 2590, 'feared': 2591, 'fearful': 2592, 'fearing': 2593, 'fearless': 2594, 'fears': 2595, 'feather': 2596, 'feathers': 2597, 'feature': 2598, 'features': 2599, 'february': 2600, 'federal': 2601, 'fee': 2602, 'feel': 2603, 'feeling': 2604, 'feelingly': 2605, 'feelings': 2606, 'feels': 2607, 'fees': 2608, 'feet': 2609, 'felicitations': 2610, 'felicity': 2611, 'felicity--to': 2612, 'fell': 2613, 'fellow': 2614, \"fellow's\": 2615, 'fellow-creatures': 2616, 'fellow-travellers': 2617, 'fellows': 2618, 'felt': 2619, 'female': 2620, 'females': 2621, 'fender': 2622, 'fervent': 2623, 'fervently': 2624, 'fetch': 2625, 'fetched': 2626, 'feverish': 2627, 'few': 2628, 'fewer': 2629, 'fidget': 2630, 'fidgets': 2631, 'fidgety': 2632, 'field': 2633, 'fields': 2634, 'fifteen': 2635, 'fifth': 2636, 'fifty': 2637, 'fight': 2638, 'fighting': 2639, 'figure': 2640, 'figures': 2641, 'file': 2642, 'files': 2643, 'filial': 2644, 'fill': 2645, 'filled': 2646, 'filling': 2647, 'final': 2648, 'finally': 2649, 'finances': 2650, 'financial': 2651, 'find': 2652, 'finding': 2653, 'finds': 2654, 'fine': 2655, 'fine-looking': 2656, 'finer': 2657, 'finery': 2658, 'finest': 2659, 'fingering': 2660, 'fingers': 2661, 'finish': 2662, 'finished': 2663, 'finishing': 2664, 'fire': 2665, 'fireplace': 2666, 'firm': 2667, 'firmest': 2668, 'firmly': 2669, 'firmness': 2670, 'first': 2671, 'fish': 2672, 'fishing': 2673, 'fit': 2674, 'fitness': 2675, 'fitted': 2676, 'fitzwilliam': 2677, \"fitzwilliam's\": 2678, 'five': 2679, 'five-and-twenty': 2680, 'fix': 2681, 'fixed': 2682, 'fixing': 2683, 'flaming': 2684, 'flat': 2685, 'flatter': 2686, 'flattered': 2687, 'flattering': 2688, 'flew': 2689, 'flight': 2690, 'flirt': 2691, 'flirtation': 2692, 'flirting': 2693, 'flogged': 2694, 'flow': 2695, 'flowed': 2696, 'flowing': 2697, 'fluctuating': 2698, 'fluently': 2699, 'flutter': 2700, 'fluttered': 2701, 'flutterings': 2702, 'flying': 2703, 'folded': 2704, 'folios': 2705, 'follies': 2706, 'follow': 2707, 'followed': 2708, 'following': 2709, 'follows': 2710, 'folly': 2711, 'fond': 2712, 'fonder': 2713, 'food': 2714, 'fool': 2715, \"fool's\": 2716, 'foolish': 2717, 'foot': 2718, 'footing': 2719, 'footman': 2720, 'footstool': 2721, 'for': 2722, 'forbade': 2723, 'forbearance': 2724, 'forbearing': 2725, 'forbid': 2726, 'forbidding': 2727, 'forbore': 2728, 'force': 2729, 'forced': 2730, 'forcibly': 2731, 'forcing': 2732, \"fordyce's\": 2733, 'forego': 2734, 'foresaw': 2735, 'foresee': 2736, 'foreseen': 2737, 'foretold': 2738, 'forever': 2739, 'forfeit': 2740, 'forfeited': 2741, 'forgave': 2742, 'forget': 2743, 'forgetfulness': 2744, 'forgets': 2745, 'forgetting': 2746, 'forgive': 2747, 'forgiven': 2748, 'forgiveness': 2749, 'forgiving': 2750, 'forgot': 2751, 'forgotten': 2752, 'forlorn': 2753, 'form': 2754, 'formal': 2755, 'formality': 2756, 'format': 2757, 'formation': 2758, 'formats': 2759, 'formed': 2760, 'former': 2761, 'formerly': 2762, 'formidable': 2763, 'forming': 2764, 'forms': 2765, 'forster': 2766, \"forster's\": 2767, 'forsters': 2768, 'forth': 2769, 'fortitude': 2770, 'fortnight': 2771, \"fortnight's\": 2772, 'fortunate': 2773, 'fortunately': 2774, 'fortune': 2775, 'fortunes': 2776, 'forty': 2777, 'forward': 2778, 'forwarded': 2779, 'forwarder': 2780, 'forwarding': 2781, 'forwards': 2782, 'foul': 2783, 'found': 2784, 'foundation': 2785, \"foundation's\": 2786, 'foundations': 2787, 'founded': 2788, 'four': 2789, 'four-and-twenty': 2790, 'fourth': 2791, 'fourthly': 2792, 'foxhounds': 2793, 'frailty': 2794, 'frame': 2795, 'frankly': 2796, 'frankness': 2797, 'freckled': 2798, 'free': 2799, 'freedom': 2800, 'freely': 2801, 'freely--a': 2802, 'french': 2803, 'frequent': 2804, 'frequently': 2805, 'fresh': 2806, 'fresher': 2807, 'fret': 2808, 'fretfully': 2809, 'fretfulness': 2810, 'friday': 2811, 'friend': 2812, 'friend!--always': 2813, \"friend's\": 2814, 'friendless': 2815, 'friendlier': 2816, 'friendly': 2817, 'friends': 2818, 'friends!)': 2819, \"friends'\": 2820, 'friends--has': 2821, 'friends--whether': 2822, 'friendship': 2823, 'frighted': 2824, 'frighten': 2825, 'frightened': 2826, 'frisks': 2827, 'frivolous': 2828, 'from': 2829, 'front': 2830, 'fronted': 2831, 'frost': 2832, 'fruit--of': 2833, 'fruits': 2834, 'fugitives': 2835, 'fulfil': 2836, 'full': 2837, 'fullest': 2838, 'fully': 2839, 'fun': 2840, 'furnish': 2841, 'furnished': 2842, 'furniture': 2843, 'further': 2844, 'fuss': 2845, 'future': 2846, 'gaieties': 2847, 'gaiety': 2848, 'gaily': 2849, 'gain': 2850, 'gained': 2851, 'gaining': 2852, 'gallant': 2853, 'gallantry': 2854, 'gallery': 2855, 'game': 2856, 'gamester': 2857, 'gaming': 2858, 'gaped': 2859, 'garden': 2860, 'gardener': 2861, \"gardener's\": 2862, 'gardiner': 2863, \"gardiner's\": 2864, 'gardiners': 2865, 'gate': 2866, 'gates': 2867, 'gathered': 2868, 'gathering': 2869, 'gaudy': 2870, 'gave': 2871, 'gay': 2872, 'gayer': 2873, 'gaze': 2874, 'gbnewby@pglaf.org': 2875, 'general': 2876, 'generality': 2877, 'generally': 2878, 'generation': 2879, 'generations': 2880, 'generous': 2881, 'generous-hearted': 2882, 'generously': 2883, 'genius': 2884, 'genteel': 2885, 'gentle': 2886, 'gentleman': 2887, \"gentleman's\": 2888, 'gentlemanlike': 2889, 'gentlemen': 2890, \"gentlemen's\": 2891, 'gentleness': 2892, 'gentlest': 2893, 'gentlewoman': 2894, 'genuine': 2895, 'george': 2896, 'georgiana': 2897, \"georgiana's\": 2898, 'get': 2899, 'gets': 2900, 'getting': 2901, 'giddiness': 2902, 'gift': 2903, 'gig': 2904, 'girl': 2905, 'girl--oh': 2906, 'girls': 2907, 'give': 2908, 'given': 2909, 'gives': 2910, 'giving': 2911, 'glad': 2912, 'gladly': 2913, 'glance': 2914, 'glancing': 2915, 'glass': 2916, 'glazing': 2917, 'glen': 2918, 'glimpse': 2919, 'gloom': 2920, 'gloomy': 2921, 'gloried': 2922, 'glories': 2923, 'glory': 2924, 'glove': 2925, 'glow': 2926, 'glowing': 2927, 'go': 2928, 'go--and': 2929, 'go--saying': 2930, 'goals': 2931, 'god': 2932, \"god's\": 2933, 'godfather': 2934, 'godson': 2935, 'goes': 2936, 'going': 2937, 'gone': 2938, 'gone--we': 2939, 'good': 2940, 'good-bye': 2941, 'good-humoured': 2942, 'good-looking': 2943, 'good-natured': 2944, 'good-naturedly': 2945, 'good-tempered': 2946, 'good-will': 2947, 'goodness': 2948, 'goodwill': 2949, 'gossiping': 2950, 'got': 2951, 'goulding': 2952, 'gouldings': 2953, 'govern': 2954, 'governed': 2955, 'governess': 2956, 'gown': 2957, 'gowns': 2958, 'grace': 2959, 'gracechurch': 2960, 'graceful': 2961, 'gracefully': 2962, 'graces': 2963, 'gracious': 2964, 'graciously': 2965, 'graciousness': 2966, 'gradual': 2967, 'gradually': 2968, 'grain': 2969, 'grand': 2970, 'grandeur': 2971, \"grandfather's\": 2972, 'granted': 2973, \"grantley's\": 2974, 'grapes': 2975, 'grasp': 2976, 'grateful': 2977, 'gratefully': 2978, 'gratification': 2979, 'gratified': 2980, 'gratify': 2981, 'gratifying': 2982, 'gratitude': 2983, 'gratitude--for': 2984, 'grave': 2985, 'gravel': 2986, 'gravely': 2987, 'gravely--“but': 2988, 'gravity': 2989, 'great': 2990, 'great-uncle': 2991, 'greater': 2992, 'greater--what': 2993, 'greatest': 2994, 'greatly': 2995, 'greatness': 2996, 'green': 2997, 'gregory': 2998, 'gretna': 2999, 'grew': 3000, 'grief': 3001, 'griefs': 3002, 'grievances': 3003, 'grieve': 3004, 'grieved': 3005, 'grieved--shocked': 3006, 'grieving': 3007, 'grievous': 3008, 'grievously': 3009, 'gross': 3010, 'grossest': 3011, 'grosvenor': 3012, 'ground': 3013, 'grounds': 3014, 'groundwork': 3015, 'group': 3016, 'grouped': 3017, 'grove': 3018, 'grow': 3019, 'growing': 3020, 'grown': 3021, 'grown-up': 3022, 'growth': 3023, 'guard': 3024, 'guarded': 3025, 'guardian': 3026, 'guardians': 3027, 'guardianship': 3028, 'guardianship!--how': 3029, 'guess': 3030, 'guessed': 3031, 'guest': 3032, 'guests': 3033, 'guidance': 3034, 'guide': 3035, 'guided': 3036, 'guiding': 3037, 'guilt': 3038, 'guilty': 3039, 'guinea': 3040, 'gulf': 3041, 'gutenberg': 3042, 'gutenberg-tm': 3043, \"gutenberg-tm's\": 3044, 'gutenberg”)': 3045, 'habit': 3046, 'habits': 3047, 'habitual': 3048, 'hack': 3049, 'hackney': 3050, 'hackneyed': 3051, 'had': 3052, 'had--not': 3053, 'haggerston': 3054, 'hair': 3055, 'half': 3056, 'half-a-dozen': 3057, 'half-a-mile': 3058, 'half-an-hour': 3059, 'half-an-hour--was': 3060, 'half-deserved': 3061, 'half-expectation': 3062, 'half-finished': 3063, 'half-hour': 3064, \"half-hour's\": 3065, 'half-hours': 3066, 'half-laughing': 3067, 'half-opened': 3068, 'half-past': 3069, 'half-whisper': 3070, 'half-year': 3071, 'hall': 3072, 'hall-door': 3073, 'ham': 3074, 'hand': 3075, 'handed': 3076, 'handkerchief': 3077, 'hands': 3078, 'handsome': 3079, 'handsomely': 3080, 'handsomer': 3081, 'handsomest': 3082, 'handwriting': 3083, 'hang': 3084, 'hanging': 3085, 'happen': 3086, 'happened': 3087, 'happening': 3088, 'happens': 3089, 'happier': 3090, 'happiest': 3091, 'happily': 3092, 'happiness': 3093, 'happy': 3094, 'happy--i': 3095, 'happy--your': 3096, 'harboured': 3097, 'hard': 3098, 'hard-heartedness': 3099, 'hardened': 3100, 'hardest': 3101, 'hardly': 3102, 'hardship': 3103, 'hardships': 3104, 'harm': 3105, 'harmless': 3106, 'harmony': 3107, 'harp': 3108, 'harriet': 3109, 'harringtons': 3110, 'harshly': 3111, 'hart': 3112, 'has': 3113, 'haste': 3114, 'hasten': 3115, 'hastened': 3116, 'hastening': 3117, 'hastily': 3118, 'hasty': 3119, 'hat': 3120, 'hat--a': 3121, 'hate': 3122, 'hated': 3123, 'hatefully': 3124, 'hates': 3125, 'hatfield': 3126, 'hating': 3127, 'hatred': 3128, 'haughty': 3129, 'haunch': 3130, 'haunt': 3131, 'hauteur': 3132, 'have': 3133, 'having': 3134, 'haye': 3135, 'hazarded': 3136, 'he': 3137, 'he?--poor': 3138, 'head': 3139, 'headache': 3140, 'headquarters': 3141, 'heads': 3142, 'headstrong': 3143, 'heal': 3144, 'health': 3145, 'healthful': 3146, 'healthfulness': 3147, 'healthy': 3148, 'hear': 3149, 'heard': 3150, 'hearers': 3151, 'hearing': 3152, \"hearing.'\": 3153, 'hears': 3154, 'heart': 3155, 'heartening': 3156, 'heartfelt': 3157, 'hearth': 3158, 'heartily': 3159, 'hearty': 3160, 'heaven': 3161, \"heaven's\": 3162, 'heavens': 3163, 'heavier': 3164, 'heavy': 3165, 'heavy-looking': 3166, 'hedge': 3167, 'heedless': 3168, 'height': 3169, 'heighten': 3170, 'heightened': 3171, 'heinous': 3172, 'heiress': 3173, 'heirs': 3174, 'held': 3175, 'help': 3176, 'hence': 3177, 'henceforth': 3178, 'her': 3179, 'her--a': 3180, 'her--and': 3181, 'her--for': 3182, 'her--indeed': 3183, 'her--that': 3184, 'her--their': 3185, 'her--was': 3186, 'her--who': 3187, \"her.'\": 3188, 'here': 3189, \"here's\": 3190, 'hereabouts': 3191, 'hereafter': 3192, 'heretofore': 3193, 'hermitage': 3194, 'hers': 3195, 'herself': 3196, 'herself--sense': 3197, 'herself--some': 3198, 'herself--“that': 3199, 'hertfordshire': 3200, 'hertfordshire--and': 3201, 'hertfordshire--paid': 3202, 'hesitate': 3203, 'hesitated': 3204, 'hesitating': 3205, 'hesitation': 3206, 'hide': 3207, 'high': 3208, 'higher': 3209, 'highest': 3210, 'highflown': 3211, 'highly': 3212, 'hill': 3213, 'hills': 3214, 'him': 3215, 'him--as': 3216, 'him--just': 3217, 'him--laugh': 3218, 'himself': 3219, 'himself--from': 3220, 'himself--her': 3221, 'hint': 3222, 'hinted': 3223, 'hints': 3224, 'hire': 3225, 'hired': 3226, 'his': 3227, 'histories': 3228, 'history': 3229, 'hither': 3230, 'hitherto': 3231, 'hold': 3232, 'holder': 3233, 'holder)': 3234, 'holding': 3235, 'home': 3236, 'home--to': 3237, 'honest': 3238, 'honestly': 3239, 'honour': 3240, 'honourable': 3241, 'honoured': 3242, 'honours': 3243, 'hope': 3244, 'hoped': 3245, 'hopeless': 3246, 'hopes': 3247, 'hoping': 3248, 'horrible': 3249, 'horrid': 3250, 'horror': 3251, 'horse': 3252, 'horseback': 3253, 'horses': 3254, 'horsewoman': 3255, 'hospitality': 3256, 'hot': 3257, 'hot-pressed': 3258, 'hotel': 3259, 'hotels': 3260, 'hour': 3261, \"hour's\": 3262, 'hours': 3263, 'house': 3264, 'house--but': 3265, 'household': 3266, 'housekeeper': 3267, \"housekeeper's\": 3268, 'housekeeping': 3269, 'housemaid': 3270, 'housemaids': 3271, 'houses': 3272, 'how': 3273, 'however': 3274, 'howsoever': 3275, 'http://gutenberg.org/license)': 3276, 'http://pglaf.org': 3277, 'http://pglaf.org/donate': 3278, 'http://pglaf.org/fundraising': 3279, 'http://www.gutenberg.org': 3280, 'http://www.gutenberg.org/1/3/4/1342/': 3281, 'http://www.pglaf.org': 3282, 'hug': 3283, 'human': 3284, 'humanity': 3285, 'humble': 3286, 'humbled': 3287, 'humbling': 3288, 'humiliating': 3289, 'humiliation': 3290, 'humility': 3291, 'humour': 3292, 'humoured': 3293, 'hundred': 3294, 'hundreds': 3295, 'hunsford': 3296, 'hunsford--between': 3297, 'hunting': 3298, 'hurried': 3299, 'hurry': 3300, 'hurrying': 3301, 'hurst': 3302, \"hurst's\": 3303, 'hursts': 3304, 'hurt': 3305, 'hurts': 3306, 'husband': 3307, \"husband's\": 3308, 'husbands': 3309, 'hushed': 3310, 'hypertext': 3311, 'hypocrisy': 3312, 'hypocritical': 3313, 'hysterics': 3314, 'i': 3315, \"i'm\": 3316, 'idea': 3317, 'ideas': 3318, 'identification': 3319, 'identify': 3320, 'idle': 3321, 'idleness': 3322, 'if': 3323, 'if--but': 3324, 'ignorance': 3325, 'ignorant': 3326, 'ill': 3327, 'ill-breeding': 3328, 'ill-consequences': 3329, 'ill-founded': 3330, 'ill-humour': 3331, 'ill-judged': 3332, 'ill-judging': 3333, 'ill-nature': 3334, 'ill-natured': 3335, 'ill-qualified': 3336, 'ill-success': 3337, 'ill-tempered': 3338, 'ill-treatment': 3339, 'ill-usage': 3340, 'ill-used': 3341, 'ill-will': 3342, 'illiberal': 3343, 'illiterate': 3344, 'illness': 3345, 'illness--if': 3346, 'illustration': 3347, 'illustrious': 3348, 'imaginable': 3349, 'imaginary': 3350, 'imagination': 3351, 'imaginations': 3352, 'imagine': 3353, 'imagined': 3354, 'imitate': 3355, 'imitated': 3356, 'imitation': 3357, 'imitations': 3358, 'immediate': 3359, 'immediately': 3360, 'immoral': 3361, 'immovable': 3362, 'imparted': 3363, 'impartial': 3364, 'impartiality--deliberated': 3365, 'impassable': 3366, 'impatience': 3367, 'impatient': 3368, 'impatiently': 3369, 'impelled': 3370, 'impenetrably': 3371, 'imperfection': 3372, 'imperfectly': 3373, 'impertinence': 3374, 'impertinent': 3375, 'imperturbably': 3376, 'impetuous': 3377, 'implacability': 3378, 'implacable': 3379, 'implicit': 3380, 'implicitness': 3381, 'implied': 3382, 'implies': 3383, 'imply': 3384, 'impolitic': 3385, 'importance': 3386, 'important': 3387, 'importing': 3388, 'importune': 3389, 'importuned': 3390, 'impose': 3391, 'imposed': 3392, 'imposing': 3393, 'impossible': 3394, 'impressed': 3395, 'impressing': 3396, 'impression': 3397, 'impressive': 3398, 'improbable': 3399, 'improper': 3400, 'improprieties': 3401, 'impropriety': 3402, 'improve': 3403, 'improved': 3404, 'improvement': 3405, 'improvements': 3406, 'improves': 3407, 'imprudence': 3408, 'imprudence--in': 3409, 'imprudent': 3410, 'impudence': 3411, 'impudent': 3412, 'impulse': 3413, 'impulses': 3414, 'impunity': 3415, 'impurities': 3416, 'impute': 3417, 'imputed': 3418, 'imputing': 3419, 'in': 3420, 'in--and': 3421, 'inaccurate': 3422, 'inadequate': 3423, 'inattention': 3424, 'inattentive': 3425, 'incapable': 3426, 'incautiously': 3427, 'incensed': 3428, 'incessant': 3429, 'incessantly': 3430, 'inches': 3431, 'incidental': 3432, 'incivility': 3433, 'inclination': 3434, 'inclinations': 3435, 'inclined': 3436, 'include': 3437, 'included': 3438, 'includes': 3439, 'including': 3440, 'income': 3441, 'incomplete': 3442, 'incomprehensible': 3443, 'inconceivable': 3444, 'inconsiderable': 3445, 'inconsistencies': 3446, 'inconsistency': 3447, 'inconvenience': 3448, 'inconveniences': 3449, 'inconveniences--cheerfulness': 3450, 'inconvenient': 3451, 'increase': 3452, 'increased': 3453, 'increases': 3454, 'increasing': 3455, 'incredible': 3456, 'incredulity': 3457, 'incredulous': 3458, 'incumbent': 3459, 'incur': 3460, 'incurred': 3461, 'indebted': 3462, 'indecision': 3463, 'indecorum': 3464, 'indeed': 3465, 'indeed--it': 3466, 'indeed--that': 3467, 'indefinite': 3468, 'indelicacy': 3469, 'indelicate': 3470, 'indemnify': 3471, 'indemnity': 3472, 'independence': 3473, 'independent': 3474, 'indicate': 3475, 'indicated': 3476, 'indicating': 3477, 'indifference': 3478, 'indifferent': 3479, 'indifferent--but': 3480, 'indignant': 3481, 'indignation': 3482, 'indignity': 3483, 'indirect': 3484, 'indirectly': 3485, 'indiscreet': 3486, 'indispensably': 3487, 'indisposed': 3488, 'indistinctly': 3489, 'individual': 3490, 'individually': 3491, 'indolence': 3492, 'indolent': 3493, 'induce': 3494, 'induced': 3495, 'inducement': 3496, 'inducements': 3497, 'indulge': 3498, 'indulged': 3499, 'indulgence': 3500, 'indulgent': 3501, 'indulging': 3502, 'industriously': 3503, 'ineffectual': 3504, 'inevitable': 3505, 'inevitably': 3506, 'inexhaustible': 3507, 'inexpressible': 3508, 'inexpressibly': 3509, 'infamous': 3510, 'infamy': 3511, 'infancy': 3512, 'infatuation': 3513, 'inferences': 3514, 'inferior': 3515, 'inferiority': 3516, 'inferiority--of': 3517, 'infinite': 3518, 'infinitely': 3519, 'inflexibly': 3520, 'inflict': 3521, 'inflicted': 3522, 'infliction': 3523, 'influence': 3524, 'influenced': 3525, 'influencing': 3526, 'inform': 3527, 'informality': 3528, 'information': 3529, 'informed': 3530, 'informing': 3531, 'informs': 3532, 'infringement': 3533, 'ingenious': 3534, 'ingenuity': 3535, 'ingratitude': 3536, 'inhabitants': 3537, 'inherit': 3538, 'inherited': 3539, 'inheriting': 3540, 'inhumanity': 3541, 'iniquitous': 3542, 'injunction--and': 3543, 'injunctions': 3544, 'injure': 3545, 'injured': 3546, 'injuries': 3547, 'injuring': 3548, 'injurious': 3549, 'injury': 3550, 'injustice': 3551, 'inmate': 3552, 'inmates': 3553, 'inn': 3554, 'innocence': 3555, 'innocent': 3556, 'innocently': 3557, 'inns': 3558, 'inoffensive': 3559, 'inquire': 3560, 'inquired': 3561, 'inquiries': 3562, 'inquiring': 3563, 'inquiry': 3564, 'insensibility': 3565, 'insensible': 3566, 'insignificance': 3567, 'insignificant': 3568, 'insincere': 3569, 'insinuating': 3570, 'insipid': 3571, 'insipidity': 3572, 'insist': 3573, 'insisted': 3574, 'insists': 3575, 'insolence': 3576, 'insolent': 3577, 'inspection': 3578, 'inspire': 3579, 'inspired': 3580, 'inspires': 3581, 'inspiring': 3582, 'instability': 3583, 'instance': 3584, 'instances': 3585, 'instant': 3586, 'instantaneous': 3587, 'instantly': 3588, 'instead': 3589, 'instinctively': 3590, 'instituted': 3591, 'instruct': 3592, 'instructed': 3593, 'instructing': 3594, 'instruction': 3595, 'instructions': 3596, 'instrument': 3597, 'insufferable': 3598, 'insufferably': 3599, 'insufficient': 3600, 'insulted': 3601, 'insulting': 3602, 'insupportable': 3603, 'integrity': 3604, 'intellectual': 3605, 'intelligence': 3606, 'intelligence--elizabeth': 3607, 'intelligent': 3608, 'intelligible': 3609, 'intend': 3610, 'intended': 3611, 'intending': 3612, 'intention': 3613, 'intentionally': 3614, 'intentions': 3615, 'intently': 3616, 'intercourse': 3617, 'interest': 3618, 'interested': 3619, 'interesting': 3620, 'interfere': 3621, 'interference': 3622, 'interference--it': 3623, 'interfering': 3624, 'intermarriage': 3625, 'intermediate': 3626, 'intermission': 3627, 'internal': 3628, 'international': 3629, 'interpose': 3630, 'interpretation': 3631, 'interpreted': 3632, 'interrupt': 3633, 'interrupted': 3634, 'interrupting': 3635, 'interruption': 3636, 'interruptions': 3637, 'interval': 3638, 'intervals': 3639, 'intervene': 3640, 'interview': 3641, 'intimacy': 3642, 'intimate': 3643, 'intimately': 3644, 'intimates': 3645, 'intimation': 3646, 'intimidate': 3647, 'intimidated': 3648, 'into': 3649, 'intolerable': 3650, 'intrepidity': 3651, 'intricate': 3652, 'intrigues': 3653, 'introduce': 3654, 'introduced': 3655, 'introducing': 3656, 'introduction': 3657, 'intrude': 3658, 'intruder': 3659, 'intruding': 3660, 'intrusion': 3661, 'inured': 3662, 'invalid': 3663, 'invalidity': 3664, 'invaluable': 3665, 'invariable': 3666, 'invariably': 3667, 'invectives': 3668, 'invent': 3669, 'inventing': 3670, 'invention': 3671, 'investigation': 3672, 'invitation': 3673, 'invitations': 3674, 'invite': 3675, 'invited': 3676, 'inviting': 3677, 'involuntarily': 3678, 'involuntary': 3679, 'involve': 3680, 'involved': 3681, 'involves': 3682, 'involving': 3683, 'irish': 3684, 'irksome': 3685, 'irregularity': 3686, 'irreligious': 3687, 'irremediable': 3688, 'irreproachable': 3689, 'irretrievable': 3690, 'irrevocably': 3691, 'irritable': 3692, 'irritated': 3693, 'irritation': 3694, 'irs': 3695, 'is': 3696, 'is!--her': 3697, 'it': 3698, 'it)': 3699, 'it--but': 3700, 'it--nothing': 3701, 'it--of': 3702, 'it--or': 3703, 'it--unless': 3704, 'it;--till': 3705, 'italian': 3706, 'its': 3707, 'itself': 3708, \"james's\": 3709, 'jane': 3710, \"jane's\": 3711, 'jane--from': 3712, 'jane--his': 3713, 'jane--one': 3714, 'jane--which': 3715, 'january': 3716, 'jealous': 3717, 'jealousy': 3718, 'jenkinson': 3719, \"jenkinson's\": 3720, 'jestingly': 3721, 'jewel': 3722, 'jewels': 3723, 'jilt': 3724, 'john': 3725, 'join': 3726, 'joined': 3727, 'joining': 3728, 'joints': 3729, 'joke': 3730, 'jokes': 3731, 'joking': 3732, 'jones': 3733, \"jones's\": 3734, 'jones--therefore': 3735, 'jot': 3736, 'journey': 3737, 'journeys--and': 3738, 'joy': 3739, 'joyful': 3740, 'joyfully': 3741, 'judge': 3742, 'judged': 3743, 'judgement': 3744, 'judging': 3745, 'judgment': 3746, 'july': 3747, 'jumbled': 3748, 'jumped': 3749, 'jumping': 3750, 'jumps': 3751, 'june': 3752, 'junior': 3753, 'just': 3754, 'justice': 3755, 'justification': 3756, 'justified': 3757, 'justify': 3758, 'justifying': 3759, 'justly': 3760, 'keener': 3761, 'keenest': 3762, 'keep': 3763, 'keeping': 3764, 'keeps': 3765, 'kenilworth': 3766, 'kent': 3767, 'kept': 3768, 'kill': 3769, 'killed': 3770, 'kind': 3771, 'kinder': 3772, 'kindest': 3773, 'kindly': 3774, 'kindly!)': 3775, 'kindness': 3776, 'kindred': 3777, 'kinds': 3778, 'king': 3779, 'kingdom': 3780, 'kingdom--provided': 3781, 'kiss': 3782, 'kissed': 3783, 'kitchen': 3784, 'kitty': 3785, \"kitty's\": 3786, 'knees': 3787, 'knew': 3788, 'knighthood': 3789, 'know': 3790, 'knowing': 3791, 'knowledge': 3792, 'known': 3793, 'knows': 3794, 'kympton': 3795, 'la': 3796, 'labour': 3797, 'lace': 3798, 'laconic': 3799, 'lad': 3800, 'ladies': 3801, 'lady': 3802, \"lady's\": 3803, 'ladyship': 3804, \"ladyship's\": 3805, 'lagged': 3806, 'laid': 3807, 'laity': 3808, 'lake': 3809, 'lakes': 3810, 'lambton': 3811, 'lament': 3812, 'lamentations': 3813, 'lamented': 3814, 'lamenting': 3815, \"land.'\": 3816, 'landing': 3817, 'landlord': 3818, 'lane': 3819, 'lanes': 3820, 'language': 3821, 'languages': 3822, 'languor': 3823, 'larder': 3824, 'large': 3825, 'larger': 3826, 'largest': 3827, 'last': 3828, 'last-born': 3829, \"last.'\": 3830, 'lasted': 3831, 'lasting': 3832, 'lastly': 3833, 'late': 3834, 'lately': 3835, 'later': 3836, 'latest': 3837, 'latter': 3838, 'latterly': 3839, 'laudable': 3840, 'laugh': 3841, 'laughed': 3842, 'laughing': 3843, 'laughingly': 3844, 'laughter': 3845, 'laurel': 3846, 'law': 3847, 'lawfully': 3848, 'lawn': 3849, 'laws': 3850, 'lay': 3851, 'laying': 3852, 'lead': 3853, 'leading': 3854, 'leads': 3855, 'leaning': 3856, 'learn': 3857, 'learned': 3858, 'learning': 3859, 'learnt': 3860, 'learnt--for': 3861, 'lease': 3862, 'least': 3863, 'leave': 3864, 'leave--but': 3865, 'leave-taking': 3866, 'leaves': 3867, 'leaving': 3868, 'led': 3869, 'left': 3870, 'legacy': 3871, 'legal': 3872, 'legally': 3873, 'leisure': 3874, 'leisurely': 3875, 'lend': 3876, 'length': 3877, 'less': 3878, 'lessen': 3879, 'lessened': 3880, 'lessening': 3881, 'lesson': 3882, 'lest': 3883, 'let': 3884, 'letter': 3885, 'letter-paper': 3886, 'letters': 3887, 'letting': 3888, 'levelled': 3889, 'lewis': 3890, 'liability': 3891, 'liable': 3892, 'liberal': 3893, 'liberal-minded': 3894, 'liberality': 3895, 'liberally': 3896, 'liberties': 3897, 'liberty': 3898, 'liberty--which': 3899, 'library': 3900, 'library)': 3901, 'licence': 3902, 'license': 3903, 'licensed': 3904, 'licentiousness': 3905, 'lie': 3906, 'lies': 3907, 'lieu': 3908, \"lieutenant's\": 3909, 'life': 3910, 'lifetime': 3911, 'lift': 3912, 'lifted': 3913, 'light': 3914, 'lighted': 3915, 'lightness': 3916, 'like': 3917, 'liked': 3918, 'liked--and': 3919, 'likelihood': 3920, 'likely': 3921, 'likeness': 3922, 'likes': 3923, 'likewise': 3924, 'liking': 3925, 'limitation': 3926, 'limited': 3927, 'limits': 3928, 'line': 3929, 'lines': 3930, 'lingering': 3931, 'linked': 3932, 'links': 3933, 'lips': 3934, 'list': 3935, 'listen': 3936, 'listened': 3937, 'listener': 3938, 'listening': 3939, 'literary': 3940, 'little': 3941, 'live': 3942, 'lived': 3943, 'lived--and': 3944, 'liveliest': 3945, 'liveliness': 3946, 'lively': 3947, 'liverpool': 3948, 'livery': 3949, 'lives': 3950, 'living': 3951, 'livings': 3952, 'lizzy': 3953, \"lizzy's\": 3954, 'lizzy--if': 3955, 'lobby': 3956, 'local': 3957, 'located': 3958, 'locations': 3959, 'lock': 3960, 'lodge': 3961, 'lodges': 3962, 'lodgings': 3963, 'lofty': 3964, 'london': 3965, 'london--his': 3966, 'long': 3967, 'long-expected': 3968, 'longbourn': 3969, 'longed': 3970, 'longer': 3971, 'longer)': 3972, 'longing': 3973, 'loo': 3974, 'loo-table': 3975, 'look': 3976, 'looked': 3977, 'looked,--she': 3978, 'looking': 3979, 'looks': 3980, 'loose': 3981, 'lord': 3982, 'lose': 3983, 'loser': 3984, 'losing': 3985, 'loss': 3986, 'losses': 3987, 'lost': 3988, 'lot': 3989, 'lottery': 3990, 'loud': 3991, 'louder': 3992, 'loudly': 3993, 'louisa': 3994, 'love': 3995, \"love'\": 3996, 'love-making': 3997, 'loved': 3998, 'loveliest': 3999, 'loveliness': 4000, 'lovely': 4001, 'lover': 4002, 'lovers': 4003, 'loves': 4004, 'loving': 4005, 'low': 4006, 'lower': 4007, 'lowest': 4008, 'lowness': 4009, 'lucas': 4010, \"lucas's\": 4011, 'lucas)': 4012, 'lucases': 4013, \"lucases'\": 4014, 'luck': 4015, 'luckiest': 4016, 'luckily': 4017, 'luckless': 4018, 'lucky': 4019, 'luncheon': 4020, 'lurking': 4021, 'lustre': 4022, 'lydia': 4023, \"lydia's\": 4024, 'lydia--the': 4025, 'lydia--what': 4026, 'lying': 4027, 'm': 4028, \"ma'am\": 4029, \"ma'am?--is\": 4030, 'machine': 4031, 'madam': 4032, 'made': 4033, 'magistrate': 4034, 'magnitude': 4035, 'maid': 4036, 'maiden': 4037, 'main': 4038, 'maintain': 4039, 'maintained': 4040, 'maintaining': 4041, 'make': 4042, 'makes': 4043, 'making': 4044, 'male': 4045, 'malice': 4046, 'malicious': 4047, 'mamma': 4048, 'man': 4049, 'man!--so': 4050, \"man's\": 4051, 'man--and': 4052, 'man--he': 4053, 'man-servant': 4054, 'manage': 4055, 'managed': 4056, 'management': 4057, 'manager': 4058, 'manifold': 4059, 'mankind': 4060, 'manner': 4061, 'manner--in': 4062, 'manner--nay': 4063, \"manner.'\": 4064, 'manners': 4065, 'manners!--so': 4066, 'manners--my': 4067, 'manoeuvre': 4068, 'manor': 4069, 'mansion': 4070, 'mantelpiece': 4071, 'many': 4072, 'march': 4073, 'maria': 4074, \"maria's\": 4075, 'mark': 4076, 'marked': 4077, 'market': 4078, 'market-town': 4079, 'marks': 4080, 'marriage': 4081, 'married': 4082, 'marry': 4083, 'marrying': 4084, 'marrying--and': 4085, 'mary': 4086, \"mary's\": 4087, 'master': 4088, \"master's\": 4089, 'master--and': 4090, 'masterly': 4091, 'masters': 4092, 'match': 4093, 'material': 4094, 'materially': 4095, 'maternal': 4096, 'matlock': 4097, 'matrimonial': 4098, 'matrimony': 4099, 'matter': 4100, 'matter--to': 4101, 'matters': 4102, 'mature': 4103, 'maximum': 4104, 'may': 4105, 'mayoralty': 4106, 'me': 4107, 'me--a': 4108, 'me--and': 4109, 'me--but': 4110, 'me--i': 4111, 'me--such': 4112, 'me.--yours': 4113, 'me;--though': 4114, 'me_--i': 4115, 'me_--it': 4116, 'meadows': 4117, 'mean': 4118, 'meanest': 4119, 'meaning': 4120, 'meaning?”--and': 4121, 'meanly': 4122, 'meanness': 4123, 'means': 4124, 'means--that': 4125, 'meant': 4126, 'meantime': 4127, 'meanwhile': 4128, 'measure': 4129, 'measures': 4130, 'meat': 4131, 'mechanically': 4132, 'mediocrity': 4133, 'meditate': 4134, 'meditated': 4135, 'meditating': 4136, 'meditation': 4137, 'meditations': 4138, 'medium': 4139, 'meet': 4140, 'meeting': 4141, 'meetings': 4142, 'meets': 4143, 'melan': 4144, 'melancholy': 4145, 'member': 4146, 'memories': 4147, 'memory': 4148, 'men': 4149, 'men--nay': 4150, 'men-servants': 4151, 'mend': 4152, 'mention': 4153, 'mention--she': 4154, 'mentioned': 4155, 'mentioning': 4156, 'mercenary': 4157, 'merchantibility': 4158, 'mere': 4159, 'merely': 4160, 'merit': 4161, 'merited': 4162, 'merits': 4163, 'merry': 4164, 'meryton': 4165, 'mess': 4166, 'message': 4167, 'messages': 4168, 'met': 4169, \"metcalf's\": 4170, 'method': 4171, 'methods': 4172, 'michael': 4173, 'michaelmas': 4174, 'middle': 4175, 'middle-aged': 4176, 'mien': 4177, 'might': 4178, 'mild': 4179, 'mildly': 4180, 'mildness': 4181, 'mile': 4182, 'miles': 4183, 'military': 4184, 'militia': 4185, \"miller's\": 4186, 'milliner': 4187, \"milliner's\": 4188, 'mince-pies': 4189, 'mind': 4190, 'mind--in': 4191, 'mindful': 4192, 'minds': 4193, 'mine': 4194, 'mingled': 4195, 'mingling': 4196, 'miniatures': 4197, 'minute': 4198, 'minutely': 4199, 'minuteness': 4200, 'minutes': 4201, \"minutes'\": 4202, 'minutest': 4203, 'miraculous': 4204, 'mirth': 4205, 'mischance': 4206, 'mischief': 4207, 'mischievously': 4208, 'misconduct': 4209, 'miserable': 4210, 'miserably': 4211, 'miseries': 4212, 'miserly': 4213, 'misery': 4214, 'misfortune': 4215, 'misfortune--or': 4216, 'misfortunes': 4217, 'mislead': 4218, 'misleading': 4219, 'misleads': 4220, 'misled': 4221, 'mismanagement': 4222, 'misrepresentation': 4223, 'misrepresented': 4224, 'miss': 4225, 'missed': 4226, 'missent': 4227, 'missing': 4228, 'mission': 4229, 'missish': 4230, 'mississippi': 4231, 'mistake': 4232, 'mistaken': 4233, 'mistaken--or': 4234, 'mistakes': 4235, 'mistakes--but': 4236, 'mistook': 4237, 'mistress': 4238, 'mistrust': 4239, 'misunderstand': 4240, 'misunderstood': 4241, 'misused': 4242, 'mix': 4243, 'mixed': 4244, 'mixing': 4245, 'mixture': 4246, 'mode': 4247, 'model': 4248, 'moderate': 4249, 'moderation': 4250, 'modern': 4251, 'modest': 4252, 'modesty': 4253, 'modification': 4254, 'modified': 4255, 'moment': 4256, \"moment's\": 4257, 'momentary': 4258, 'moments': 4259, \"moments'\": 4260, 'monday': 4261, 'money': 4262, 'monosyllable': 4263, 'monotonous': 4264, 'month': 4265, \"month's\": 4266, 'monthly': 4267, 'months': 4268, \"months'\": 4269, 'moral': 4270, 'morality': 4271, 'moralize': 4272, 'more': 4273, 'more--but': 4274, 'moreover': 4275, 'morning': 4276, \"morning's\": 4277, 'mornings': 4278, 'morris': 4279, 'morrow': 4280, 'mortal': 4281, 'mortification': 4282, 'mortifications': 4283, 'mortified': 4284, 'mortifies': 4285, 'mortifying': 4286, 'most': 4287, 'mostly': 4288, 'mother': 4289, \"mother's\": 4290, 'mother--how': 4291, 'mother-in-law': 4292, 'mother.--yours': 4293, 'motion': 4294, 'motive': 4295, 'motives': 4296, 'mount': 4297, 'mountains': 4298, 'mounting': 4299, 'mouth': 4300, 'mouths': 4301, 'move': 4302, 'moved': 4303, 'moving': 4304, 'mr': 4305, 'mrs': 4306, 'much': 4307, 'much--not': 4308, 'mud': 4309, 'muffin': 4310, 'multitude': 4311, 'murmurs': 4312, 'music': 4313, 'music-books': 4314, 'musical': 4315, 'muslin': 4316, 'muslins': 4317, 'must': 4318, 'mutual': 4319, 'mutually': 4320, 'my': 4321, 'myself': 4322, 'myself)': 4323, 'myself--for': 4324, 'mystery': 4325, 'name': 4326, 'named': 4327, 'names': 4328, 'naming': 4329, 'narrative': 4330, 'narrow': 4331, 'narrow-minded': 4332, 'narrowest': 4333, 'narrowly': 4334, 'nasty': 4335, 'natural': 4336, 'naturally': 4337, 'nature': 4338, 'natured': 4339, 'nay': 4340, 'near': 4341, 'nearer': 4342, 'nearest': 4343, 'nearly': 4344, 'nearness': 4345, 'neat': 4346, 'neatness': 4347, 'necessarily': 4348, 'necessary': 4349, 'necessity': 4350, 'nectarines': 4351, 'need': 4352, 'needed': 4353, 'needless': 4354, 'needlessly': 4355, 'needlework': 4356, 'negative': 4357, 'negatived': 4358, 'neglect': 4359, 'neglected': 4360, 'neglecting': 4361, 'negligence': 4362, 'negligent': 4363, 'neices': 4364, 'neighbour': 4365, 'neighbourhood': 4366, 'neighbourhoods': 4367, 'neighbouring': 4368, 'neighbours': 4369, \"neighbours'\": 4370, 'neither': 4371, 'nephew': 4372, \"nephew's\": 4373, 'nephews': 4374, 'nerves': 4375, 'nervous': 4376, 'net': 4377, 'netherfield': 4378, 'netting': 4379, 'nettled': 4380, 'network': 4381, 'never': 4382, 'new': 4383, 'newby': 4384, 'newcastle': 4385, 'newcomers': 4386, 'newest': 4387, 'newly-born': 4388, 'news': 4389, 'news)': 4390, 'news--and': 4391, 'news--capital': 4392, 'news--what': 4393, 'newsletter': 4394, 'newspaper': 4395, 'next': 4396, 'next--and': 4397, 'nice': 4398, 'nicely': 4399, 'nicest': 4400, 'nicholls': 4401, 'niece': 4402, \"niece's\": 4403, 'nieces': 4404, 'night': 4405, 'nightcap': 4406, 'nine': 4407, 'no': 4408, 'no,”--recollecting': 4409, 'no--i': 4410, 'no--it': 4411, 'no--this': 4412, 'no--why': 4413, 'noble': 4414, 'nobler': 4415, 'noblest': 4416, 'nobody': 4417, \"nobody's\": 4418, 'nods': 4419, 'noise': 4420, 'noise--the': 4421, 'noisy': 4422, 'nominally': 4423, 'non': 4424, 'none': 4425, 'nonproprietary': 4426, 'nonsense': 4427, 'nonsensical': 4428, 'noon': 4429, 'nor': 4430, 'north': 4431, 'northern': 4432, 'northward': 4433, 'northwards': 4434, 'nose': 4435, 'not': 4436, 'not--at': 4437, 'not--i': 4438, 'note': 4439, 'notes': 4440, 'nothing': 4441, 'nothingness': 4442, 'nothings': 4443, 'notice': 4444, 'noticed': 4445, 'noticing': 4446, 'notifies': 4447, 'notion': 4448, 'notions': 4449, 'nourishes': 4450, 'novels': 4451, 'novelty': 4452, 'november': 4453, 'now': 4454, 'nowadays': 4455, 'nowhere': 4456, 'number': 4457, 'numerous': 4458, 'nuptials': 4459, 'nursing': 4460, \"o'clock\": 4461, 'oakham': 4462, 'oaks': 4463, 'obeisance': 4464, 'obey': 4465, 'obeyed': 4466, 'object': 4467, 'objected': 4468, 'objecting': 4469, 'objection': 4470, 'objectionable': 4471, 'objections': 4472, 'objects': 4473, 'obligation': 4474, 'obligations': 4475, 'oblige': 4476, 'obliged': 4477, 'obliging': 4478, 'obligingly': 4479, 'obsequious': 4480, 'obsequiousness': 4481, 'observances': 4482, 'observation': 4483, 'observations': 4484, 'observe': 4485, 'observed': 4486, 'observer': 4487, 'observing': 4488, 'obsolete': 4489, 'obstacles': 4490, 'obstinacy': 4491, 'obstinate': 4492, 'obtain': 4493, 'obtained': 4494, 'obtaining': 4495, 'obtruded': 4496, 'obvious': 4497, 'occasion': 4498, \"occasion's\": 4499, 'occasional': 4500, 'occasionally': 4501, 'occasioned': 4502, 'occasions': 4503, 'occupation': 4504, 'occupied': 4505, 'occupies': 4506, 'occupy': 4507, 'occur': 4508, 'occurred': 4509, 'occurrences': 4510, 'occurring': 4511, 'occurs': 4512, 'october': 4513, 'odd': 4514, 'oddities': 4515, 'oddity': 4516, 'oddly': 4517, 'odious': 4518, 'of': 4519, 'of--of': 4520, 'of--or': 4521, \"of.'\": 4522, 'off': 4523, 'offence': 4524, 'offend': 4525, 'offended': 4526, 'offending': 4527, 'offense': 4528, 'offenses': 4529, 'offensive': 4530, 'offer': 4531, 'offered': 4532, 'offering': 4533, 'offers': 4534, 'office': 4535, 'officer': 4536, 'officers': 4537, \"officers'\": 4538, 'officers.--yours': 4539, 'official': 4540, 'officious': 4541, 'officiousness': 4542, 'often': 4543, 'oftener': 4544, 'oh': 4545, 'old': 4546, 'older': 4547, 'olive-branch': 4548, 'omen': 4549, 'omit': 4550, 'omitted': 4551, 'on': 4552, 'once': 4553, 'one': 4554, \"one's\": 4555, 'one--the': 4556, 'one-and-twenty': 4557, 'ones': 4558, 'online': 4559, 'only': 4560, 'only--some': 4561, 'open': 4562, 'opened': 4563, 'opening': 4564, 'openly': 4565, 'openness': 4566, 'operated': 4567, 'opinion': 4568, 'opinions': 4569, 'opportunities': 4570, 'opportunity': 4571, 'oppose': 4572, 'opposed': 4573, 'opposite': 4574, 'opposition': 4575, 'oppressed': 4576, 'oppressively': 4577, 'or': 4578, 'ordained': 4579, 'order': 4580, 'ordered': 4581, 'orderly': 4582, 'orders': 4583, 'ordinary': 4584, 'ordination': 4585, 'organized': 4586, 'original': 4587, 'originally': 4588, 'originate': 4589, 'originated': 4590, 'originator': 4591, 'ornament': 4592, 'ornaments': 4593, 'ostentation': 4594, 'ostentatious': 4595, 'other': 4596, \"other's\": 4597, 'other--about': 4598, 'other--of': 4599, 'others': 4600, 'others--all': 4601, 'otherwise': 4602, 'otherwise--if': 4603, 'ought': 4604, 'our': 4605, 'ours': 4606, 'ourselves': 4607, 'out': 4608, 'out.--there': 4609, 'outdated': 4610, 'outdone': 4611, 'outlived': 4612, 'outrun': 4613, 'outside': 4614, 'outstrip': 4615, 'outstripped': 4616, 'over': 4617, 'over-rated': 4618, 'over-scrupulous': 4619, 'overbearing': 4620, 'overcame': 4621, 'overcome': 4622, 'overcoming': 4623, 'overflowing': 4624, 'overflows': 4625, 'overhear': 4626, 'overheard': 4627, 'overhearings': 4628, 'overjoyed': 4629, 'overlook': 4630, 'overlooked': 4631, 'overpower': 4632, 'overpowered': 4633, 'overpowering': 4634, 'overruled': 4635, 'overset': 4636, 'overspread': 4637, 'overspreading': 4638, 'overtaken': 4639, 'overthrow': 4640, 'overthrowing': 4641, 'overthrown': 4642, 'overtook': 4643, 'overtures': 4644, 'owe': 4645, 'owed': 4646, 'owes': 4647, 'owing': 4648, 'own': 4649, 'owned': 4650, 'owner': 4651, 'owns': 4652, 'oxford': 4653, 'p': 4654, 'pace': 4655, 'pack': 4656, 'packed': 4657, 'packing': 4658, 'paddock': 4659, 'page': 4660, 'pages': 4661, 'paid': 4662, 'pain': 4663, 'pain--to': 4664, 'painful': 4665, 'painfully': 4666, 'paining': 4667, 'pains': 4668, 'paint': 4669, 'painter': 4670, 'paintings': 4671, 'pair': 4672, 'palatable': 4673, 'pale': 4674, 'paler': 4675, 'pales': 4676, 'paling': 4677, 'palings': 4678, 'palliation': 4679, 'paltry': 4680, 'panegyric': 4681, 'pang': 4682, 'panting': 4683, 'papa': 4684, 'paper': 4685, 'papers': 4686, 'paperwork': 4687, 'parade': 4688, 'parading': 4689, 'paragraph': 4690, 'paragraphs': 4691, 'parasol': 4692, 'parcels': 4693, 'pardon': 4694, \"parent's\": 4695, 'parental': 4696, 'parents': 4697, 'parish': 4698, 'parishioners': 4699, 'park': 4700, 'parlour': 4701, 'parsonage': 4702, 'parsonage--the': 4703, 'parsonage-house': 4704, 'part': 4705, 'partake': 4706, 'parted': 4707, 'partial': 4708, 'partiality': 4709, 'participation': 4710, 'particular': 4711, 'particularly': 4712, 'particulars': 4713, 'parties': 4714, 'parting': 4715, 'partly': 4716, 'partner': 4717, 'partners': 4718, 'partridges': 4719, 'parts': 4720, 'party': 4721, 'party)': 4722, 'party--for': 4723, 'pass': 4724, 'passage': 4725, 'passages': 4726, 'passed': 4727, 'passing': 4728, 'passion': 4729, 'passions': 4730, 'past': 4731, 'patched-up': 4732, 'path': 4733, 'pathetic': 4734, 'patience': 4735, 'patient': 4736, 'patron': 4737, 'patronage': 4738, 'patroness': 4739, 'pause': 4740, 'paused': 4741, 'pauses': 4742, 'pausing': 4743, 'pavement': 4744, 'pay': 4745, 'paying': 4746, 'payment': 4747, 'payments': 4748, 'peace': 4749, 'peace-making': 4750, 'peaches': 4751, 'peak': 4752, 'peculiar': 4753, 'peculiarities': 4754, 'peculiarity': 4755, 'peculiarly': 4756, 'pecuniary': 4757, 'pedantic': 4758, 'peep': 4759, 'peevish': 4760, 'pemberley': 4761, 'pen': 4762, 'penance': 4763, 'penetration': 4764, 'penitent': 4765, 'pens': 4766, 'people': 4767, \"people's\": 4768, 'per': 4769, 'perceive': 4770, 'perceived': 4771, 'perceiving': 4772, 'perceptible': 4773, 'perfect': 4774, 'perfections': 4775, 'perfectly': 4776, 'perforce': 4777, 'perform': 4778, 'performance': 4779, 'performances': 4780, 'performed': 4781, 'performer': 4782, \"performer's\": 4783, 'performers': 4784, 'performing': 4785, 'performs': 4786, 'perhaps': 4787, 'period': 4788, 'periodic': 4789, 'periods': 4790, 'permanent': 4791, 'permission': 4792, 'permit': 4793, 'permitted': 4794, 'perpetual': 4795, 'perpetually': 4796, 'perplexity': 4797, 'perseverance': 4798, 'persevered': 4799, 'persevering': 4800, 'perseveringly': 4801, 'persist': 4802, 'persisted': 4803, 'persisting': 4804, 'persists': 4805, 'person': 4806, \"person's\": 4807, 'personage': 4808, 'personages': 4809, 'personal': 4810, 'persons': 4811, 'persuade': 4812, 'persuaded': 4813, 'persuasion': 4814, 'persuasions': 4815, 'perturbation': 4816, 'perturbed': 4817, 'perusal': 4818, 'perusing': 4819, 'perverse': 4820, 'perverseness': 4821, 'petition': 4822, 'petitioned': 4823, 'petrified': 4824, 'petticoat': 4825, 'petulance': 4826, 'pg': 4827, 'pglaf)': 4828, 'phaeton': 4829, 'philips': 4830, \"phillip's\": 4831, 'phillips': 4832, \"phillips's\": 4833, 'phillipses': 4834, 'philosopher': 4835, 'philosophic': 4836, 'philosophy': 4837, 'phrase': 4838, 'physical': 4839, 'physicians': 4840, 'pianoforte': 4841, 'picture': 4842, 'picture-gallery': 4843, 'pictured': 4844, 'pictures': 4845, 'picturesque': 4846, 'piece': 4847, 'pieces': 4848, 'pigs': 4849, 'piling': 4850, 'pin-money': 4851, 'piqued': 4852, 'piquet': 4853, 'pitched': 4854, 'pitiable': 4855, 'pitied': 4856, 'pitiful': 4857, 'pity': 4858, 'place': 4859, 'place!--excellent': 4860, 'place--which': 4861, 'placed': 4862, 'places': 4863, 'placing': 4864, 'plague': 4865, 'plain': 4866, 'plain--but': 4867, 'plainer': 4868, 'plainly': 4869, 'plan': 4870, 'planned': 4871, 'planning': 4872, 'plans': 4873, 'plantation': 4874, 'plate': 4875, 'play': 4876, 'played': 4877, 'players': 4878, 'playful': 4879, 'playfulness': 4880, 'playing': 4881, 'plays': 4882, 'plead': 4883, 'pleaded': 4884, 'pleasant': 4885, 'pleasanter': 4886, 'pleasantest': 4887, 'pleasantly': 4888, 'pleasantness': 4889, 'pleasantry': 4890, 'please': 4891, 'pleased': 4892, 'pleased--so': 4893, 'pleases': 4894, 'pleasing': 4895, 'pleasure': 4896, 'pleasure--and': 4897, 'pleasures': 4898, 'pledged': 4899, 'plentiful': 4900, 'plenty': 4901, 'pliancy': 4902, 'pocket': 4903, 'pocket-book': 4904, 'poetry': 4905, 'point': 4906, 'point--that': 4907, \"point.'\": 4908, 'pointed': 4909, 'pointedly': 4910, 'pointing': 4911, 'points': 4912, 'policy': 4913, 'polished': 4914, 'polite': 4915, 'politely': 4916, 'politeness': 4917, 'polluted': 4918, 'pollution': 4919, 'pompous': 4920, 'ponies': 4921, 'pool': 4922, 'pools': 4923, 'poor': 4924, 'poorly': 4925, 'pope': 4926, 'popular': 4927, 'popularity': 4928, \"porridge'\": 4929, 'port': 4930, 'portion': 4931, 'portrait': 4932, 'portraits': 4933, 'position': 4934, 'positions': 4935, 'positive': 4936, 'positively': 4937, 'possess': 4938, 'possessed': 4939, 'possesses': 4940, 'possessing': 4941, 'possession': 4942, 'possessor': 4943, 'possibilities': 4944, 'possibility': 4945, 'possible': 4946, 'possible--advice': 4947, 'possibly': 4948, 'post': 4949, 'posted': 4950, 'posterity': 4951, 'postilions': 4952, 'posting': 4953, 'postponed': 4954, 'postscript': 4955, 'poultry': 4956, 'pounds': 4957, 'pour': 4958, 'poured': 4959, 'pouring': 4960, 'poverty': 4961, 'poverty--comparative': 4962, 'powdering': 4963, 'power': 4964, 'powerful': 4965, 'powers': 4966, 'practically': 4967, 'practice': 4968, 'practised': 4969, 'practises': 4970, 'practising': 4971, 'praise': 4972, 'praised': 4973, 'praises': 4974, 'pratt': 4975, 'pray': 4976, 'preaching': 4977, 'preceded': 4978, 'preceding': 4979, 'precious': 4980, 'precipitance': 4981, 'precipitate': 4982, 'precisely': 4983, 'precision': 4984, 'precluding': 4985, 'predict': 4986, 'predominance': 4987, 'predominate': 4988, 'prefaced': 4989, 'prefer': 4990, 'preference': 4991, 'preferment': 4992, 'preferred': 4993, 'prejudice': 4994, 'prejudiced': 4995, 'prejudices': 4996, 'premeditated': 4997, 'premeditation': 4998, 'premises': 4999, 'preparation': 5000, 'preparations': 5001, 'prepare': 5002, 'prepare)': 5003, 'prepared': 5004, 'preparing': 5005, 'prepossessed': 5006, 'prepossession': 5007, 'presence': 5008, 'present': 5009, 'presentation': 5010, 'presented': 5011, 'presently': 5012, 'presents': 5013, 'preservation': 5014, 'preservative': 5015, 'preserve': 5016, 'preserved': 5017, 'preside': 5018, 'presided': 5019, 'press': 5020, 'pressed': 5021, 'pressing': 5022, 'pressingly': 5023, 'presume': 5024, 'presumed': 5025, 'presuming': 5026, 'presumption': 5027, 'pretence': 5028, 'pretend': 5029, 'pretended': 5030, 'pretending': 5031, 'pretense': 5032, 'pretension': 5033, 'pretensions': 5034, 'prettier': 5035, 'prettier-coloured': 5036, 'prettiest': 5037, 'pretty': 5038, 'prettyish': 5039, 'prevail': 5040, 'prevailed': 5041, 'prevailing': 5042, 'prevent': 5043, 'prevented': 5044, 'prevents': 5045, 'previous': 5046, 'previously': 5047, 'prey': 5048, 'price': 5049, 'pride': 5050, 'pride--for': 5051, 'pride--his': 5052, 'pride--where': 5053, 'prided': 5054, 'principal': 5055, 'principally': 5056, 'principle': 5057, 'principles': 5058, 'print': 5059, 'printed': 5060, 'prior': 5061, 'private': 5062, 'privately': 5063, 'privilege': 5064, 'privileged': 5065, 'prized': 5066, 'prizes': 5067, 'probabilities': 5068, 'probability': 5069, 'probable': 5070, 'probably': 5071, 'probity': 5072, 'problem': 5073, 'proceed': 5074, 'proceeded': 5075, 'proceeding': 5076, 'proceedings': 5077, 'process': 5078, 'processing': 5079, 'proclaim': 5080, 'procure': 5081, 'procured': 5082, 'procuring': 5083, 'prodigious': 5084, 'prodigiously': 5085, 'produce': 5086, 'produced': 5087, 'production': 5088, 'productive': 5089, 'profess': 5090, 'professed': 5091, 'professing': 5092, 'profession': 5093, 'profession--i': 5094, 'professions': 5095, 'professor': 5096, 'proficiency': 5097, 'proficient': 5098, 'profit': 5099, 'profits': 5100, 'profligacy': 5101, 'profligate': 5102, 'profuse': 5103, 'profusion': 5104, 'prognostics': 5105, 'progress': 5106, 'prohibited': 5107, 'prohibition': 5108, 'project': 5109, 'projected': 5110, 'prominently': 5111, 'promise': 5112, 'promised': 5113, 'promises': 5114, 'promising': 5115, 'promote': 5116, 'promoted': 5117, 'promoting': 5118, 'promotion': 5119, 'prompt': 5120, 'prompted': 5121, 'prone': 5122, 'pronounce': 5123, 'pronounced': 5124, 'pronouncing': 5125, 'proof': 5126, 'proofread': 5127, 'propensities--the': 5128, 'proper': 5129, 'properly': 5130, 'property': 5131, 'propitious': 5132, 'proportion': 5133, 'proportionate': 5134, 'proportioned': 5135, 'proportions': 5136, 'proposal': 5137, 'proposals': 5138, 'propose': 5139, 'proposed': 5140, 'proprietary': 5141, 'proprietor': 5142, 'proprietor--when': 5143, 'propriety': 5144, 'prospect': 5145, 'prospects': 5146, 'prosperity': 5147, 'prosperous': 5148, 'protect': 5149, 'protection': 5150, 'protest': 5151, 'protested': 5152, 'protesting': 5153, 'proud': 5154, 'proudest': 5155, 'proudly': 5156, 'prove': 5157, 'proved': 5158, 'proverb': 5159, 'provide': 5160, 'provided': 5161, 'providing': 5162, 'proving': 5163, 'provision': 5164, 'provisions': 5165, 'provocations': 5166, 'provoke': 5167, 'provoked': 5168, 'provoking': 5169, 'proxy': 5170, 'prudence': 5171, 'prudent': 5172, 'prudential': 5173, 'prudently': 5174, 'public': 5175, 'publicly': 5176, 'publish': 5177, 'puddles': 5178, 'puffed': 5179, 'pull': 5180, 'pulvis': 5181, 'punch': 5182, 'punctual': 5183, 'punctuality': 5184, 'punctually': 5185, 'punish': 5186, 'punishment': 5187, 'punitive': 5188, 'purchase': 5189, 'purchased': 5190, 'purchases': 5191, 'purchases--“look': 5192, 'pure': 5193, 'purport': 5194, 'purpose': 5195, 'purposely': 5196, 'purse': 5197, 'purses': 5198, 'pursue': 5199, 'pursued': 5200, 'pursuing': 5201, 'pursuit': 5202, 'pursuits': 5203, 'put': 5204, 'putting': 5205, 'puzzle': 5206, 'puzzled': 5207, 'pyramids': 5208, 'quadrille': 5209, 'qualification': 5210, 'qualifications': 5211, 'qualified': 5212, 'qualities': 5213, 'quality': 5214, 'quantity': 5215, 'quarrel': 5216, 'quarreled': 5217, 'quarreling': 5218, 'quarrelling': 5219, 'quarrelsome': 5220, 'quarter': 5221, 'quartered': 5222, 'quarters': 5223, 'querulous': 5224, 'quest': 5225, 'question': 5226, 'question--and': 5227, 'question--are': 5228, 'question--of': 5229, 'questioned': 5230, 'questions': 5231, 'questions--about': 5232, 'questions--and': 5233, 'quick': 5234, 'quickly': 5235, 'quickness': 5236, 'quiet': 5237, 'quieted': 5238, 'quieter': 5239, 'quietly': 5240, 'quit': 5241, 'quite': 5242, 'quitted': 5243, 'quitting': 5244, 'race': 5245, 'racked': 5246, 'rage': 5247, 'ragout': 5248, 'rail': 5249, 'rain': 5250, 'rained': 5251, 'raised': 5252, 'raising': 5253, 'rallied': 5254, 'ramble': 5255, 'rambled': 5256, 'ramsgate': 5257, 'ran': 5258, 'rang': 5259, 'range': 5260, 'rank': 5261, 'rank--such': 5262, 'rant': 5263, 'rapacity': 5264, 'rapid': 5265, 'rapidity': 5266, 'rapidly': 5267, 'rapture': 5268, 'raptures': 5269, 'rapturous': 5270, 'rapturously': 5271, 'rashness': 5272, 'rate': 5273, 'rated': 5274, 'rather': 5275, 'rational': 5276, 'rationally': 5277, 'rattle': 5278, 're-establish': 5279, 're-kindled': 5280, 're-read': 5281, 're-use': 5282, 'reach': 5283, 'reached': 5284, 'reaching': 5285, 'read': 5286, 'readable': 5287, 'reader': 5288, 'readily': 5289, 'readily--easily--to': 5290, 'readiness': 5291, 'reading': 5292, 'ready': 5293, 'real': 5294, 'realised': 5295, 'realities': 5296, 'really': 5297, 'reanimated': 5298, 'reap': 5299, 'reappear': 5300, 'reason': 5301, 'reasonable': 5302, 'reasonableness': 5303, 'reasonably': 5304, 'reasoning': 5305, 'reasons': 5306, 'rebuke': 5307, 'recall': 5308, 'recalled': 5309, 'recede': 5310, 'receipt': 5311, 'receive': 5312, 'received': 5313, 'receiving': 5314, 'recent': 5315, 'reception': 5316, 'recital': 5317, 'reckon': 5318, 'reckoned': 5319, 'recognized': 5320, 'recognizing': 5321, 'recollect': 5322, 'recollected': 5323, 'recollecting': 5324, 'recollection': 5325, 'recollection--it': 5326, 'recollections': 5327, 'recommenced': 5328, 'recommend': 5329, 'recommendation': 5330, 'recommendations': 5331, 'recommended': 5332, 'recommending': 5333, 'reconcile': 5334, 'reconciled': 5335, 'reconciliation': 5336, 'reconciling': 5337, 'recover': 5338, 'recovered': 5339, 'recovering': 5340, 'recovery': 5341, 'recreation': 5342, 'rectitude': 5343, 'rector': 5344, 'rectory': 5345, 'recurring': 5346, 'red': 5347, 'redistribute': 5348, 'redistributing': 5349, 'redistribution': 5350, 'redress': 5351, 'reduced': 5352, 'reel': 5353, 'reference': 5354, 'references': 5355, 'referred': 5356, 'refinements': 5357, 'reflect': 5358, 'reflected': 5359, 'reflecting': 5360, 'reflection': 5361, 'reflections': 5362, 'refrain': 5363, 'refrained': 5364, 'refreshing': 5365, 'refreshment': 5366, 'refuge': 5367, 'refund': 5368, 'refusal': 5369, 'refusals': 5370, 'refuse': 5371, 'refused': 5372, 'refusing': 5373, 'refute': 5374, 'regain': 5375, 'regained': 5376, 'regard': 5377, 'regarded': 5378, 'regarding': 5379, 'regardless': 5380, 'regiment': 5381, \"regiment's\": 5382, 'regimentals': 5383, 'registered': 5384, 'regret': 5385, 'regrets': 5386, 'regretted': 5387, 'regretting': 5388, 'regular': 5389, 'regularly': 5390, 'regulars': 5391, 'regulate': 5392, 'regulated': 5393, 'regulating': 5394, 'regulation': 5395, 'rein': 5396, 'reject': 5397, 'rejected': 5398, 'rejecting': 5399, 'rejection': 5400, 'rejoice': 5401, 'rejoiced': 5402, 'rejoicing': 5403, 'rejoined': 5404, 'relate': 5405, 'related': 5406, 'relates': 5407, 'relating': 5408, 'relation': 5409, 'relations': 5410, \"relations'\": 5411, 'relationship': 5412, 'relative': 5413, 'release': 5414, 'reliance': 5415, 'relied': 5416, 'relief': 5417, 'relieve': 5418, 'relieved': 5419, 'relinquish': 5420, 'relished': 5421, 'reluctance': 5422, 'reluctant': 5423, 'rely': 5424, 'remain': 5425, 'remainder': 5426, 'remained': 5427, 'remaining': 5428, 'remains': 5429, 'remark': 5430, 'remarkable': 5431, 'remarkably': 5432, 'remarked': 5433, 'remarks': 5434, 'remedies': 5435, 'remedy': 5436, 'remember': 5437, 'remembered': 5438, 'remembering': 5439, 'remembrance': 5440, 'remind': 5441, 'reminded': 5442, 'reminding': 5443, 'remonstrance': 5444, 'remorse': 5445, 'removal': 5446, 'remove': 5447, 'removed': 5448, 'removing': 5449, 'renamed': 5450, 'rencontre': 5451, 'render': 5452, 'rendered': 5453, 'rendering': 5454, 'renewal': 5455, 'renewed': 5456, 'renewing': 5457, 'repaid': 5458, 'repaired': 5459, 'repeat': 5460, 'repeated': 5461, 'repeatedly': 5462, 'repeating': 5463, 'repel': 5464, 'repelled': 5465, 'repent': 5466, 'repentance': 5467, 'repented': 5468, 'repetition': 5469, 'repine': 5470, 'repine;--but': 5471, 'repined': 5472, 'repining': 5473, 'repinings': 5474, 'replace': 5475, 'replacement': 5476, 'replete': 5477, 'replied': 5478, 'replies': 5479, 'reply': 5480, 'replying': 5481, 'report': 5482, 'reported': 5483, 'reporting': 5484, 'reports': 5485, 'repose': 5486, 'reprehensible': 5487, 'represent': 5488, 'representation': 5489, 'representations': 5490, 'represented': 5491, 'representing': 5492, 'repress': 5493, 'repressed': 5494, 'repressing': 5495, 'reproach': 5496, 'reproached': 5497, 'reproaches': 5498, 'reproof': 5499, 'reproofs': 5500, 'repugnance': 5501, 'repugnant': 5502, 'repulsed': 5503, 'repulsive': 5504, 'reputation': 5505, 'reputed': 5506, 'request': 5507, 'requested': 5508, 'requester': 5509, 'requesting': 5510, 'require': 5511, 'required': 5512, 'requirements': 5513, 'requiring': 5514, 'requisite': 5515, 'requited': 5516, 'rescue': 5517, 'research': 5518, 'resemblance': 5519, 'resent': 5520, 'resented': 5521, 'resentful': 5522, 'resentfully': 5523, 'resentment': 5524, 'resentments': 5525, 'reserve': 5526, 'reserved': 5527, 'reserves': 5528, 'residence': 5529, 'resides': 5530, 'residing': 5531, 'resign': 5532, 'resignation': 5533, 'resigned': 5534, 'resigning': 5535, 'resist': 5536, 'resistance': 5537, 'resisted': 5538, 'resisting': 5539, 'resolute': 5540, 'resolutely': 5541, 'resolution': 5542, 'resolve': 5543, 'resolved': 5544, 'resolved--nor': 5545, 'resolving': 5546, 'resounding': 5547, 'resource': 5548, 'respect': 5549, 'respectability': 5550, 'respectable': 5551, 'respectable-looking': 5552, 'respected': 5553, 'respectful': 5554, 'respecting': 5555, 'respective': 5556, 'respects': 5557, 'rest': 5558, 'rest--there': 5559, 'rested': 5560, 'restless': 5561, 'restoration': 5562, 'restored': 5563, 'restoring': 5564, 'restrain': 5565, 'restrained': 5566, 'restraint': 5567, 'restrictions': 5568, 'result': 5569, 'resume': 5570, 'resuming': 5571, 'retail': 5572, 'retailing': 5573, 'retain': 5574, 'retained': 5575, 'retaining': 5576, 'retains': 5577, 'retaliate': 5578, 'retired': 5579, 'retirement': 5580, 'retort': 5581, 'retreated': 5582, 'retreating': 5583, 'retrospections': 5584, 'retrospective': 5585, 'return': 5586, 'returned': 5587, 'returning': 5588, 'returns': 5589, 'revealed': 5590, 'revealing': 5591, 'revenge': 5592, 'revenging': 5593, 'revenue': 5594, 'revered': 5595, 'reverie': 5596, 'reverse': 5597, 'reverting': 5598, 'review': 5599, 'revival': 5600, 'revive': 5601, 'revived': 5602, 'revolt': 5603, 'revolted': 5604, 'revolution': 5605, 'revolving': 5606, 'rewarded': 5607, 'reynolds': 5608, 'rich': 5609, 'richard': 5610, 'richly': 5611, 'rid': 5612, 'ride': 5613, 'ridge': 5614, 'ridicule': 5615, 'ridiculing': 5616, 'ridiculous': 5617, 'riding': 5618, 'right': 5619, 'rightful': 5620, 'rightly': 5621, 'ring': 5622, 'rings': 5623, 'rise': 5624, 'risen': 5625, 'rises': 5626, 'rising': 5627, 'risk': 5628, 'rites': 5629, 'rival': 5630, 'rivals': 5631, 'river': 5632, 'rivers': 5633, 'road': 5634, 'roads': 5635, 'roasted': 5636, 'rob': 5637, 'robinson': 5638, \"robinson's\": 5639, 'rocks': 5640, 'rode': 5641, 'romantic': 5642, 'room': 5643, 'rooms': 5644, 'rose': 5645, 'rosings': 5646, 'rough': 5647, 'round': 5648, 'roused': 5649, 'route': 5650, 'royalties': 5651, 'royalty': 5652, 'rude': 5653, 'rudeness': 5654, 'ruin': 5655, 'ruined': 5656, 'ruining': 5657, 'rule': 5658, 'rules': 5659, 'run': 5660, 'running': 5661, 'runs': 5662, 'rushed': 5663, 's': 5664, 's/he': 5665, 'sacrifice': 5666, 'sacrificed': 5667, 'sad': 5668, 'sadly': 5669, 'safe': 5670, 'safely': 5671, 'safest': 5672, 'safety': 5673, 'sagacity': 5674, 'said': 5675, 'sake': 5676, 'sakes': 5677, 'salad': 5678, 'sallied': 5679, 'sally': 5680, 'saloon': 5681, 'salt': 5682, 'salutation': 5683, 'same': 5684, 'sameness': 5685, 'sanction': 5686, 'sanctioned': 5687, \"sanctioned.'\": 5688, 'sang': 5689, 'sanguine': 5690, 'sarah': 5691, 'sarcastic': 5692, 'sash': 5693, 'sat': 5694, 'satin': 5695, 'satirical': 5696, 'satisfaction': 5697, 'satisfactions': 5698, 'satisfactory': 5699, 'satisfied': 5700, 'satisfied--and': 5701, 'satisfy': 5702, 'satisfying': 5703, 'saturday': 5704, 'saucy': 5705, 'savage': 5706, 'save': 5707, 'saved': 5708, 'saving': 5709, 'savours': 5710, 'saw': 5711, 'saw--and': 5712, 'say': 5713, 'say--of': 5714, 'say--she': 5715, 'saying': 5716, 'says': 5717, 'scale': 5718, 'scampering': 5719, 'scandalous': 5720, 'scarborough': 5721, 'scarce': 5722, 'scarcely': 5723, 'scarcity': 5724, 'scarlet': 5725, 'scattered': 5726, 'scene': 5727, 'scenes': 5728, 'scenes--does': 5729, 'scheme': 5730, 'schemes': 5731, 'scheming': 5732, 'school': 5733, 'science': 5734, 'scold': 5735, 'scolded': 5736, 'scolding': 5737, 'scope': 5738, 'score': 5739, 'scores': 5740, 'scorn': 5741, 'scorned': 5742, 'scotch': 5743, 'scotland': 5744, 'scrape': 5745, 'screen': 5746, 'screens': 5747, 'scruple': 5748, 'scrupled': 5749, 'scruples': 5750, 'scrutiny': 5751, \"se'ennight\": 5752, \"se'nnight\": 5753, 'sea-bathing': 5754, 'search': 5755, 'searching': 5756, 'season': 5757, 'seasonable': 5758, 'seat': 5759, 'seated': 5760, 'seats': 5761, 'secluded': 5762, 'seclusion': 5763, 'second': 5764, 'second-hand': 5765, 'seconded': 5766, 'seconding': 5767, 'secondly': 5768, 'secrecy': 5769, 'secret': 5770, 'secretly': 5771, 'secrets': 5772, 'section': 5773, 'sections': 5774, 'secure': 5775, 'secured': 5776, 'security': 5777, 'sedate': 5778, 'sedateness': 5779, 'seduction': 5780, 'see': 5781, 'seeing': 5782, 'seek': 5783, 'seeking': 5784, 'seem': 5785, 'seemed': 5786, 'seeming': 5787, 'seems': 5788, 'seen': 5789, 'sees': 5790, 'seize': 5791, 'seized': 5792, 'seizing': 5793, 'seldom': 5794, 'selected': 5795, 'selecting': 5796, 'self': 5797, 'self-attracted': 5798, 'self-command': 5799, 'self-complacency': 5800, 'self-conceit': 5801, 'self-conquest': 5802, 'self-consequence': 5803, 'self-deception': 5804, 'self-denial': 5805, 'self-destined': 5806, 'self-gratulation': 5807, 'self-importance': 5808, 'self-imposed': 5809, 'self-reproach': 5810, 'self-sufficiency': 5811, 'self-willed': 5812, 'selfish': 5813, 'selfishness': 5814, 'sell': 5815, 'selves': 5816, 'seminaries': 5817, 'send': 5818, 'sending': 5819, 'sends': 5820, 'seniority': 5821, 'sensation': 5822, 'sensations': 5823, 'sense': 5824, 'senses': 5825, 'sensibility': 5826, 'sensible': 5827, 'sensibly': 5828, 'sent': 5829, 'sentence': 5830, 'sentences': 5831, 'sentiment': 5832, 'sentiments': 5833, 'sentinel': 5834, 'separate': 5835, 'separated': 5836, 'separately': 5837, 'separates': 5838, 'separating': 5839, 'separation': 5840, 'sept': 5841, 'september': 5842, 'sequel': 5843, 'serenity': 5844, 'serious': 5845, 'seriously': 5846, 'sermon': 5847, 'sermon-making': 5848, 'sermons': 5849, 'servant': 5850, \"servant's\": 5851, 'servants': 5852, 'serve': 5853, 'service': 5854, 'service--and': 5855, 'serviceable': 5856, 'services': 5857, 'servility': 5858, 'serving': 5859, 'set': 5860, 'set-downs': 5861, 'setting': 5862, 'settle': 5863, 'settled': 5864, 'settled--he': 5865, 'settlement': 5866, 'settlements': 5867, 'settling': 5868, 'seven': 5869, 'several': 5870, 'severe': 5871, 'severest': 5872, 'severity': 5873, 'sex': 5874, 'shade': 5875, 'shades': 5876, 'shake': 5877, 'shaken': 5878, 'shaking': 5879, 'shall': 5880, 'shame': 5881, 'shameful': 5882, 'shameless': 5883, \"shan't\": 5884, 'shape': 5885, 'share': 5886, 'shared': 5887, 'sharers': 5888, 'sharing': 5889, 'sharp': 5890, 'sharpened': 5891, 'she': 5892, 'shed': 5893, 'sheet': 5894, 'sheets': 5895, 'sheltered': 5896, 'shelves': 5897, 'shew': 5898, 'shewed': 5899, 'shield': 5900, 'shift': 5901, 'shifting': 5902, 'shillings': 5903, 'shine': 5904, 'shire': 5905, 'shock': 5906, 'shocked': 5907, 'shocking': 5908, 'shoe-roses': 5909, 'shoes': 5910, 'shook': 5911, 'shoot': 5912, 'shop': 5913, 'shop-boy': 5914, 'shopping': 5915, 'shops': 5916, 'short': 5917, 'shorten': 5918, 'shorter': 5919, 'shortly': 5920, 'shortness': 5921, 'should': 5922, 'shoulders': 5923, 'show': 5924, 'showed': 5925, 'showing': 5926, 'shown': 5927, 'shows': 5928, 'shrewish': 5929, 'shrink': 5930, 'shrubbery': 5931, 'shrug': 5932, 'shut': 5933, 'shy': 5934, 'shyness': 5935, 'sick': 5936, 'sickly': 5937, 'side': 5938, 'side-glass': 5939, 'sideboard': 5940, 'sides': 5941, 'sigh': 5942, 'sighed': 5943, 'sight': 5944, 'sign': 5945, 'signal': 5946, 'significant': 5947, 'signify': 5948, 'signs': 5949, 'silence': 5950, 'silenced': 5951, 'silent': 5952, 'silently': 5953, 'silliest': 5954, 'silly': 5955, 'similar': 5956, 'similarity': 5957, 'simpered': 5958, 'simpers': 5959, 'simple': 5960, 'simpleton': 5961, 'simply': 5962, 'since': 5963, 'sincere': 5964, 'sincerely': 5965, 'sincerity': 5966, 'sing': 5967, 'singing': 5968, 'single': 5969, 'singled': 5970, 'singling': 5971, 'sings': 5972, 'singular': 5973, 'sink': 5974, 'sinking': 5975, 'sir': 5976, 'sister': 5977, \"sister's\": 5978, 'sister-in-law': 5979, 'sisterly': 5980, 'sisters': 5981, \"sisters'\": 5982, 'sit': 5983, 'site': 5984, 'sitting': 5985, 'sitting-room': 5986, 'situated': 5987, 'situation': 5988, 'six': 5989, 'sixpence': 5990, 'sixteen': 5991, 'sixth': 5992, 'size': 5993, 'sized': 5994, 'sketch': 5995, 'skill': 5996, 'slacken': 5997, 'slave': 5998, 'sleep': 5999, 'sleeping': 6000, 'sleepless': 6001, 'sleeves': 6002, 'slept': 6003, 'slight': 6004, 'slighted': 6005, 'slightest': 6006, 'slightingly': 6007, 'slightly': 6008, 'slit': 6009, 'sloping': 6010, 'slow': 6011, 'slowly': 6012, 'slowly--and': 6013, 'sly': 6014, 'sly;--he': 6015, 'slyness': 6016, 'small': 6017, 'smallest': 6018, 'smart': 6019, 'smile': 6020, 'smiled': 6021, 'smiles': 6022, 'smiling': 6023, 'smilingly': 6024, 'smirks': 6025, 'smoothly': 6026, 'sneer': 6027, 'sneering': 6028, 'snug': 6029, 'so': 6030, 'so--but': 6031, 'social': 6032, 'societies': 6033, 'society': 6034, 'sofas': 6035, 'softened': 6036, 'softness': 6037, 'solace': 6038, 'solaced': 6039, 'soldiers': 6040, 'sole': 6041, 'solely': 6042, 'solemn': 6043, 'solemnity': 6044, 'solicit': 6045, 'solicitation': 6046, 'soliciting': 6047, 'solicitude': 6048, 'solid': 6049, 'solidity': 6050, 'solitary': 6051, 'solitude': 6052, 'some': 6053, 'somebody': 6054, 'somehow': 6055, 'someone': 6056, 'something': 6057, 'sometimes': 6058, 'somewhat': 6059, 'somewhere': 6060, 'son': 6061, 'son-in-law': 6062, 'song': 6063, 'songs': 6064, 'sonnet': 6065, 'sons': 6066, 'sons-in-law': 6067, 'soon': 6068, 'sooner': 6069, 'soothe': 6070, 'soothed': 6071, 'sore': 6072, 'sorely': 6073, 'sorrow': 6074, 'sorry': 6075, 'sort': 6076, 'sought': 6077, 'soul': 6078, 'sound': 6079, 'sounds': 6080, 'soup': 6081, 'sour': 6082, 'source': 6083, 'sources': 6084, 'south': 6085, 'space': 6086, 'spacious': 6087, 'spanish': 6088, 'spare': 6089, 'spared': 6090, 'sparkled': 6091, 'spars': 6092, 'spasms': 6093, 'speak': 6094, 'speaker': 6095, 'speaking': 6096, 'speaking)': 6097, 'speaking--stating': 6098, 'speaks': 6099, 'special': 6100, 'specific': 6101, 'specified': 6102, 'speculation': 6103, 'speech': 6104, 'speeches': 6105, 'speed': 6106, 'speediest': 6107, 'speedily': 6108, 'speedy': 6109, 'spend': 6110, 'spending': 6111, 'spent': 6112, 'sphere': 6113, 'spirit': 6114, 'spiritless': 6115, 'spirits': 6116, 'spite': 6117, 'spiteful': 6118, 'spleen': 6119, 'splendid': 6120, 'splendour': 6121, 'spoilt': 6122, 'spoke': 6123, 'spoken': 6124, 'spokesman': 6125, 'sport': 6126, 'sportive': 6127, 'sports': 6128, 'sportsmen': 6129, 'spot': 6130, 'spots': 6131, 'sprained': 6132, 'sprang': 6133, 'spread': 6134, 'spreading': 6135, 'spring': 6136, 'springing': 6137, 'springs': 6138, 'spur': 6139, 'spurned': 6140, 'squeamish': 6141, 'st': 6142, 'stability': 6143, 'stables': 6144, 'staff': 6145, 'stage': 6146, 'staggered': 6147, 'staid': 6148, 'staircase': 6149, 'stairs': 6150, 'stamp': 6151, 'stand': 6152, 'standing': 6153, 'stands': 6154, 'stanzas': 6155, 'stared': 6156, 'stared--many': 6157, 'start': 6158, 'started': 6159, 'starting': 6160, 'startled': 6161, 'starve': 6162, 'state': 6163, \"state's\": 6164, 'stated': 6165, 'stateliness': 6166, 'stately': 6167, 'statement': 6168, 'statement--but': 6169, 'statements': 6170, 'states': 6171, 'stating': 6172, 'station': 6173, 'stationed': 6174, 'status': 6175, 'stay': 6176, 'stayed': 6177, 'staying': 6178, 'stays': 6179, 'steadfast': 6180, 'steadfastly': 6181, 'steadily': 6182, 'steadiness': 6183, 'steady': 6184, 'stem': 6185, 'step': 6186, 'stepped': 6187, 'stepping': 6188, 'steps': 6189, 'steward': 6190, 'stiffly': 6191, 'stiffness': 6192, 'stiles': 6193, 'still': 6194, 'stir': 6195, 'stirring': 6196, 'stirs': 6197, 'stockings': 6198, 'stoke': 6199, 'stole': 6200, 'stone': 6201, 'stood': 6202, 'stood--the': 6203, 'stop': 6204, 'stopped': 6205, 'stopping': 6206, 'store': 6207, 'stored': 6208, 'storing': 6209, 'storm': 6210, 'story': 6211, 'stout': 6212, 'stoutly': 6213, 'strange': 6214, 'strangely': 6215, 'strangeness': 6216, 'stranger': 6217, \"stranger's\": 6218, 'strangers': 6219, 'stratagems': 6220, 'straws': 6221, 'stream': 6222, 'street': 6223, 'streets': 6224, 'strength': 6225, 'strenuously': 6226, 'stress': 6227, 'stretch': 6228, 'stretched': 6229, 'stretching': 6230, 'strict': 6231, 'strictest': 6232, 'strictly': 6233, 'strictures': 6234, 'strike': 6235, 'striking': 6236, 'strikingly': 6237, 'striving': 6238, 'stroke': 6239, 'stroll': 6240, 'strong': 6241, 'stronger': 6242, 'strongest': 6243, 'strongly': 6244, 'strongly-marked': 6245, 'struck': 6246, 'struggle': 6247, 'struggled': 6248, 'struggles': 6249, 'struggling': 6250, 'stubbornness': 6251, 'studied': 6252, 'studier': 6253, 'studies': 6254, 'studious': 6255, 'study': 6256, 'studying': 6257, 'stuffy': 6258, 'stumbling': 6259, 'stupid': 6260, 'stupider': 6261, 'stupidity': 6262, 'style': 6263, 'style.--and': 6264, 'style?--for': 6265, 'subject': 6266, 'subjection': 6267, 'subjects': 6268, 'subjoin': 6269, 'submit': 6270, 'submitted': 6271, 'subscribe': 6272, 'subsequent': 6273, 'subsided': 6274, 'subsist': 6275, 'subsisted': 6276, 'subsisting': 6277, 'substance': 6278, 'substantial': 6279, 'substitute': 6280, 'succeed': 6281, 'succeeded': 6282, 'succeeding': 6283, 'succeeds': 6284, 'success': 6285, 'success--no': 6286, 'successful': 6287, 'successfully': 6288, 'succession': 6289, 'successively': 6290, 'successor': 6291, 'such': 6292, 'sudden': 6293, 'suddenly': 6294, 'suddenness': 6295, 'suffer': 6296, 'suffered': 6297, 'sufferer': 6298, 'suffering': 6299, 'sufferings': 6300, 'suffers': 6301, 'sufficient': 6302, 'sufficiently': 6303, 'suggest': 6304, 'suggested': 6305, 'suggesting': 6306, 'suggestion': 6307, 'suit': 6308, 'suitable': 6309, 'suitableness': 6310, 'suited': 6311, 'suiting': 6312, 'sum': 6313, 'summer': 6314, 'summon': 6315, 'summoned': 6316, 'summons': 6317, 'sunday': 6318, 'sunk': 6319, 'super-excellent': 6320, 'supercilious': 6321, 'superciliousness': 6322, 'superintended': 6323, 'superintendence': 6324, 'superintends': 6325, 'superior': 6326, 'superiority': 6327, 'superlatively': 6328, 'superseded': 6329, 'supper': 6330, 'supplication': 6331, 'supplied': 6332, 'supply': 6333, 'supplying': 6334, 'support': 6335, 'supported': 6336, 'suppose': 6337, 'supposed': 6338, 'supposing': 6339, 'supposition': 6340, 'suppositions': 6341, 'suppress': 6342, 'suppressed': 6343, 'sure': 6344, 'surely': 6345, 'surest': 6346, 'surmise': 6347, 'surmises': 6348, 'surmount': 6349, 'surpass': 6350, 'surpassing': 6351, 'surprise': 6352, 'surprise--all': 6353, 'surprised': 6354, 'surprised--so': 6355, 'surrounded': 6356, 'surrounding': 6357, 'survey': 6358, 'surveying': 6359, 'survive': 6360, 'survived': 6361, 'survivor': 6362, 'susceptibility': 6363, 'suspect': 6364, 'suspected': 6365, 'suspecting': 6366, 'suspects': 6367, 'suspend': 6368, 'suspended': 6369, 'suspense': 6370, 'suspicion': 6371, 'suspicions': 6372, 'suspicious': 6373, 'sustained': 6374, 'swallowed': 6375, 'swamp': 6376, 'sweet': 6377, 'sweet-tempered': 6378, 'sweetest': 6379, 'sweetest-tempered': 6380, 'sweetness': 6381, 'swell': 6382, 'swelled': 6383, 'swelling': 6384, 'syllable': 6385, 'syllables': 6386, 'symmetry': 6387, 'sympathise': 6388, 'symptom': 6389, 'symptoms': 6390, 'synonymous': 6391, 'synonymously': 6392, 'table': 6393, 'table--nor': 6394, 'tables': 6395, 'tacit': 6396, 'taciturn': 6397, 'tackle': 6398, 'take': 6399, 'taken': 6400, 'takes': 6401, 'taking': 6402, 'talent': 6403, 'talents': 6404, 'talk': 6405, 'talked': 6406, 'talker': 6407, 'talking': 6408, 'talks': 6409, 'tall': 6410, 'tall!--oh': 6411, 'taller': 6412, 'tallest': 6413, 'tanned': 6414, 'taste': 6415, 'tastes': 6416, 'taught': 6417, 'tax': 6418, 'taxes': 6419, 'tea': 6420, 'tea-things': 6421, 'tea-time': 6422, 'teach': 6423, 'teaching': 6424, 'tear': 6425, 'tears': 6426, 'tease': 6427, 'teased': 6428, 'teasing': 6429, 'tedious': 6430, 'teeth': 6431, 'tell': 6432, 'telling': 6433, 'tells': 6434, 'temper': 6435, 'tempered': 6436, 'tempers': 6437, 'temporary': 6438, 'tempt': 6439, 'temptation': 6440, 'temptations': 6441, 'tempted': 6442, 'ten': 6443, 'tenant': 6444, 'tenants': 6445, 'tend': 6446, 'tendency': 6447, 'tender': 6448, 'tenderly': 6449, 'tenderness': 6450, 'tenor': 6451, 'tens': 6452, 'tent': 6453, 'tents': 6454, 'term': 6455, 'termed': 6456, 'termination': 6457, 'terms': 6458, 'terrific': 6459, 'test': 6460, 'testified': 6461, 'testifying': 6462, 'testimony': 6463, 'tete-a-tete': 6464, 'than': 6465, 'thank': 6466, 'thanked': 6467, 'thankful': 6468, 'thankfully': 6469, 'thankfulness': 6470, 'thanking': 6471, 'thanks': 6472, 'that': 6473, 'the': 6474, 'theatre': 6475, 'theatres': 6476, 'their': 6477, 'theirs': 6478, 'them': 6479, 'them--by': 6480, 'themselves': 6481, 'then': 6482, 'then--but': 6483, 'then--some': 6484, 'then--supposing': 6485, 'thence': 6486, 'there': 6487, \"there's\": 6488, 'there--i': 6489, 'there.--yours': 6490, 'thereby': 6491, 'therefore': 6492, 'therefore--i': 6493, 'therein': 6494, 'thereupon': 6495, 'these': 6496, 'they': 6497, 'thin': 6498, 'thing': 6499, 'things': 6500, 'think': 6501, 'thinking': 6502, 'thinks': 6503, 'third': 6504, 'thirdly': 6505, 'thirdly--which': 6506, 'thirteen': 6507, 'thirty': 6508, 'this': 6509, 'this--though': 6510, 'thither': 6511, 'thither--for': 6512, 'thorough': 6513, 'thorough-bass': 6514, 'thoroughly': 6515, 'those': 6516, 'though': 6517, 'thought': 6518, 'thought--re-considering': 6519, 'thoughtful': 6520, 'thoughtfulness': 6521, 'thoughtless': 6522, 'thoughtlessness': 6523, 'thoughts': 6524, 'thousand': 6525, 'threadbare': 6526, 'threatened': 6527, 'threats': 6528, 'three': 6529, 'three--very': 6530, 'three-and-twenty': 6531, 'threw': 6532, 'throat': 6533, 'through': 6534, 'throughout': 6535, 'throw': 6536, 'throwing': 6537, 'thrown': 6538, 'thursday': 6539, 'thus': 6540, 'thwarted': 6541, 'tickets': 6542, 'tide': 6543, 'tidings': 6544, 'till': 6545, 'time': 6546, 'timed': 6547, 'times': 6548, 'tired': 6549, 'tires': 6550, 'tiresome': 6551, 'tithes': 6552, 'title': 6553, 'to': 6554, 'to----you': 6555, 'to--but': 6556, 'to--she': 6557, 'to-day': 6558, 'to-morrow': 6559, 'to-night': 6560, 'together': 6561, 'together--and': 6562, 'toilette': 6563, 'token': 6564, 'told': 6565, 'told--the': 6566, 'tolerable': 6567, 'tolerably': 6568, 'tone': 6569, 'tongue': 6570, 'tongues': 6571, 'too': 6572, 'too!)': 6573, 'too--for': 6574, 'took': 6575, 'top': 6576, 'topic': 6577, 'topics': 6578, 'torment': 6579, 'tormenting': 6580, 'tortured': 6581, 'total': 6582, 'totally': 6583, 'touched': 6584, 'tour': 6585, 'toward': 6586, 'towards': 6587, 'town': 6588, 'town--and': 6589, 'trace': 6590, 'traced': 6591, 'traces': 6592, 'tractable': 6593, 'trade': 6594, 'trademark': 6595, 'tradesman': 6596, \"tradesman's\": 6597, 'train': 6598, 'trait': 6599, 'tranquil': 6600, 'tranquillity': 6601, 'tranquilly': 6602, 'transactions': 6603, 'transcribe': 6604, 'transcription': 6605, 'transferred': 6606, 'transient': 6607, 'transition': 6608, 'transpired': 6609, 'transport': 6610, 'transports': 6611, 'travelled': 6612, 'travellers': 6613, 'travelling': 6614, 'treasure': 6615, \"treasure.'\": 6616, 'treasured': 6617, 'treat': 6618, 'treated': 6619, 'treating': 6620, 'treatment': 6621, 'trees': 6622, 'tremble': 6623, 'trembled': 6624, 'trembling': 6625, 'tremblings': 6626, 'trepidation': 6627, 'trespass': 6628, 'trial': 6629, 'trials': 6630, 'tribute': 6631, 'tricks': 6632, 'tried': 6633, 'tries': 6634, 'trifle': 6635, 'trifled': 6636, 'trifling': 6637, 'trim': 6638, 'trimming': 6639, 'triumph': 6640, 'triumphant': 6641, 'triumphantly': 6642, 'triumphing': 6643, 'troop': 6644, 'trouble': 6645, 'troublesome': 6646, 'troubling': 6647, 'trout': 6648, 'true': 6649, 'truest': 6650, 'truly': 6651, 'trunk': 6652, 'trunks': 6653, 'trust': 6654, 'trusted': 6655, 'trusting': 6656, 'truth': 6657, 'try': 6658, 'trying': 6659, 'tuesday': 6660, 'tumult': 6661, 'turn': 6662, 'turn--and': 6663, 'turned': 6664, 'turning': 6665, 'turnpike-road': 6666, 'turnpikes': 6667, 'turns': 6668, 'twelve': 6669, 'twelvemonth': 6670, \"twelvemonth's\": 6671, 'twelvemonth--she': 6672, 'twenty': 6673, 'twenty-four': 6674, 'twenty-seven': 6675, 'twice': 6676, 'two': 6677, 'types': 6678, 'u.s': 6679, 'uglier': 6680, 'ugly': 6681, 'ultimately': 6682, 'unabashed': 6683, 'unabated': 6684, 'unable': 6685, 'unaccountable': 6686, 'unacknowledged': 6687, 'unacquainted': 6688, 'unaffected': 6689, 'unaffectedly': 6690, 'unallied': 6691, 'unalloyed': 6692, 'unalterable': 6693, 'unanswerable': 6694, 'unappeasable': 6695, 'unassailed': 6696, 'unassuming': 6697, 'unattended': 6698, 'unavailing': 6699, 'unavoidable': 6700, 'unavoidably': 6701, 'unaware': 6702, 'unbecoming': 6703, 'unbending': 6704, 'unblemished': 6705, 'uncertain': 6706, 'uncertainty': 6707, 'unchanged': 6708, 'uncivil': 6709, 'uncle': 6710, \"uncle's\": 6711, 'uncles': 6712, 'uncomfortable': 6713, 'uncommon': 6714, 'uncommonly': 6715, 'uncompanionable': 6716, 'unconcern': 6717, 'unconcerned': 6718, 'unconnected': 6719, 'unconsciously': 6720, 'uncontrolled': 6721, 'undeceive': 6722, 'undecided': 6723, 'under': 6724, 'undergone': 6725, 'understand': 6726, 'understanding': 6727, 'understanding--though': 6728, 'understood': 6729, 'undertaken': 6730, 'undertaking': 6731, 'undervalued': 6732, 'undervaluing': 6733, 'undeserved': 6734, 'undeserving': 6735, 'undetermined': 6736, 'undiminished': 6737, 'undo': 6738, 'undone': 6739, 'undoubted': 6740, 'undoubtedly': 6741, 'undutiful': 6742, 'uneasiness': 6743, 'uneasy': 6744, 'uneasy--a': 6745, 'unembarrassed': 6746, 'unenforceability': 6747, 'unequal': 6748, 'unequally': 6749, 'unexampled': 6750, 'unexpected': 6751, 'unexpected--“for': 6752, 'unexpectedly': 6753, 'unfavourable': 6754, 'unfavourably': 6755, 'unfeeling': 6756, 'unfelt': 6757, 'unfit': 6758, 'unfold': 6759, 'unfolded': 6760, 'unfolding': 6761, 'unforgiving': 6762, 'unfortunate': 6763, 'unfortunate--but': 6764, 'unfortunately': 6765, 'unfrequently': 6766, 'ungenerous': 6767, 'ungovernable': 6768, 'ungracious': 6769, 'ungraciousness': 6770, 'unguarded': 6771, 'unhappily': 6772, 'unhappiness': 6773, 'unhappy': 6774, 'unheard': 6775, 'uniform': 6776, 'uniformity': 6777, 'uniformly': 6778, 'unimportant': 6779, 'unintelligible': 6780, 'union': 6781, 'unite': 6782, 'united': 6783, 'uniting': 6784, 'universal': 6785, 'universally': 6786, 'universities': 6787, 'unjust': 6788, 'unjust--anything': 6789, 'unjustifiable': 6790, 'unjustly': 6791, 'unkindness': 6792, 'unknowingly': 6793, 'unknown': 6794, 'unless': 6795, 'unlike': 6796, 'unlikely': 6797, 'unlink': 6798, 'unluckily': 6799, 'unlucky': 6800, 'unmarked': 6801, 'unmoved': 6802, 'unnatural': 6803, 'unnaturally': 6804, 'unnecessarily': 6805, 'unnecessary': 6806, 'unpardonable': 6807, 'unpleasant': 6808, 'unpleasantly': 6809, 'unpleasing': 6810, 'unprepared': 6811, 'unpretending': 6812, 'unprincipled': 6813, 'unprofitable': 6814, 'unprotected': 6815, 'unqualified': 6816, 'unquestionably': 6817, 'unreasonable': 6818, 'unreasonably': 6819, 'unreserve': 6820, 'unreserved': 6821, 'unrestrained': 6822, 'unseldom': 6823, 'unsettled': 6824, 'unshackled': 6825, 'unshaken': 6826, 'unsocial': 6827, 'unsolicited': 6828, 'unstudied': 6829, 'unsubdued': 6830, 'unsuccessfully': 6831, 'unsuitable': 6832, 'unsuspicious': 6833, 'untamed': 6834, 'untidy': 6835, 'until': 6836, 'untinctured': 6837, 'untitled--families': 6838, 'untouched': 6839, 'unusual': 6840, 'unvarying': 6841, 'unwearying': 6842, 'unwelcome': 6843, 'unwell': 6844, 'unwilling': 6845, 'unwillingly': 6846, 'unwillingness': 6847, 'unworthily': 6848, 'unworthy': 6849, 'up': 6850, 'up--though': 6851, 'upbraided': 6852, 'upbraiding': 6853, 'updated': 6854, 'upon': 6855, 'upper': 6856, 'uppermost': 6857, 'uproar': 6858, 'upstart': 6859, 'urged': 6860, 'urgent': 6861, 'us': 6862, 'use': 6863, 'used': 6864, 'useful': 6865, 'useless': 6866, 'uselessly': 6867, 'user': 6868, 'using': 6869, 'usual': 6870, 'usually': 6871, 'ut': 6872, 'utf-8': 6873, 'utmost': 6874, 'utter': 6875, 'uttered': 6876, 'utterly': 6877, 'vacancy': 6878, 'vacant': 6879, 'vague': 6880, 'vain': 6881, 'valid': 6882, 'valley': 6883, 'valuable': 6884, 'value': 6885, 'valued': 6886, 'valued--that': 6887, 'valueless': 6888, 'vanilla': 6889, 'vanish': 6890, 'vanished': 6891, 'vanity': 6892, \"variance.--'there\": 6893, 'variation': 6894, 'varied': 6895, 'varieties': 6896, 'variety': 6897, 'various': 6898, 'vary': 6899, 'varying': 6900, 'vast': 6901, 'vastly': 6902, 'vehemence': 6903, 'veneration': 6904, 'venison': 6905, 'vent': 6906, 'venting': 6907, 'venture': 6908, 'ventured': 6909, 'venturing': 6910, 'veracity': 6911, 'verdure': 6912, 'verily': 6913, 'verses': 6914, 'version': 6915, 'very': 6916, 'vestibule': 6917, 'vex': 6918, 'vexation': 6919, 'vexations': 6920, 'vexatious': 6921, 'vexed': 6922, 'vexing': 6923, 'vice': 6924, 'vices': 6925, 'vicinity': 6926, 'vicious': 6927, 'victim': 6928, 'victory': 6929, 'view': 6930, 'viewed': 6931, 'viewing': 6932, 'views': 6933, 'vigorously': 6934, 'vigour': 6935, 'village': 6936, 'villainous': 6937, 'vindication': 6938, 'vingt-un': 6939, 'violated': 6940, 'violates': 6941, 'violation': 6942, 'violence': 6943, 'violent': 6944, 'violently': 6945, 'virtue': 6946, 'virus': 6947, 'visible': 6948, 'visit': 6949, 'visited': 6950, 'visiting': 6951, 'visitor': 6952, 'visitors': 6953, 'visits': 6954, 'vivacity': 6955, 'vogue': 6956, 'voice': 6957, 'void': 6958, 'volatility': 6959, 'volubility': 6960, 'volume': 6961, 'voluntarily': 6962, 'voluntary': 6963, 'volunteer': 6964, 'volunteers': 6965, 'vouch': 6966, 'vouchsafed': 6967, 'vow': 6968, 'vows': 6969, 'vulgar': 6970, 'vulgarity': 6971, 'w': 6972, 'wait': 6973, 'waited': 6974, 'waiter': 6975, 'waiting': 6976, 'waiting-woman': 6977, 'waived': 6978, 'waking': 6979, 'walk': 6980, 'walked': 6981, 'walker': 6982, 'walking': 6983, 'walks': 6984, 'wander': 6985, 'wandered': 6986, 'wandering': 6987, 'want': 6988, 'wanted': 6989, 'wanting': 6990, 'wantonly': 6991, 'wants': 6992, 'war': 6993, 'ward': 6994, 'warded': 6995, 'warehouses': 6996, 'warm': 6997, 'warmest': 6998, 'warmly': 6999, 'warmth': 7000, 'warn': 7001, 'warned': 7002, 'warrant': 7003, 'warranties': 7004, 'warranty': 7005, 'warwick': 7006, 'was': 7007, 'was--have': 7008, 'waste': 7009, 'wasting': 7010, 'watch': 7011, 'watched': 7012, 'watches': 7013, 'watchful': 7014, 'watchfulness': 7015, 'watching': 7016, 'water': 7017, 'water-plant': 7018, 'watering-place': 7019, \"watson's\": 7020, 'wave': 7021, 'wavered': 7022, 'wavering': 7023, 'way': 7024, 'way--teaching': 7025, 'ways': 7026, 'ways--seen': 7027, 'ways--with': 7028, 'we': 7029, 'weak': 7030, 'weak-spirited': 7031, 'weakened': 7032, 'weakest': 7033, 'weakness': 7034, 'weaknesses': 7035, 'wealth': 7036, 'wear': 7037, 'wearied': 7038, 'wearisome': 7039, 'wears': 7040, 'weary': 7041, 'weather': 7042, 'web': 7043, 'webbs': 7044, 'wedding': 7045, 'wednesday': 7046, 'week': 7047, \"week,'\": 7048, 'weeks': 7049, 'weep': 7050, 'weighed': 7051, 'weight': 7052, 'weighty': 7053, 'welcome': 7054, 'welcomed': 7055, 'welcoming': 7056, 'welfare': 7057, 'well': 7058, 'well--and': 7059, 'well-bred': 7060, 'well-doing': 7061, 'well-educated': 7062, 'well-grown': 7063, 'well-informed': 7064, 'well-known': 7065, 'well-wisher': 7066, 'went': 7067, 'went--and': 7068, 'were': 7069, 'west': 7070, 'westerham': 7071, 'wet': 7072, 'what': 7073, \"what's-his-name\": 7074, 'what--something': 7075, 'whatever': 7076, 'whatsoever': 7077, 'when': 7078, 'whence': 7079, 'whenever': 7080, 'where': 7081, 'wherever': 7082, 'whether': 7083, 'which': 7084, 'whichever': 7085, 'while': 7086, 'whilst': 7087, 'whims': 7088, 'whimsical': 7089, 'whisper': 7090, 'whispered': 7091, 'whispering': 7092, 'whist': 7093, 'white': 7094, 'whither': 7095, 'who': 7096, 'whole': 7097, 'wholly': 7098, 'whom': 7099, 'whose': 7100, 'why': 7101, 'wickedest': 7102, 'wickedness': 7103, 'wickham': 7104, \"wickham's\": 7105, 'wickham--when': 7106, \"wickham.'\": 7107, 'wide': 7108, 'widely': 7109, 'widest': 7110, 'widow': 7111, 'wife': 7112, \"wife's\": 7113, 'wild': 7114, 'wilderness': 7115, 'wilful': 7116, 'wilfully': 7117, 'will': 7118, 'willfully': 7119, 'william': 7120, \"william's\": 7121, 'willing': 7122, 'willingly': 7123, 'willingness': 7124, 'win': 7125, 'wind': 7126, 'winding': 7127, 'windings': 7128, 'window': 7129, 'window--she': 7130, 'windows': 7131, 'wine': 7132, 'wink': 7133, 'winking': 7134, 'winter': 7135, 'wisdom': 7136, 'wise': 7137, 'wisely': 7138, 'wiser': 7139, 'wisest': 7140, 'wish': 7141, 'wished': 7142, 'wished-for': 7143, 'wishes': 7144, 'wishing': 7145, 'wit': 7146, \"wit.'\": 7147, 'with': 7148, 'with:--“it': 7149, 'withdrawing': 7150, 'withdrawn': 7151, 'withdrew': 7152, 'withheld': 7153, 'within': 7154, 'without': 7155, 'withstood': 7156, 'witness': 7157, 'witnessed': 7158, 'witnessing': 7159, 'wits--and': 7160, 'witticisms': 7161, 'witty': 7162, 'wives': 7163, 'woe': 7164, 'woman': 7165, \"woman's\": 7166, 'womanly': 7167, 'women': 7168, \"women's\": 7169, 'won': 7170, \"won't\": 7171, 'wonder': 7172, 'wondered': 7173, 'wonderful': 7174, 'wonderfully': 7175, 'wondering': 7176, 'wonders': 7177, 'wood': 7178, 'woods': 7179, 'woody': 7180, 'word': 7181, 'words': 7182, 'wore': 7183, 'work': 7184, 'work-bags': 7185, 'worked': 7186, 'works': 7187, 'world': 7188, 'worldly': 7189, 'worn': 7190, 'worse': 7191, 'worst': 7192, 'worth': 7193, 'worthless': 7194, 'worthlessness': 7195, 'worthy': 7196, 'would': 7197, 'would--i': 7198, 'wound': 7199, 'wounded': 7200, 'wounding': 7201, 'wretched': 7202, 'wretchedly': 7203, 'wretchedness': 7204, 'write': 7205, 'writer': 7206, 'writes': 7207, 'writing': 7208, 'writing-table': 7209, 'written': 7210, 'wrong': 7211, 'wrote': 7212, 'www.gutenberg.org': 7213, 'yards': 7214, 'yawn': 7215, 'yawned': 7216, 'yawning': 7217, 'year': 7218, 'years': 7219, \"years'\": 7220, 'yes': 7221, 'yes!--he': 7222, 'yes!--if': 7223, 'yes!--of': 7224, 'yes!--that': 7225, 'yes--_that': 7226, 'yes--but': 7227, 'yes--i': 7228, 'yes--if': 7229, 'yes--it': 7230, 'yes--the': 7231, 'yes;--there': 7232, 'yesterday': 7233, 'yet': 7234, 'yield': 7235, 'yielded': 7236, 'yielding': 7237, 'yielding--certainly': 7238, 'york': 7239, 'you': 7240, 'you!)': 7241, \"you'll\": 7242, 'you--and': 7243, 'you--be': 7244, 'you--but': 7245, 'you--had': 7246, 'you--how': 7247, 'you--mr': 7248, 'young': 7249, 'younge': 7250, 'younger': 7251, 'youngest': 7252, 'your': 7253, 'yours': 7254, 'yourself': 7255, 'yourself--and': 7256, 'yourselves': 7257, 'youth': 7258, 'youths': 7259, '\\ufeffthe': 7260}\n"
     ],
     "output_type": "stream"
    }
   ],
   "source": [
    "def clean_words(input_str):\n",
    "    punctuation = '.,;:\"!?”“_-'\n",
    "    word_list = input_str.lower().replace('\\n', ' ').split()\n",
    "    word_list = [word.strip(punctuation) for word in word_list]\n",
    "    return word_list\n",
    "\n",
    "words_in_line = clean_words(line)\n",
    "print(words_in_line)\n",
    "\n",
    "word_list = sorted(set(clean_words(text)))\n",
    "word2index_dict = {word: i for (i, word) in enumerate(word_list)}\n",
    "print(len(word2index_dict), word2index_dict['impossible'])\n",
    "print(word2index_dict)"
   ],
   "metadata": {
    "collapsed": false,
    "pycharm": {
     "name": "#%%\n",
     "is_executing": false
    }
   }
  },
  {
   "cell_type": "code",
   "execution_count": 30,
   "outputs": [
    {
     "name": "stdout",
     "text": [
      " 0 3394 impossible\n 1 4305 mr\n 2  813 bennet\n 3 3394 impossible\n 4 7078 when\n 5 3315 i\n 6  415 am\n 7 4436 not\n 8  239 acquainted\n 9 7148 with\n10 3215 him\ntorch.Size([11, 7261])\n"
     ],
     "output_type": "stream"
    }
   ],
   "source": [
    "# One hot encoding\n",
    "word_tensor = torch.zeros(len(words_in_line), len(word2index_dict))\n",
    "for i, word in enumerate(words_in_line):\n",
    "    word_index = word2index_dict[word]\n",
    "    word_tensor[i][word_index] = 1  \n",
    "    print('{:2} {:4} {}'.format(i, word_index, word))\n",
    "    \n",
    "print(word_tensor.shape)"
   ],
   "metadata": {
    "collapsed": false,
    "pycharm": {
     "name": "#%%\n",
     "is_executing": false
    }
   }
  },
  {
   "cell_type": "markdown",
   "source": [
    "### Images"
   ],
   "metadata": {
    "collapsed": false,
    "pycharm": {
     "name": "#%% md\n"
    }
   }
  },
  {
   "cell_type": "code",
   "execution_count": 31,
   "outputs": [
    {
     "name": "stdout",
     "text": [
      "(720, 1280, 3)\n"
     ],
     "output_type": "stream"
    }
   ],
   "source": [
    "import imageio\n",
    "image_arr = imageio.imread('../data/p1ch3/bobby.jpg')\n",
    "print(image_arr.shape)"
   ],
   "metadata": {
    "collapsed": false,
    "pycharm": {
     "name": "#%%\n",
     "is_executing": false
    }
   }
  },
  {
   "cell_type": "code",
   "execution_count": 32,
   "outputs": [
    {
     "name": "stdout",
     "text": [
      "torch.Size([720, 1280, 3])\ntorch.Size([3, 1280, 720])\n"
     ],
     "output_type": "stream"
    }
   ],
   "source": [
    "img = torch.from_numpy(image_arr)\n",
    "print(img.shape)\n",
    "out = torch.transpose(img, 0, 2)\n",
    "print(out.shape)"
   ],
   "metadata": {
    "collapsed": false,
    "pycharm": {
     "name": "#%%\n",
     "is_executing": false
    }
   }
  },
  {
   "cell_type": "code",
   "execution_count": 33,
   "outputs": [],
   "source": [
    "import os\n",
    "batch_size = 100\n",
    "batch = torch.zeros(3, 3, 256, 256, dtype=torch.uint8)\n",
    "data_dir = '../data/p1ch3/image-cats/'\n",
    "filenames = [name for name in os.listdir(data_dir) if os.path.splitext(name)=='.png']\n",
    "for i, filename in enumerate(filenames):\n",
    "    img_arr = imageio.imread(filename)\n",
    "    batch[i] = torch.transpose(torch.from_numpy(img_arr), 0, 2)\n",
    "    "
   ],
   "metadata": {
    "collapsed": false,
    "pycharm": {
     "name": "#%%\n",
     "is_executing": false
    }
   }
  },
  {
   "cell_type": "code",
   "execution_count": 34,
   "outputs": [],
   "source": [
    "batch = batch.float()"
   ],
   "metadata": {
    "collapsed": false,
    "pycharm": {
     "name": "#%%\n",
     "is_executing": false
    }
   }
  },
  {
   "cell_type": "code",
   "execution_count": 35,
   "outputs": [],
   "source": [
    "batch /= 255.0"
   ],
   "metadata": {
    "collapsed": false,
    "pycharm": {
     "name": "#%%\n",
     "is_executing": false
    }
   }
  },
  {
   "cell_type": "code",
   "execution_count": 36,
   "outputs": [],
   "source": [
    "n_channels = batch.shape[1]\n",
    "for c in range(n_channels):\n",
    "    mean = torch.mean(batch[:, c])\n",
    "    std = torch.std(batch[:, c])\n",
    "    batch[:, c] = (batch[:, c] - mean) / std\n",
    "    \n",
    "    "
   ],
   "metadata": {
    "collapsed": false,
    "pycharm": {
     "name": "#%%\n",
     "is_executing": false
    }
   }
  },
  {
   "cell_type": "markdown",
   "source": [
    "### Volumetric Data"
   ],
   "metadata": {
    "collapsed": false,
    "pycharm": {
     "name": "#%% md\n"
    }
   }
  },
  {
   "cell_type": "code",
   "execution_count": 38,
   "outputs": [
    {
     "name": "stdout",
     "text": [
      "Reading DICOM (examining files): ",
      "1/99 files (1.0%)",
      "\b\b\b\b\b\b\b\b\b\b\b\b\b\b\b\b\b99/99 files (100.0%)",
      "\n",
      "  Found 1 correct series.\n",
      "Reading DICOM (loading data): ",
      "99/99  (100.0%)",
      "\n",
      "(99, 512, 512)\n"
     ],
     "output_type": "stream"
    }
   ],
   "source": [
    "import imageio\n",
    "\n",
    "dir_path = '../dlwpt-code/data/p1ch4/volumetric-dicom/2-LUNG 3.0  B70f-04083'\n",
    "vol_arr = imageio.volread(dir_path, 'DICOM')\n",
    "print(vol_arr.shape)"
   ],
   "metadata": {
    "collapsed": false,
    "pycharm": {
     "name": "#%%\n",
     "is_executing": false
    }
   }
  },
  {
   "cell_type": "code",
   "execution_count": 39,
   "outputs": [
    {
     "name": "stdout",
     "text": [
      "torch.Size([1, 512, 512, 99])\n"
     ],
     "output_type": "stream"
    }
   ],
   "source": [
    "vol = torch.from_numpy(vol_arr).float()\n",
    "vol = torch.transpose(vol, 0, 2)\n",
    "vol = torch.unsqueeze(vol, 0)\n",
    "print(vol.shape)"
   ],
   "metadata": {
    "collapsed": false,
    "pycharm": {
     "name": "#%%\n",
     "is_executing": false
    }
   }
  }
 ],
 "metadata": {
  "kernelspec": {
   "display_name": "Python 3",
   "language": "python",
   "name": "python3"
  },
  "language_info": {
   "codemirror_mode": {
    "name": "ipython",
    "version": 2
   },
   "file_extension": ".py",
   "mimetype": "text/x-python",
   "name": "python",
   "nbconvert_exporter": "python",
   "pygments_lexer": "ipython2",
   "version": "2.7.6"
  },
  "pycharm": {
   "stem_cell": {
    "cell_type": "raw",
    "source": [],
    "metadata": {
     "collapsed": false
    }
   }
  }
 },
 "nbformat": 4,
 "nbformat_minor": 0
}