{
 "cells": [
  {
   "cell_type": "markdown",
   "metadata": {
    "collapsed": true,
    "pycharm": {
     "name": "#%% md\n"
    }
   },
   "source": [
    "#### Cancer Detection\n",
    "Split into smaller problems\n",
    "\n",
    "- CT scans: 3D array of single channel data\n",
    "- Voxel: 3D equivalent to pixel\n",
    "\n",
    "#### [The Luna16 Dataset](https://luna16.grand-challenge.org/download/) (is big)\n",
    "\n",
    "- Raw CT files (.raw)\n",
    "- Metadata (.mhd)\n",
    "\n",
    "Combine the two and create a 3D array, and the transformation matrix to convert from patient\n",
    "coordinate system to index, row, column\n",
    "\n",
    "- candidates.csv: information about lumps that are potentially nodules. (0 is not nodule, 1 is)\n",
    "- annotations.csv: information about lumps that are potentially nodules. (data about the candidates: seriesuid,coordX,coordY,coordZ,diameter_m)\n",
    "\n",
    "#### Validation Set:\n",
    "Sort nodules by size, pick every Nth for validation set\n",
    "Locations on two .csvs don't line up exactly soo they need lining up.\n",
    "\n",
    "- Conversion from voxel to xyz\n",
    "    - Flip the coordinates from IRC to CRI, to align with XYZ.\n",
    "    - Scale the indices with the voxel sizes.\n",
    "    - Matrix-multiply with the directions matrix, using @ in Python.\n",
    "    - Add the offset for the origin"
   ]
  },
  {
   "cell_type": "code",
   "source": [
    "from  cancer_detector.dsets import getCandidateInfoList, getCt, LunaDataset"
   ],
   "metadata": {
    "collapsed": false,
    "pycharm": {
     "name": "#%%\n"
    }
   },
   "execution_count": 1,
   "outputs": []
  }
 ],
 "metadata": {
  "kernelspec": {
   "display_name": "Python 3",
   "language": "python",
   "name": "python3"
  },
  "language_info": {
   "codemirror_mode": {
    "name": "ipython",
    "version": 2
   },
   "file_extension": ".py",
   "mimetype": "text/x-python",
   "name": "python",
   "nbconvert_exporter": "python",
   "pygments_lexer": "ipython2",
   "version": "2.7.6"
  }
 },
 "nbformat": 4,
 "nbformat_minor": 0
}